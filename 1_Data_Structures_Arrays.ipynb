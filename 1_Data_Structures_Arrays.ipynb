{
 "cells": [
  {
   "cell_type": "markdown",
   "id": "d9a0d289-68d9-4144-b52f-59cd603a354d",
   "metadata": {},
   "source": [
    "# [1] Data Structures: Arrays (!sic) in Python"
   ]
  },
  {
   "cell_type": "markdown",
   "id": "a1b788f0-91dc-4eb8-8d01-7e1baae1ef61",
   "metadata": {},
   "source": [
    "## -> Array (not list!) created by importing array module:\n",
    "array(data_type, value_list) is used to create an array with data type and value list specified in its arguments. \\\n",
    "\\\n",
    "**Advantages**:\n",
    "- arrays save memory when dealing with huge number of float values (C-implementation)\n",
    "- nice implementation of file-input"
   ]
  },
  {
   "cell_type": "code",
   "execution_count": 3,
   "id": "3f88c0da-38ad-4722-8f34-4a34b52ea636",
   "metadata": {},
   "outputs": [
    {
     "data": {
      "text/plain": [
       "array('d', [0.0, 1.0, 2.0, 3.0, 4.0, 5.0, 6.0, 7.0, 8.0, 9.0])"
      ]
     },
     "execution_count": 3,
     "metadata": {},
     "output_type": "execute_result"
    }
   ],
   "source": [
    "from array import array\n",
    "a = array('d',(i for i in range(10)))\n",
    "a"
   ]
  },
  {
   "cell_type": "code",
   "execution_count": 4,
   "id": "ab6767e8-47ca-4d4a-9909-4261bc590420",
   "metadata": {},
   "outputs": [
    {
     "data": {
      "text/plain": [
       "0.0"
      ]
     },
     "execution_count": 4,
     "metadata": {},
     "output_type": "execute_result"
    }
   ],
   "source": [
    "a[0]"
   ]
  },
  {
   "cell_type": "markdown",
   "id": "a54240ac-34a8-401d-93f0-576adadd371f",
   "metadata": {},
   "source": [
    "## -> NumPy arrays created from Python-lists:"
   ]
  },
  {
   "cell_type": "code",
   "execution_count": 2,
   "id": "2c33b769-0d7c-4bd8-ad60-ffc09a9ff0c2",
   "metadata": {},
   "outputs": [
    {
     "data": {
      "text/plain": [
       "array([0, 1, 2, 3])"
      ]
     },
     "execution_count": 2,
     "metadata": {},
     "output_type": "execute_result"
    }
   ],
   "source": [
    "import numpy as np\n",
    "np.array([0,1,2,3])"
   ]
  },
  {
   "cell_type": "code",
   "execution_count": null,
   "id": "331de6fd-6ba8-4bb1-bfb8-4412aa3373c1",
   "metadata": {},
   "outputs": [],
   "source": []
  }
 ],
 "metadata": {
  "kernelspec": {
   "display_name": "Python 3 (ipykernel)",
   "language": "python",
   "name": "python3"
  },
  "language_info": {
   "codemirror_mode": {
    "name": "ipython",
    "version": 3
   },
   "file_extension": ".py",
   "mimetype": "text/x-python",
   "name": "python",
   "nbconvert_exporter": "python",
   "pygments_lexer": "ipython3",
   "version": "3.9.12"
  }
 },
 "nbformat": 4,
 "nbformat_minor": 5
}
