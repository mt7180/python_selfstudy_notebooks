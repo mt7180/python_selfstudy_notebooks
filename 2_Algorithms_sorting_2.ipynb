{
 "cells": [
  {
   "cell_type": "markdown",
   "id": "addc1866-3d57-4271-9cc1-baae784529d1",
   "metadata": {},
   "source": [
    "# [2] Algorithms: More Sorting Algorithms"
   ]
  },
  {
   "cell_type": "markdown",
   "id": "cafc731a",
   "metadata": {},
   "source": [
    "## Tournament min-max-search"
   ]
  },
  {
   "cell_type": "code",
   "execution_count": 11,
   "id": "3e6274a2",
   "metadata": {},
   "outputs": [
    {
     "name": "stdout",
     "output_type": "stream",
     "text": [
      "[0, 9]\n"
     ]
    }
   ],
   "source": [
    "def maxSearch3(A):\n",
    "    index_of_max = 0\n",
    "    for i in range(1, len(A)):\n",
    "        if A[i] > A[index_of_max]:\n",
    "            index_of_max = i\n",
    "    return A[index_of_max]\n",
    "\n",
    "def minSearch3(A):\n",
    "    index_of_min = 0\n",
    "    for i in range(1, len(A)):\n",
    "        if A[i] < A[index_of_min]:\n",
    "            index_of_min = i\n",
    "    return A[index_of_min]\n",
    "\n",
    "def minmaxSearch3(A):\n",
    "    winners = []\n",
    "    loosers = []\n",
    "    for i in range(0, len(A), 2):\n",
    "        if A[i] > A[i+1]:\n",
    "            winners.append(A[i])\n",
    "            loosers.append(A[i+1])\n",
    "        else:\n",
    "            winners.append(A[i+1])\n",
    "            loosers.append(A[i])\n",
    "    return [minSearch3(loosers)] + [maxSearch3(winners)]\n",
    "\n",
    "L = [9,6,4,3,8,1,5,0]\n",
    "print(minmaxSearch3(L))"
   ]
  },
  {
   "cell_type": "markdown",
   "id": "6bdff0bf",
   "metadata": {},
   "source": [
    "## Near-Neighbor Verfahren, basierend auf merge sort"
   ]
  },
  {
   "cell_type": "code",
   "execution_count": 10,
   "id": "ee61ccc2",
   "metadata": {},
   "outputs": [
    {
     "data": {
      "text/plain": [
       "2"
      ]
     },
     "execution_count": 10,
     "metadata": {},
     "output_type": "execute_result"
    }
   ],
   "source": [
    "import math\n",
    "L = [5,9,21,34,36,88,101]\n",
    "\n",
    "def find_elements_with_smallest_difference(array):\n",
    "    \n",
    "    n = len(array)\n",
    "    if n <= 3:\n",
    "        assert n >= 2, \"Error, list length < 2\"\n",
    "        if n == 3: \n",
    "            diff = abs(array[1] - array[2])\n",
    "        else: \n",
    "            diff = -1\n",
    "        return (diff \n",
    "            if diff > 0 and diff < abs(array[0] - array[1])\n",
    "            else abs(array[0] - array[1]))\n",
    "    \n",
    "    pivot_index = n // 2\n",
    "    \n",
    "    diff_left = find_elements_with_smallest_difference(array[:pivot_index])\n",
    "    diff_right = find_elements_with_smallest_difference(array[pivot_index:])\n",
    "    \n",
    "    return diff_left if diff_left < diff_right else diff_right\n",
    "    \n",
    "find_elements_with_smallest_difference(L)"
   ]
  },
  {
   "cell_type": "markdown",
   "id": "2d4bce35",
   "metadata": {},
   "source": [
    "## k-Selection Search\n",
    "### 1. based on bubble_sort"
   ]
  },
  {
   "cell_type": "code",
   "execution_count": 45,
   "id": "c5599c93",
   "metadata": {},
   "outputs": [
    {
     "name": "stdout",
     "output_type": "stream",
     "text": [
      "[13, 2, 6, 7, 9]\n",
      "[13, 9, 2, 6, 7]\n",
      "[13, 9, 7, 2, 6]\n",
      "[13, 9, 7, 6, 2]\n"
     ]
    },
    {
     "data": {
      "text/plain": [
       "6"
      ]
     },
     "execution_count": 45,
     "metadata": {},
     "output_type": "execute_result"
    }
   ],
   "source": [
    "\n",
    "def k_search_bubble(array, k):\n",
    "    \"\"\"input: \n",
    "          array: int list \n",
    "          k:     int, k-th biggest element to be searched\n",
    "       output: int, k-biggest element of array\n",
    "       => O(k)  \n",
    "    \"\"\"\n",
    "    \n",
    "    if k > len(array) - 1: \n",
    "        raise Exception(\"k is > array-length\")\n",
    "    for i in range(k):\n",
    "        for j in range(len(array)-1, i, -1):\n",
    "            if array[j] > array[j-1]:\n",
    "                array[j], array[j-1] = array[j-1], array[j]\n",
    "        print(array)\n",
    "    return array[k-1]\n",
    "\n",
    "L = [2, 6, 7, 13, 9]\n",
    "k_search_bubble(L, 4)"
   ]
  },
  {
   "cell_type": "code",
   "execution_count": 44,
   "id": "ab06d31f",
   "metadata": {},
   "outputs": [
    {
     "data": {
      "text/plain": [
       "[2, 6, 7, 9, 13]"
      ]
     },
     "execution_count": 44,
     "metadata": {},
     "output_type": "execute_result"
    }
   ],
   "source": [
    "def bubble_sort_optimized(array):\n",
    "    \"\"\"most optimized bubble sort algorithm with O(n^2)\n",
    "    (n - 1) + (n - 2) + (n - 3) + … + 2 + 1 = n(n-1)/2 comparisons, \n",
    "    = ½n2 - ½n => O(n^2)\n",
    "    additional flag sorted is set and algorithm is terminated if no\n",
    "    sorting was necessary for the whole inner for-loop.\n",
    "    \"\"\"\n",
    "    sorted = True\n",
    "    for i in range(len(array)):\n",
    "        sorted = True\n",
    "        for j in range(len(array) - 1 - i):\n",
    "            if array[j] > array[j+1]:\n",
    "                array[j], array[j+1] = array[j+1], array[j]\n",
    "                sorted = False\n",
    "        if sorted: break\n",
    "    return array\n",
    "\n",
    "bubble_sort_optimized(L)"
   ]
  },
  {
   "cell_type": "markdown",
   "id": "ec822f34",
   "metadata": {},
   "source": [
    "### 2. k-Selection based on quick_sort"
   ]
  },
  {
   "cell_type": "code",
   "execution_count": 65,
   "id": "acbf1c15",
   "metadata": {},
   "outputs": [
    {
     "name": "stdout",
     "output_type": "stream",
     "text": [
      "[13, 9] [6, 2] 4 2\n",
      "[6] [] 2 1\n",
      "2\n"
     ]
    },
    {
     "data": {
      "text/plain": [
       "[2, 6, 7, 9, 13]"
      ]
     },
     "execution_count": 65,
     "metadata": {},
     "output_type": "execute_result"
    }
   ],
   "source": [
    "\n",
    "def k_search_quick(array, k):\n",
    "    \"\"\"aka: QuickSort\n",
    "       input: \n",
    "          array: int list \n",
    "          k:     int, k-th biggest element to be searched\n",
    "       output: int, k-biggest element of array\n",
    "       => O\n",
    "    \"\"\"\n",
    "    \n",
    "    n = len(array)\n",
    "    if n == 1: \n",
    "        return array[0]\n",
    "    if n<1: raise Exception(\"array too small\")\n",
    "    pivot_index = n // 2\n",
    "    \n",
    "    a_high = []\n",
    "    a_low = []\n",
    "    for i in range(0, n):\n",
    "        if i != pivot_index and array[i] > array[pivot_index]:\n",
    "            a_high.append(array[i])\n",
    "        elif i != pivot_index and array[i] < array[pivot_index]:\n",
    "            a_low.append(array[i])\n",
    "    print(a_high, a_low, k, pivot_index)        \n",
    "    if len(a_high) >= k:\n",
    "        return k_search_quick(a_high, k)\n",
    "    if len(a_high)+1 == k: \n",
    "        return array[pivot_index]\n",
    "    return k_search_quick(a_low, k-pivot_index)\n",
    "    \n",
    "\n",
    "# L = [13, 6, 7, 2, 9, 11, 4, 14, 8, 66, 1, 12, 10]\n",
    "L = [13, 6, 7, 2, 9]\n",
    "print(k_search_quick(L, 4))\n",
    "bubble_sort_optimized(L)"
   ]
  },
  {
   "cell_type": "markdown",
   "id": "125e3d89",
   "metadata": {},
   "source": [
    "## Heap Selection"
   ]
  },
  {
   "cell_type": "markdown",
   "id": "03c33d92",
   "metadata": {},
   "source": [
    "### Functions for Heap Sort\n",
    "\n",
    "* heap_sort(lst)\n",
    " * heapify(lst)\n",
    " * sift_down(lst)\n"
   ]
  },
  {
   "cell_type": "code",
   "execution_count": 6,
   "id": "8b2e3930",
   "metadata": {},
   "outputs": [
    {
     "name": "stdout",
     "output_type": "stream",
     "text": [
      "5 12\n",
      "4 12\n",
      "3 12\n",
      "2 12\n",
      "1 12\n",
      "0 12\n",
      "[66, 14, 12, 13, 9, 11, 4, 2, 8, 6, 1, 7, 10]\n",
      "result:  [1, 2, 4, 6, 7, 8, 9, 10, 11, 12, 13, 14, 66]\n"
     ]
    }
   ],
   "source": [
    "\n",
    "def heap_sort(lst):\n",
    "    n = len(lst)\n",
    "    heapify(lst)\n",
    "    print(lst)\n",
    "    for end in range(n-1, 0, -1):\n",
    "        lst[0], lst[end] = lst[end], lst[0]\n",
    "        sift_down(lst, 0, end - 1)  # end -1, da auf end das geswappte element liegt\n",
    "    return lst\n",
    "\n",
    "def heapify(lst):\n",
    "    \"\"\"stellt mit gegebener Liste einen gueltigen max-Heap her,\n",
    "    die kleinsten Elemente befinden sich unten, das Maximum oben:\n",
    "    geordneter Baum\n",
    "    \"\"\"\n",
    "    n = len(lst)\n",
    "    #(n-2)//2 ist der erste Knoten mit Blättern\n",
    "    for i in range((n - 2)//2, -1, -1):  # -1 da stop exklusive\n",
    "        sift_down(lst, i, n - 1)\n",
    "    \n",
    "def sift_down(lst, start, stop):\n",
    "    \"\"\"kleinere Elemente nach unten sickern lassen,\n",
    "    dabei sind root, child1 und child2 Listenindizes\n",
    "    und end das Ende der unsortierten Liste\n",
    "    \"\"\"\n",
    "    root_index = start\n",
    "    while (root_index * 2 + 1 <= stop):\n",
    "        child1 = root_index * 2 + 1\n",
    "        condition = root_index * 2 + 2\n",
    "        child2 = condition if condition <= stop else None\n",
    "        \n",
    "        if child2 is not None:\n",
    "            condition = lst[child1] > lst[child2]  # max Heap\n",
    "            # condition = lst[child1] < lst[child2]  # min Heap\n",
    "            min_child = child1 if condition else child2\n",
    "        else:\n",
    "            min_child = child1\n",
    "        \n",
    "        if lst[min_child] < lst[root_index]:  # max Heap\n",
    "        # if lst[min_child] < lst[root_index]:  # min Heap\n",
    "            return\n",
    "        lst[root_index], lst[min_child] = lst[min_child], lst[root_index]\n",
    "        root_index = min_child\n",
    "\n",
    "L = [13 ,6 ,7 ,2 ,9 ,11 ,4 , 14, 8, 66, 1, 12, 10]\n",
    "print(\"result: \", heap_sort(L))"
   ]
  },
  {
   "cell_type": "markdown",
   "id": "e212369c",
   "metadata": {},
   "source": [
    "### Functions for heap_select"
   ]
  },
  {
   "cell_type": "code",
   "execution_count": 5,
   "id": "33bea198",
   "metadata": {},
   "outputs": [
    {
     "name": "stdout",
     "output_type": "stream",
     "text": [
      "5 12\n",
      "4 12\n",
      "3 12\n",
      "2 12\n",
      "1 12\n",
      "0 12\n",
      "initial heap:  [66, 14, 12, 13, 9, 11, 4, 2, 8, 6, 1, 7, 10]\n",
      "[14, 13, 12, 10, 9, 11, 4, 2, 8, 6, 1, 7, 66]\n",
      "[13, 10, 12, 8, 9, 11, 4, 2, 7, 6, 1, 14, 66]\n",
      "[12, 10, 11, 8, 9, 1, 4, 2, 7, 6, 13, 14, 66]\n",
      "[11, 10, 6, 8, 9, 1, 4, 2, 7, 12, 13, 14, 66]\n",
      "[10, 9, 6, 8, 7, 1, 4, 2, 11, 12, 13, 14, 66]\n",
      "[9, 8, 6, 2, 7, 1, 4, 10, 11, 12, 13, 14, 66]\n"
     ]
    },
    {
     "data": {
      "text/plain": [
       "10"
      ]
     },
     "execution_count": 5,
     "metadata": {},
     "output_type": "execute_result"
    }
   ],
   "source": [
    "def heap_select(lst, k):\n",
    "    \"\"\" sucht das k - groesste Element\n",
    "    fuer min-Heap Select nur sift_down anpassen!\n",
    "    \"\"\"\n",
    "    n=len(lst)\n",
    "    heapify(lst)\n",
    "    print(\"initial heap: \", lst)\n",
    "    for i in range(k):\n",
    "        lst[0], lst[n-1 -i] = lst[n-1-i], lst[0]\n",
    "        sift_down(lst, 0, n-1-i - 1)  # end -1, da auf end das geswappte element liegt\n",
    "        print(lst)\n",
    "    return lst[len(lst)-k]\n",
    "\n",
    "L = [13 ,6 ,7 ,2 ,9 ,11 ,4 , 14, 8, 66, 1, 12, 10]\n",
    "heap_select(L, 6)"
   ]
  },
  {
   "cell_type": "code",
   "execution_count": null,
   "id": "245f55cc",
   "metadata": {},
   "outputs": [],
   "source": []
  }
 ],
 "metadata": {
  "kernelspec": {
   "display_name": "Python 3 (ipykernel)",
   "language": "python",
   "name": "python3"
  },
  "language_info": {
   "codemirror_mode": {
    "name": "ipython",
    "version": 3
   },
   "file_extension": ".py",
   "mimetype": "text/x-python",
   "name": "python",
   "nbconvert_exporter": "python",
   "pygments_lexer": "ipython3",
   "version": "3.9.12"
  }
 },
 "nbformat": 4,
 "nbformat_minor": 5
}
