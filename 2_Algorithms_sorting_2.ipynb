{
 "cells": [
  {
   "cell_type": "markdown",
   "id": "3e0d4852-9afd-4333-933c-ef56b2ef3618",
   "metadata": {},
   "source": [
    "# [2] Algorithms: More Sorting Algorithms"
   ]
  },
  {
   "cell_type": "markdown",
   "id": "45921d2b",
   "metadata": {},
   "source": [
    "https://www.enjoyalgorithms.com/blog/comparison-of-sorting-algorithms"
   ]
  },
  {
   "cell_type": "markdown",
   "id": "771cb0ee",
   "metadata": {},
   "source": [
    "## Bubble Sort"
   ]
  },
  {
   "cell_type": "code",
   "execution_count": 15,
   "id": "7ddf8afb",
   "metadata": {},
   "outputs": [
    {
     "name": "stdout",
     "output_type": "stream",
     "text": [
      "[1, 9, 7, 3, 10, 13, 15, 8, 12, 19]\n",
      "[1, 7, 3, 9, 10, 13, 8, 12, 15, 19]\n",
      "[1, 3, 7, 9, 10, 8, 12, 13, 15, 19]\n",
      "[1, 3, 7, 9, 8, 10, 12, 13, 15, 19]\n",
      "[1, 3, 7, 8, 9, 10, 12, 13, 15, 19]\n",
      "[1, 3, 7, 8, 9, 10, 12, 13, 15, 19]\n"
     ]
    },
    {
     "data": {
      "text/plain": [
       "[1, 3, 7, 8, 9, 10, 12, 13, 15, 19]"
      ]
     },
     "execution_count": 15,
     "metadata": {},
     "output_type": "execute_result"
    }
   ],
   "source": [
    "def bubble_sort_optimized(array):\n",
    "    \"\"\"most optimized bubble sort algorithm with O(n^2)\n",
    "    (n - 1) + (n - 2) + (n - 3) + … + 2 + 1 = n(n-1)/2 comparisons, \n",
    "    = ½n2 - ½n => O(n^2)\n",
    "    additional flag sorted is set and algorithm is terminated if no\n",
    "    sorting was necessary for the whole inner for-loop.\n",
    "    \"\"\"\n",
    "    sorted = True\n",
    "    for i in range(len(array)):\n",
    "        sorted = True\n",
    "        for j in range(len(array) - 1 - i):\n",
    "            if array[j] > array[j+1]:\n",
    "                array[j], array[j+1] = array[j+1], array[j]\n",
    "                sorted = False\n",
    "        print(array)\n",
    "        if sorted: break\n",
    "    return array\n",
    "L = [19, 1, 9, 7, 3, 10, 13, 15, 8, 12]\n",
    "bubble_sort_optimized(L)"
   ]
  },
  {
   "cell_type": "code",
   "execution_count": 95,
   "id": "c3e4e642",
   "metadata": {},
   "outputs": [
    {
     "name": "stdout",
     "output_type": "stream",
     "text": [
      "[1, 9, 7, 3, 10, 13, 15, 8, 12, 19]\n",
      "[1, 7, 3, 9, 10, 13, 8, 12, 15, 19]\n",
      "[1, 3, 7, 9, 10, 8, 12, 13, 15, 19]\n",
      "[1, 3, 7, 9, 8, 10, 12, 13, 15, 19]\n",
      "[1, 3, 7, 8, 9, 10, 12, 13, 15, 19]\n",
      "[1, 3, 7, 8, 9, 10, 12, 13, 15, 19]\n"
     ]
    }
   ],
   "source": [
    "def bubble_sort_revers_outer_loop(array):\n",
    "    \"\"\"reverse outer loop, but same behavior as above!\"\"\"\n",
    "    for i in range(len(array) - 1, 0, -1):\n",
    "        exchanges = False\n",
    "        for j in range(i):\n",
    "            if array[j] > array[j + 1]:\n",
    "                exchanges = True\n",
    "                array[j], array[j + 1] = array[j + 1], array[j]\n",
    "        print(array)\n",
    "        if not exchanges:\n",
    "            break\n",
    "L = [19, 1, 9, 7, 3, 10, 13, 15, 8, 12]\n",
    "bubble_sort_revers_outer_loop(L)"
   ]
  },
  {
   "cell_type": "markdown",
   "id": "c9569298",
   "metadata": {},
   "source": [
    "## Qick Sort\n",
    "\n",
    "* best case  $\\Omega (nlog(n))$\n",
    "* average    $\\Theta(nlog(n))$    \n",
    "* worst case $O(n^2)$: if pivot element is the smallest or gratest element in list"
   ]
  },
  {
   "cell_type": "code",
   "execution_count": 93,
   "id": "a2622b02",
   "metadata": {},
   "outputs": [
    {
     "name": "stdout",
     "output_type": "stream",
     "text": [
      "1 [2, 3] 1\n",
      "2 [2, 3, 4, 5] 3\n",
      "2 [2, 3, 4, 5, 6] 4\n",
      "3 [1, 2, 3, 4, 5, 6] 5\n",
      "4 [0, 0, 1, 2, 3, 4, 5, 6] 7\n",
      "4 [0, 0, 1, 2, 3, 4, 5, 6, 7] 8\n",
      "quick sort:\n",
      "\tcount: 28 n: 9\n"
     ]
    }
   ],
   "source": [
    "COUNT = 0\n",
    "def quick_sort(array):\n",
    "    \"\"\"\n",
    "    Quick sorting a list of numbers, recursive (TGI01 bzw realpython)\n",
    "    \"\"\"\n",
    "    global COUNT\n",
    "    count = 0\n",
    "    if len(array) <= 1:  # Recursion anchor\n",
    "        return array\n",
    "    \n",
    "    pivot_index = len(array) // 2\n",
    "    low = []\n",
    "    same = [array[pivot_index]]\n",
    "    high = []\n",
    "\n",
    "    for i, item in enumerate(array):\n",
    "        COUNT += 1\n",
    "        count += 1\n",
    "        if i != pivot_index and item <= array[pivot_index]:\n",
    "            low.append(item)\n",
    "        elif i != pivot_index and item > array[pivot_index]:\n",
    "            high.append(item)\n",
    "    COUNT -= 1  # Vergleich pivot Element mit sich selbst herausrechnen!\n",
    "    count -= 1\n",
    "    result = quick_sort(low) + same + quick_sort(high)\n",
    "    print(pivot_index, result, count)\n",
    "    return result\n",
    "\n",
    "# L = [15,14,13,12,11,10,9,8,7,6,5]\n",
    "# L = [1,1,1,1,1,1]\n",
    "#L = [0,1,2,3,4,5,6,7]\n",
    "# L = [77,2,99,3,88,4,66,5]\n",
    "L = [5,3,0, 6,7, 0,1,4,2]\n",
    "quick_sort(L)\n",
    "print(f'quick sort:\\n\\tcount: {COUNT} n: {len(L)}')"
   ]
  },
  {
   "cell_type": "code",
   "execution_count": 94,
   "id": "22d9f964",
   "metadata": {},
   "outputs": [
    {
     "name": "stdout",
     "output_type": "stream",
     "text": [
      "quick_sort with n=9: \n",
      "        best case  Ω(nlog(n)):    28.53\n",
      "        average    θ(nlog(n)):    28.53\n",
      "        worst case O(n^2):        81\n"
     ]
    }
   ],
   "source": [
    "import math\n",
    "n = len(L)\n",
    "print(f\"\"\"quick_sort with n={n}: \n",
    "        best case  \\u03A9(nlog(n)):    {n*math.log2(n):.2f}\n",
    "        average    \\u03B8(nlog(n)):    {n*math.log2(n):.2f}\n",
    "        worst case O(n^2):        {math.pow(n, 2):.0f}\"\"\")"
   ]
  },
  {
   "cell_type": "markdown",
   "id": "b1f9f0e4",
   "metadata": {},
   "source": [
    "## Merge Sort\n",
    "* best case  $\\Omega (nlog(n))$\n",
    "* average    $\\Theta(nlog(n))$    \n",
    "* worst case $O(nlog(n))$"
   ]
  },
  {
   "cell_type": "code",
   "execution_count": 90,
   "id": "a253ad08",
   "metadata": {},
   "outputs": [
    {
     "name": "stdout",
     "output_type": "stream",
     "text": [
      "1 [0, 1] [0] [1] 1\n",
      "1 [2, 3] [2] [3] 1\n",
      "2 [0, 1, 2, 3] [0, 1] [2, 3] 2\n",
      "1 [4, 5] [4] [5] 1\n",
      "1 [6, 7] [6] [7] 1\n",
      "2 [4, 5, 6, 7] [4, 5] [6, 7] 2\n",
      "4 [0, 1, 2, 3, 4, 5, 6, 7] [0, 1, 2, 3] [4, 5, 6, 7] 4\n",
      "merge sort:\n",
      "\tcount: 12 n: 8\n"
     ]
    }
   ],
   "source": [
    "COUNT = 0\n",
    "def merge_sort(array):\n",
    "    \"\"\" merge sort slightly changed from TGI02:\n",
    "    list slicing of array instead of appending \n",
    "    to list in a for-loop (O(n) for both!)\n",
    "    here elements are not removed from list \n",
    "    but indices i an d j are used to controll the\n",
    "    array\n",
    "    \"\"\"\n",
    "    global COUNT\n",
    "    if len(array) <= 1: \n",
    "        return array  # recursion anchor\n",
    "    \n",
    "    pivot_index = len(array) // 2\n",
    "    count = 0\n",
    "    \n",
    "    # sort left and right half separately\n",
    "    left = merge_sort(array[:pivot_index].copy())  # stop is exclusive\n",
    "    right = merge_sort(array[pivot_index:].copy())\n",
    "\n",
    "    a_sorted = []\n",
    "    i, j = 0, 0\n",
    "    \n",
    "    while (i < len(left) and j < len(right)):\n",
    "        COUNT += 1\n",
    "        count += 1\n",
    "        if left[i] < right[j]:\n",
    "            a_sorted.append(left[i])\n",
    "            i += 1\n",
    "        else:\n",
    "            a_sorted.append(right[j])\n",
    "            j += 1\n",
    "    a_sorted += left[i:]\n",
    "    a_sorted += right[j:]\n",
    "    print(pivot_index, a_sorted, left, right, count)\n",
    "    return a_sorted\n",
    "\n",
    "#L = [15,14,13,12,11,10,9,8,7,6,5]\n",
    "# L = [1,1,1,1,1,1]\n",
    "L = [0,1,2,3,4,5,6,7]\n",
    "# L = [77,2,99,3,88,4,66,5]\n",
    "merge_sort(L)\n",
    "print(f'merge sort:\\n\\tcount: {COUNT} n: {len(L)}')"
   ]
  },
  {
   "cell_type": "code",
   "execution_count": 88,
   "id": "b1a42f0e",
   "metadata": {},
   "outputs": [
    {
     "name": "stdout",
     "output_type": "stream",
     "text": [
      "merge_sort with n=8: \n",
      "        best case  Ω(nlog(n)): 24.00\n",
      "        average    θ(nlog(n)): 24.00\n",
      "        worst case O(nlog(n)): 24.00\n"
     ]
    }
   ],
   "source": [
    "n = len(L)\n",
    "print(f\"\"\"merge_sort with n={n}: \n",
    "        best case  \\u03A9(nlog(n)): {n*math.log2(n):.2f}\n",
    "        average    \\u03B8(nlog(n)): {n*math.log2(n):.2f}\n",
    "        worst case O(nlog(n)): {n*math.log2(n):.2f}\"\"\")"
   ]
  },
  {
   "cell_type": "code",
   "execution_count": null,
   "id": "81e0657e",
   "metadata": {},
   "outputs": [],
   "source": []
  }
 ],
 "metadata": {
  "kernelspec": {
   "display_name": "Python 3 (ipykernel)",
   "language": "python",
   "name": "python3"
  },
  "language_info": {
   "codemirror_mode": {
    "name": "ipython",
    "version": 3
   },
   "file_extension": ".py",
   "mimetype": "text/x-python",
   "name": "python",
   "nbconvert_exporter": "python",
   "pygments_lexer": "ipython3",
   "version": "3.9.12"
  }
 },
 "nbformat": 4,
 "nbformat_minor": 5
}
