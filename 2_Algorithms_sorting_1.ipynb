{
 "cells": [
  {
   "cell_type": "markdown",
   "id": "427c6669-5818-492e-9a53-c3399fd01d26",
   "metadata": {
    "tags": []
   },
   "source": [
    "# [2] Algorithms: Basic Sorting Algorithms"
   ]
  },
  {
   "cell_type": "markdown",
   "id": "74e3d2e9-0374-4d39-a0d2-0ec1af11710d",
   "metadata": {},
   "source": [
    "## Bubble Sort"
   ]
  },
  {
   "cell_type": "markdown",
   "id": "97fb7bd4-c015-4a66-af71-767d3a45baa5",
   "metadata": {},
   "source": [
    "**NAIVE** bubble sort algorithm with O(n^2)\n",
    "    two neighboring items are compared, item with higher value will be \n",
    "    swapped to the right, item with lower value to the left, item with\n",
    "    highest value bubbles to the end of the list --> TGI01"
   ]
  },
  {
   "cell_type": "code",
   "execution_count": 3,
   "id": "5dbf540e-114c-452b-8bb5-d69f83994b9a",
   "metadata": {},
   "outputs": [],
   "source": [
    "def bubble_sort1(arr):\n",
    "    if P_FLAG: counter = 0\n",
    "    n = len(arr)\n",
    "    for i in range(n):\n",
    "        for j in range(n-1):\n",
    "            if P_FLAG: counter += 1\n",
    "            if arr[j] > arr[j+1]:\n",
    "                arr[j], arr[j+1] = arr[j+1], arr[j]\n",
    "    if P_FLAG: print(counter, arr)\n",
    "    return arr"
   ]
  },
  {
   "cell_type": "markdown",
   "id": "d9a6dfd8-8105-4cd2-9b0a-b1be1173c300",
   "metadata": {},
   "source": [
    "**MORE optimized** basic bubble sort algorithm with O(n^2).\n",
    "    Items at the end of the list, which were already placed to \n",
    "    the end of the list are ignored --> TGI01"
   ]
  },
  {
   "cell_type": "code",
   "execution_count": 4,
   "id": "ee319247-84b1-4ecc-8f64-ec051f879d63",
   "metadata": {},
   "outputs": [],
   "source": [
    "def bubble_sort2(arr):\n",
    "    if P_FLAG: counter = 0\n",
    "    n = len(arr)\n",
    "    for i in range(n):\n",
    "        for j in range(n-1-i):  #  <-- change\n",
    "            if P_FLAG: counter += 1\n",
    "            if arr[j] > arr[j+1]:\n",
    "                arr[j], arr[j+1] = arr[j+1], arr[j]\n",
    "    if P_FLAG: print(counter, arr)\n",
    "    return arr"
   ]
  },
  {
   "cell_type": "markdown",
   "id": "c2c854cf-2ddd-4936-acdd-e164ae621cc5",
   "metadata": {},
   "source": [
    "**MOST optimized** basic bubble sort algorithm with O(n^2)\n",
    "    (n - 1) + (n - 2) + (n - 3) + … + 2 + 1 = n(n-1)/2 comparisons, \n",
    "    which can also be written as ½n2 - ½n => O(n^2)\n",
    "    additional flag sorted is set and algorithm is terminated if no\n",
    "    sorting was necessary for the whole inner for-loop.\n",
    "    -> realpython\n"
   ]
  },
  {
   "cell_type": "code",
   "execution_count": 41,
   "id": "edc5fdcf-89e7-4f69-a2d0-b261e192811b",
   "metadata": {},
   "outputs": [],
   "source": [
    "def bubble_sort3(arr):\n",
    "    if P_FLAG: counter = 0\n",
    "    sorted = True\n",
    "    n = len(arr)\n",
    "    for i in range(n):\n",
    "        sorted = True  # <-- change\n",
    "        for j in range(n-1-i):\n",
    "            if P_FLAG: counter += 1\n",
    "            if arr[j] > arr[j+1]:\n",
    "                arr[j], arr[j+1] = arr[j+1], arr[j]\n",
    "                sorted = False  # <-- change\n",
    "        if sorted: break   # <-- change\n",
    "    if P_FLAG: print(counter, arr)\n",
    "    return arr\n",
    "\n",
    "\n",
    "\n",
    "#"
   ]
  },
  {
   "cell_type": "markdown",
   "id": "d7bd7897-5930-46b7-977a-2bad0adecce4",
   "metadata": {},
   "source": [
    "## Selection Sort"
   ]
  },
  {
   "cell_type": "markdown",
   "id": "946b87ad-1d57-49ee-b03e-de8aa237b778",
   "metadata": {},
   "source": [
    " **Basic** implementation of selection sort.\n",
    "    the item with the lowest value is searched and\n",
    "    swapped with first unsorted item in the list"
   ]
  },
  {
   "cell_type": "code",
   "execution_count": 6,
   "id": "4717be4d-90fe-4775-b3b1-dc7be675b1b7",
   "metadata": {},
   "outputs": [],
   "source": [
    "def selection_sort(arr):\n",
    "    n = len(arr)\n",
    "    if P_FLAG: counter = 0\n",
    "    for i in range(n):\n",
    "        min = i\n",
    "        for j in range(i+1, n):\n",
    "            if P_FLAG: counter += 1\n",
    "            # swap smallest element to beginning of unsorted list\n",
    "            if arr[j] < arr[min]:\n",
    "                min = j\n",
    "        arr[i], arr[min] = arr[min], arr[i]\n",
    "    if P_FLAG: print(\"Ss2:\",counter, arr)\n",
    "    return arr\n"
   ]
  },
  {
   "cell_type": "markdown",
   "id": "efbf009c-e58b-428d-aa80-c4613c043e59",
   "metadata": {},
   "source": [
    "**min max implementation** of selection sort.\n",
    "    The item with the lowest value is searched and\n",
    "    swapped with first unsorted item in the list, the\n",
    "    maximum item is swapped to the end of the list, \n",
    "    both in the same outer loop"
   ]
  },
  {
   "cell_type": "code",
   "execution_count": 40,
   "id": "fef1f64e-815f-40f4-b882-ecc239bdd511",
   "metadata": {},
   "outputs": [],
   "source": [
    "def selectionSort_minmax(A):\n",
    "    if P_FLAG: counter = 0\n",
    "    n = len(A)\n",
    "    # print(n, -(-n//2))\n",
    "    for i in range(-(-n//2)):  # -(-n//2): aufrunden\n",
    "        min = i\n",
    "        max = i\n",
    "        for j in range(i+1, n-i):\n",
    "            if (A[j] < A[min]):\n",
    "                min = j\n",
    "            elif (A[j] > A[max]):\n",
    "                max = j\n",
    "            if P_FLAG: counter += 1\n",
    "        # swapping the min\n",
    "        A[i], A[min] = A[min], A[i]\n",
    "        # swapping the min\n",
    "        if max == i: max = min\n",
    "        A[n-1-i], A[max] = A[max], A[n-1-i]\n",
    "    if P_FLAG: print(\"Ssmm2:\",counter, A)   \n",
    "    return A\n"
   ]
  },
  {
   "cell_type": "markdown",
   "id": "28bc1c86-95a2-4317-8556-a96bf7026c95",
   "metadata": {},
   "source": [
    " \n",
    " \n",
    " \n",
    " \n",
    " **the two smallest** list items are searched and swapped \n",
    "    to the beginning of the unsorted list (TGI01)"
   ]
  },
  {
   "cell_type": "code",
   "execution_count": 8,
   "id": "cf61161f-2418-463e-8e0f-0ea6f0dadf95",
   "metadata": {},
   "outputs": [],
   "source": [
    "def selectionSort_min2(A):\n",
    "   \n",
    "    n = len(A)\n",
    "    if P_FLAG: counter=0\n",
    "    for i in range(0,n-1,2):\n",
    "        # smallest item is min1, min2 the bigger one\n",
    "        min1 = i\n",
    "        min2 = i\n",
    "        if (A[i] < A[i+1]): min2 = i+1  \n",
    "        else: min1 = i+1\n",
    "        # searching the whole unsorted portion of the list\n",
    "        for j in range(i+1, n):\n",
    "            if P_FLAG: counter += 1\n",
    "            if (A[j] < A[min2]):\n",
    "                min2 = j\n",
    "                if (A[j] < A[min1]):\n",
    "                    min2 = min1\n",
    "                    min1 = j\n",
    "        #swapping min1\n",
    "        A[i], A[min1] = A[min1], A[i]\n",
    "        # swapping min2\n",
    "        if(min2 == i): min2 = min1\n",
    "        A[i+1], A[min2] = A[min2], A[i+1]\n",
    "    if P_FLAG: print(\"Ssm3:\",counter, A)  \n",
    "    return A"
   ]
  },
  {
   "cell_type": "markdown",
   "id": "6a707cfe-ca2a-4a7b-8920-b80a28ebe4a9",
   "metadata": {},
   "source": [
    "## Insertion Sort\n",
    "insertion sort **without new list** (TGI01 Lsg bzw real-python)"
   ]
  },
  {
   "cell_type": "code",
   "execution_count": 38,
   "id": "c3ac2008-4e75-474f-8343-7976184c833c",
   "metadata": {},
   "outputs": [],
   "source": [
    "def insertion_sort(arr):\n",
    "    if P_FLAG: \n",
    "        counter = 0\n",
    "        swaps = 0\n",
    "    \n",
    "    for i in range(1, len(arr)):\n",
    "        value = arr[i]  # value to be positioned in correct place\n",
    "        j = i - 1\n",
    "        # alle Elemente der linken, bereits sortierten Liste nach hinten schieben, \n",
    "        # bis richtige Stelle erreicht ist\n",
    "        if P_FLAG: counter += 1\n",
    "        while(j >= 0 and arr[j] > value):   # Konditionen werden von links nach rechts durchgegangen\n",
    "            arr[j+1] = arr[j]\n",
    "            j -= 1\n",
    "            if (P_FLAG and j >=0): \n",
    "                counter += 1\n",
    "            # swaps += 1\n",
    "        arr[j+1] = value\n",
    "\n",
    "    if P_FLAG: print(\"Is3: \", arr, \"vergleiche: \", counter, \"swaps: \", swaps)\n",
    "    return arr"
   ]
  },
  {
   "cell_type": "code",
   "execution_count": 30,
   "id": "66018db2-5ee2-45ae-9131-de22c72b65cb",
   "metadata": {},
   "outputs": [],
   "source": [
    "A = [13, 6, 7, 2, 9, 11, 4]\n",
    "P_FLAG = True"
   ]
  },
  {
   "cell_type": "code",
   "execution_count": 31,
   "id": "e8b873bc-f09e-472f-b7ab-b51ed5c58f94",
   "metadata": {},
   "outputs": [
    {
     "name": "stdout",
     "output_type": "stream",
     "text": [
      "42 [2, 4, 6, 7, 9, 11, 13]\n"
     ]
    }
   ],
   "source": [
    "a = A.copy()\n",
    "sorted_array = bubble_sort1(a)"
   ]
  },
  {
   "cell_type": "code",
   "execution_count": 32,
   "id": "9aea712e-59e1-499d-a327-1cefdc5aa9ec",
   "metadata": {},
   "outputs": [
    {
     "name": "stdout",
     "output_type": "stream",
     "text": [
      "21 [2, 4, 6, 7, 9, 11, 13]\n"
     ]
    }
   ],
   "source": [
    "a = A.copy()\n",
    "sorted_array = bubble_sort2(a)"
   ]
  },
  {
   "cell_type": "code",
   "execution_count": 34,
   "id": "902a9604-9d84-4b57-aa74-4e6d0b172ed8",
   "metadata": {},
   "outputs": [
    {
     "name": "stdout",
     "output_type": "stream",
     "text": [
      "21 [2, 4, 6, 7, 9, 11, 13]\n"
     ]
    }
   ],
   "source": [
    "a = A.copy()\n",
    "sorted_array = bubble_sort3(a)"
   ]
  },
  {
   "cell_type": "code",
   "execution_count": 35,
   "id": "affd0b93-4868-4362-a47c-0e91c5b1ba35",
   "metadata": {},
   "outputs": [
    {
     "name": "stdout",
     "output_type": "stream",
     "text": [
      "Ss2: 21 [2, 4, 6, 7, 9, 11, 13]\n"
     ]
    }
   ],
   "source": [
    "a = A.copy()\n",
    "sorted_array = selection_sort(a)"
   ]
  },
  {
   "cell_type": "code",
   "execution_count": 36,
   "id": "f87ae5e6-cd77-4ac8-bcf8-e19e9b91e460",
   "metadata": {},
   "outputs": [
    {
     "name": "stdout",
     "output_type": "stream",
     "text": [
      "Ssmm2: 12 [2, 4, 6, 7, 9, 11, 13]\n"
     ]
    }
   ],
   "source": [
    "a = A.copy()\n",
    "sorted_array = selectionSort_minmax(a)"
   ]
  },
  {
   "cell_type": "code",
   "execution_count": 37,
   "id": "9048ff98-7b5e-48f9-8ec6-58c383210c62",
   "metadata": {},
   "outputs": [
    {
     "name": "stdout",
     "output_type": "stream",
     "text": [
      "Ssm3: 12 [2, 4, 6, 7, 9, 11, 13]\n"
     ]
    }
   ],
   "source": [
    "a = A.copy()\n",
    "sorted_array = selectionSort_min2(a)"
   ]
  },
  {
   "cell_type": "code",
   "execution_count": null,
   "id": "d50c0947-35f7-47d5-a998-c460ddd43b6b",
   "metadata": {},
   "outputs": [],
   "source": []
  }
 ],
 "metadata": {
  "kernelspec": {
   "display_name": "Python 3 (ipykernel)",
   "language": "python",
   "name": "python3"
  },
  "language_info": {
   "codemirror_mode": {
    "name": "ipython",
    "version": 3
   },
   "file_extension": ".py",
   "mimetype": "text/x-python",
   "name": "python",
   "nbconvert_exporter": "python",
   "pygments_lexer": "ipython3",
   "version": "3.9.12"
  }
 },
 "nbformat": 4,
 "nbformat_minor": 5
}
