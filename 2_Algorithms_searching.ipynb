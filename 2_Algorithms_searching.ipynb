{
 "cells": [
  {
   "cell_type": "markdown",
   "id": "1016baec-dfb4-4611-9c6d-23b048bfd91b",
   "metadata": {},
   "source": [
    "# [2] Algorithms: Searching Algorithms"
   ]
  },
  {
   "cell_type": "markdown",
   "id": "f9b1d5cd-d87c-4655-b856-a13d87e49420",
   "metadata": {},
   "source": [
    "## Binary Search"
   ]
  },
  {
   "cell_type": "code",
   "execution_count": 6,
   "id": "380c035d-33a2-4ba2-90f6-34a9fca68e29",
   "metadata": {},
   "outputs": [
    {
     "data": {
      "text/plain": [
       "False"
      ]
     },
     "execution_count": 6,
     "metadata": {},
     "output_type": "execute_result"
    }
   ],
   "source": [
    "def binary_search(e, arr):\n",
    "    first = 0\n",
    "    last = len(arr)-1\n",
    "    while first <= last: \n",
    "        middle = (first + last) // 2\n",
    "        if arr[middle] < e:\n",
    "            first = middle + 1\n",
    "        else:\n",
    "            if arr[middle] == e: return True\n",
    "            last = middle -1\n",
    "    return False\n",
    "\n",
    "arr = [1,2,4,5,7,8]\n",
    "binary_search(3, arr)"
   ]
  },
  {
   "cell_type": "markdown",
   "id": "413807d1",
   "metadata": {},
   "source": [
    "# min max Search\n",
    "\n",
    "## Recursive tournament algorithm"
   ]
  },
  {
   "cell_type": "code",
   "execution_count": 82,
   "id": "df9936d8",
   "metadata": {},
   "outputs": [
    {
     "name": "stdout",
     "output_type": "stream",
     "text": [
      "(0, 111)\n",
      "T(n)= 22.0 mit n= 16\n",
      "T(n)= 22.0\n"
     ]
    }
   ],
   "source": [
    "import math\n",
    "def tournament_min_max(arr):\n",
    "    \"\"\"searching min and max value of a list via tournament\n",
    "    algorithm.\n",
    "    recursive inner function wrapped into the outer to hide\n",
    "    the starting conditions \"start\" and \"stop\"\n",
    "    recursion_depth tracked only for debugging\n",
    "    \"\"\"\n",
    "    global COUNTER \n",
    "    COUNTER = 0\n",
    "    def inner_tournament(array, start, stop, rec_depth=0): # stop exclusive\n",
    "        global COUNTER\n",
    "        # Rekursionsanker, executed n/2 times\n",
    "        if (stop - start) <= 2:\n",
    "            COUNTER += 1\n",
    "            #print(\"(1)\", COUNTER)\n",
    "            if array[start] < array[stop-1]:\n",
    "                v_min = array[start]\n",
    "                v_max = array[stop-1]\n",
    "            else:\n",
    "                v_min = array[stop-1]\n",
    "                v_max = array[start]\n",
    "            return (v_min, v_max)\n",
    "\n",
    "        else:  # if considered array is bigger than 2, executed n-2 times\n",
    "            mid = start + (stop - start) // 2\n",
    "            left_min, left_max = inner_tournament(array, start, mid, rec_depth=rec_depth+1)\n",
    "            right_min, right_max = inner_tournament(array, mid, stop, rec_depth=rec_depth+1)\n",
    "            v_min = min(left_min, right_min)\n",
    "            v_max = max(left_max, right_max)\n",
    "            COUNTER += 2\n",
    "            #print(\"(2) \", COUNTER)\n",
    "            return (v_min, v_max)\n",
    "    \n",
    "    return inner_tournament(arr, 0, len(arr))\n",
    "\n",
    "L = [9,6,4,3,8,1,5,0]\n",
    "# L = [9, 6, 0,1]\n",
    "# L = [1]\n",
    "L = [5,2,7,66,4,99,22,3,56,8,111, 44, 8, 0, 12, 33]\n",
    "print(tournament_min_max(L))\n",
    "n=len(L)\n",
    "print(f\"T(n)= {2*(pow(2,math.log2(n))-2)/2 + n/2} mit n= {n}\")\n",
    "print(f\"T(n)= {3*n/2-2}\")"
   ]
  },
  {
   "cell_type": "markdown",
   "id": "769c2f2d",
   "metadata": {},
   "source": [
    "O(n):\n",
    "--------\n",
    "--------\n",
    "+ n/2 comparisons for the different pairs\n",
    "+ 2*($2^{log_2(n)}$-2)/2 = $2^{log_2(n)}$-2 = n-2 (Anzahl innere Knoten = $2^{Tiefe}$-1 mit Wurzel; Tiefe = log2(n))\n",
    "    + (-2 weil ohne Wurzel, /2 da paarweise verglichen wird)\n",
    "    \n",
    "T(n) = n/2 + (n-2) = $\\frac{3}{2}$*n -2\n",
    "=> O(n)"
   ]
  },
  {
   "cell_type": "markdown",
   "id": "4b8dc131",
   "metadata": {},
   "source": [
    "## minmaxSearch3 aus dem TG2-Skript"
   ]
  },
  {
   "cell_type": "code",
   "execution_count": 60,
   "id": "6cc8db04",
   "metadata": {},
   "outputs": [
    {
     "name": "stdout",
     "output_type": "stream",
     "text": [
      "[0, 9]\n"
     ]
    }
   ],
   "source": [
    "def maxSearch3(A):\n",
    "    index_of_max = 0\n",
    "    for i in range(1, len(A)):\n",
    "        if A[i] > A[index_of_max]:\n",
    "            index_of_max = i\n",
    "    return A[index_of_max]\n",
    "\n",
    "def minSearch3(A):\n",
    "    index_of_min = 0\n",
    "    for i in range(1, len(A)):\n",
    "        if A[i] < A[index_of_min]:\n",
    "            index_of_min = i\n",
    "    return A[index_of_min]\n",
    "\n",
    "def minmaxSearch3(A):\n",
    "    winners = []\n",
    "    loosers = []\n",
    "    for i in range(0, len(A), 2):\n",
    "        if A[i] > A[i+1]:\n",
    "            winners.append(A[i])\n",
    "            loosers.append(A[i+1])\n",
    "        else:\n",
    "            winners.append(A[i+1])\n",
    "            loosers.append(A[i])\n",
    "    return [minSearch3(loosers)] + [maxSearch3(winners)]\n",
    "\n",
    "L = [9,6,4,3,8,1,5,0]\n",
    "print(minmaxSearch3(L))"
   ]
  },
  {
   "cell_type": "markdown",
   "id": "a24e859c",
   "metadata": {
    "tags": []
   },
   "source": [
    "O(n):\n",
    "--------\n",
    "--------\n",
    "+ n/2 comparisons for sorting into winners and loosers\n",
    "+ 2* ($\\frac{n}{2}$ -1)  => 1x for minSearch and 1x for max search!\n",
    "\n",
    "T(n) = $\\frac{3}{2}$*n -2\n",
    "=> O(n)"
   ]
  },
  {
   "cell_type": "markdown",
   "id": "2c51fd23-7966-4faa-88a0-1febedb3610d",
   "metadata": {},
   "source": []
  },
  {
   "cell_type": "code",
   "execution_count": null,
   "id": "ae11ec87-6186-4990-a33f-ec04977de7c8",
   "metadata": {},
   "outputs": [],
   "source": []
  },
  {
   "cell_type": "code",
   "execution_count": null,
   "id": "be2f05e8-3a6e-48e4-8d07-a706d4c55130",
   "metadata": {},
   "outputs": [],
   "source": []
  },
  {
   "cell_type": "code",
   "execution_count": null,
   "id": "003441f8-2317-40fb-96d0-53e81174f052",
   "metadata": {},
   "outputs": [],
   "source": []
  },
  {
   "cell_type": "code",
   "execution_count": null,
   "id": "cb1f2621",
   "metadata": {},
   "outputs": [],
   "source": []
  },
  {
   "cell_type": "code",
   "execution_count": null,
   "id": "d9af66cd",
   "metadata": {},
   "outputs": [],
   "source": []
  },
  {
   "cell_type": "code",
   "execution_count": null,
   "id": "089ca768",
   "metadata": {},
   "outputs": [],
   "source": []
  },
  {
   "cell_type": "code",
   "execution_count": null,
   "id": "1f340ac0",
   "metadata": {},
   "outputs": [],
   "source": []
  },
  {
   "cell_type": "code",
   "execution_count": null,
   "id": "4cc9c1aa",
   "metadata": {},
   "outputs": [],
   "source": []
  },
  {
   "cell_type": "code",
   "execution_count": null,
   "id": "b0a7d1f1",
   "metadata": {},
   "outputs": [],
   "source": []
  },
  {
   "cell_type": "code",
   "execution_count": null,
   "id": "934f1adf",
   "metadata": {},
   "outputs": [],
   "source": []
  }
 ],
 "metadata": {
  "kernelspec": {
   "display_name": "Python 3 (ipykernel)",
   "language": "python",
   "name": "python3"
  },
  "language_info": {
   "codemirror_mode": {
    "name": "ipython",
    "version": 3
   },
   "file_extension": ".py",
   "mimetype": "text/x-python",
   "name": "python",
   "nbconvert_exporter": "python",
   "pygments_lexer": "ipython3",
   "version": "3.9.12"
  }
 },
 "nbformat": 4,
 "nbformat_minor": 5
}
