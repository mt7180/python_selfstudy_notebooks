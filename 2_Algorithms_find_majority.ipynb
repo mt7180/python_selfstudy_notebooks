{
 "cells": [
  {
   "cell_type": "markdown",
   "id": "dd618804",
   "metadata": {},
   "source": [
    "# Different functions to find the majority of a list\n",
    "\n",
    "*best in time complexity is Boyer Moore with O(n), others have at least 2 x O(n)*"
   ]
  },
  {
   "cell_type": "code",
   "execution_count": 47,
   "id": "d1ec6844",
   "metadata": {},
   "outputs": [
    {
     "name": "stdout",
     "output_type": "stream",
     "text": [
      "majority element: 5\n"
     ]
    }
   ],
   "source": [
    "import pandas as pd\n",
    "\n",
    "def find_majority_boyer_moore(lst):\n",
    "    \"\"\"\n",
    "    Boyer-Moore Majority Voting algorithm, finds the majority element of an array.\n",
    "    Works only if majority is greater than (!) n/2 of the array size.\n",
    "    \"\"\"\n",
    "    # see Cracking the Coding interview, geeksforgeeks, Wikipedia or:\n",
    "    # http://ajnirp.github.io/Moore-Voting-Algorithm/\n",
    "    \n",
    "    df = pd.DataFrame(columns = ['element', 'i', 'maj'])\n",
    "    votes = 0\n",
    "    for n, element in enumerate(lst):  # O(n)\n",
    "        if votes == 0:\n",
    "            maj = element\n",
    "            votes = 1\n",
    "        if element == maj:\n",
    "            votes += 1\n",
    "        else:\n",
    "            votes -= 1\n",
    "        df.loc[n] = [element, votes, maj]\n",
    "    # print(df)\n",
    "    return maj\n",
    "\n",
    "L = [5,2,2,5,5,7,7]\n",
    "# L = [2,2,5,5,5,7,7]\n",
    "# L = [1,2,5,9,5,9,5,5,5]\n",
    "print(f'majority element: {find_majority_boyer_moore(L)}')"
   ]
  },
  {
   "cell_type": "code",
   "execution_count": 44,
   "id": "847d1938",
   "metadata": {},
   "outputs": [
    {
     "data": {
      "text/plain": [
       "7"
      ]
     },
     "execution_count": 44,
     "metadata": {},
     "output_type": "execute_result"
    }
   ],
   "source": [
    "from collections import Counter\n",
    "# attention: without check if real majority with // 2\n",
    "def find_maj_pythonic(lst):\n",
    "    \n",
    "    if len(lst) == 0: return lst # not necessary but more explicit (counter object throws no error if element is not available, just gives 0)\n",
    "    # 2* O(n)\n",
    "    return max(Counter(lst))  # same as .most_common(1)[0][0] is (1) is used https://github.com/python/cpython/blob/1b85f4ec45a5d63188ee3866bd55eb29fdec7fbf/Lib/heapq.py#L524\n",
    "\n",
    "L = [5,7,5,5,7,1]\n",
    "find_maj_pythonic(L)"
   ]
  },
  {
   "cell_type": "code",
   "execution_count": null,
   "id": "72d04054",
   "metadata": {
    "scrolled": true
   },
   "outputs": [],
   "source": []
  },
  {
   "cell_type": "code",
   "execution_count": 9,
   "id": "8a98a4b7",
   "metadata": {},
   "outputs": [
    {
     "name": "stdout",
     "output_type": "stream",
     "text": [
      "majority element indices: []\n"
     ]
    }
   ],
   "source": [
    "from collections import Counter\n",
    "\n",
    "def find_majority_elem_indices(lst):\n",
    "     \n",
    "    if len(lst) == 0: \n",
    "        return lst\n",
    "    \n",
    "    counts = Counter(lst)  # O(n)\n",
    "    \n",
    "    maj_key = list(counts.keys())[0]  # O(1)\n",
    "    for k, v in counts.items():  # O(k), worst case O(n)\n",
    "        if v > counts[maj_key]: \n",
    "            maj_key = k\n",
    "            \n",
    "    if (\n",
    "        #len(maj_elems) > 1\n",
    "        counts[maj_key] <= len(lst) // 2\n",
    "    ):\n",
    "        return []\n",
    "    \n",
    "    return [            # O(n)\n",
    "        i for i, elem in enumerate(lst) \n",
    "        if elem == maj_key\n",
    "    ]\n",
    "\n",
    "L = [5,7,7,5,5,7,1]\n",
    "print(f'majority element indices: {find_majority_elem_indices(L)}')    "
   ]
  },
  {
   "cell_type": "code",
   "execution_count": 24,
   "id": "458ab786",
   "metadata": {},
   "outputs": [
    {
     "data": {
      "text/plain": [
       "[]"
      ]
     },
     "execution_count": 24,
     "metadata": {},
     "output_type": "execute_result"
    }
   ],
   "source": [
    "from collections import Counter\n",
    "\n",
    "def find_maj_indexes(lst):\n",
    "    \n",
    "    if len(lst) == 0: return lst # not necessary but more explicit (counter object throws no error if element is not available, just gives 0)\n",
    "    counts = Counter(lst)  # O(n)\n",
    "    \n",
    "    return [\n",
    "        index for index, element in enumerate(lst)  # O(n)\n",
    "        if counts[element] > len(lst) // 2\n",
    "    ]\n",
    "\n",
    "L = [5,7,7,5,5,7,1]\n",
    "find_maj_indexes(L)"
   ]
  },
  {
   "cell_type": "code",
   "execution_count": null,
   "id": "81d1ff32",
   "metadata": {},
   "outputs": [],
   "source": []
  },
  {
   "cell_type": "code",
   "execution_count": 28,
   "id": "c1a45f3e",
   "metadata": {},
   "outputs": [
    {
     "data": {
      "text/plain": [
       "Counter({5: 3, 7: 3, 1: 1})"
      ]
     },
     "execution_count": 28,
     "metadata": {},
     "output_type": "execute_result"
    }
   ],
   "source": [
    "from collections import Counter\n",
    "L = [5,7,7,5,5,7,1]\n",
    "counts = Counter(L)\n",
    "counts"
   ]
  },
  {
   "cell_type": "markdown",
   "id": "e2589340",
   "metadata": {},
   "source": [
    "even if key is not in dictionary-lice Counter object, no error is raised and only a zero is returned"
   ]
  },
  {
   "cell_type": "code",
   "execution_count": 30,
   "id": "27a0097e",
   "metadata": {},
   "outputs": [
    {
     "data": {
      "text/plain": [
       "0"
      ]
     },
     "execution_count": 30,
     "metadata": {},
     "output_type": "execute_result"
    }
   ],
   "source": [
    "counts[2] # key not in Counter object"
   ]
  },
  {
   "cell_type": "code",
   "execution_count": 26,
   "id": "fd06ff65",
   "metadata": {},
   "outputs": [
    {
     "ename": "KeyError",
     "evalue": "3",
     "output_type": "error",
     "traceback": [
      "\u001b[0;31m---------------------------------------------------------------------------\u001b[0m",
      "\u001b[0;31mKeyError\u001b[0m                                  Traceback (most recent call last)",
      "\u001b[0;32m/var/folders/m5/570n50js4fb24y9ht7nd_pm00000gn/T/ipykernel_1010/3076857588.py\u001b[0m in \u001b[0;36m<module>\u001b[0;34m\u001b[0m\n\u001b[1;32m      1\u001b[0m \u001b[0mtest_dict\u001b[0m \u001b[0;34m=\u001b[0m \u001b[0;34m{\u001b[0m\u001b[0;36m1\u001b[0m\u001b[0;34m:\u001b[0m \u001b[0;34m\"mira\"\u001b[0m\u001b[0;34m,\u001b[0m \u001b[0;36m2\u001b[0m\u001b[0;34m:\u001b[0m \u001b[0;34m\"michael\"\u001b[0m\u001b[0;34m}\u001b[0m\u001b[0;34m\u001b[0m\u001b[0;34m\u001b[0m\u001b[0m\n\u001b[0;32m----> 2\u001b[0;31m \u001b[0mtest_dict\u001b[0m\u001b[0;34m[\u001b[0m\u001b[0;36m3\u001b[0m\u001b[0;34m]\u001b[0m\u001b[0;34m\u001b[0m\u001b[0;34m\u001b[0m\u001b[0m\n\u001b[0m",
      "\u001b[0;31mKeyError\u001b[0m: 3"
     ]
    }
   ],
   "source": [
    "test_dict = {1: \"mira\", 2: \"michael\"}\n",
    "test_dict[3]"
   ]
  },
  {
   "cell_type": "code",
   "execution_count": null,
   "id": "b15662e5",
   "metadata": {},
   "outputs": [],
   "source": []
  },
  {
   "cell_type": "code",
   "execution_count": null,
   "id": "b9aaa589",
   "metadata": {},
   "outputs": [],
   "source": []
  }
 ],
 "metadata": {
  "kernelspec": {
   "display_name": "Python 3 (ipykernel)",
   "language": "python",
   "name": "python3"
  },
  "language_info": {
   "codemirror_mode": {
    "name": "ipython",
    "version": 3
   },
   "file_extension": ".py",
   "mimetype": "text/x-python",
   "name": "python",
   "nbconvert_exporter": "python",
   "pygments_lexer": "ipython3",
   "version": "3.9.12"
  }
 },
 "nbformat": 4,
 "nbformat_minor": 5
}
