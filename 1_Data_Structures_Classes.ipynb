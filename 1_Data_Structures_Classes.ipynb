{
 "cells": [
  {
   "cell_type": "markdown",
   "id": "a4a721df",
   "metadata": {},
   "source": [
    "# [1] Data Structures: Classes"
   ]
  },
  {
   "cell_type": "markdown",
   "id": "308e1674",
   "metadata": {},
   "source": [
    "Compared with other programming languages, Python’s class mechanism adds classes with a minimum of new syntax and semantics. It is a mixture of the class mechanisms found in C++ and Modula-3. \\\n",
    "All standard features of Object-Oriented Programming are provided:\n",
    "- Inheritance, even multiple inheritance\n",
    "- Derived class can override any methods of its base classes\n",
    "- A method can call the method of a base class with the same name\n",
    "- Objects can contain arbitrary amounts and kinds of data\n",
    "- Classes are created at runtime and can be modified further after creation\n"
   ]
  },
  {
   "cell_type": "code",
   "execution_count": 12,
   "id": "198dceef",
   "metadata": {},
   "outputs": [
    {
     "name": "stdout",
     "output_type": "stream",
     "text": [
      "Anna\n",
      "36\n"
     ]
    },
    {
     "data": {
      "text/plain": [
       "True"
      ]
     },
     "execution_count": 12,
     "metadata": {},
     "output_type": "execute_result"
    }
   ],
   "source": [
    "class Person:\n",
    "    def __init__(self, name, age):\n",
    "        self.name = name\n",
    "        self.age = age\n",
    "        \n",
    "    def __repr__(self):\n",
    "        return f\"({self.name}, {self.age})\"\n",
    "    \n",
    "    def __str__(self):\n",
    "        return self.name\n",
    "    \n",
    "    def __lt__(self, other):\n",
    "        return self.age < other.age\n",
    "    \n",
    "    def __eq__(self, other):\n",
    "        return self.name == other.name and self.age == other.age\n",
    "    \n",
    "    def __hash__(self):\n",
    "        return hash((self.name, self.age))\n",
    "        \n",
    "anna = Person(\"Anna\", 36)\n",
    "eve = Person(\"Anna\", 36)\n",
    "ada = Person(\"Ada\", 36)\n",
    "\n",
    "print(anna)  # str()\n",
    "print(anna.age)\n",
    "#anna           #repr()\n",
    "anna == eve"
   ]
  },
  {
   "cell_type": "markdown",
   "id": "89ded59a-da96-4a76-9f40-20ea0413e8f2",
   "metadata": {},
   "source": [
    "-> **hint:** \n",
    "In order to be used in dict-like structures (such as dict, set, defaultdict, Counter, etc) as a key, it is necessary to override __eq__() and __hash__()!"
   ]
  },
  {
   "cell_type": "code",
   "execution_count": 13,
   "id": "6d566c1c-a5ce-4ffa-bd25-0297922f0750",
   "metadata": {},
   "outputs": [
    {
     "data": {
      "text/plain": [
       "Counter({(Anna, 36): 2, (Ada, 36): 1})"
      ]
     },
     "execution_count": 13,
     "metadata": {},
     "output_type": "execute_result"
    }
   ],
   "source": [
    "from collections import Counter\n",
    "persons = [anna, eve, ada]\n",
    "\n",
    "Counter(persons)  # anna and eve are alike"
   ]
  },
  {
   "cell_type": "markdown",
   "id": "833d8bd0-3fff-4dcb-b966-f5f3ba7f827a",
   "metadata": {},
   "source": [
    "-> **hint**: to make objects sortable, the class needs a __lt__() method"
   ]
  },
  {
   "cell_type": "code",
   "execution_count": 14,
   "id": "324ebec0-ae76-4076-a48a-47e7e2cad1ae",
   "metadata": {},
   "outputs": [
    {
     "data": {
      "text/plain": [
       "[(Ada, 35), (Anna, 36), (Anna, 36)]"
      ]
     },
     "execution_count": 14,
     "metadata": {},
     "output_type": "execute_result"
    }
   ],
   "source": [
    "ada.age = 35\n",
    "sorted(persons)"
   ]
  },
  {
   "cell_type": "markdown",
   "id": "71b0944f",
   "metadata": {},
   "source": [
    "The **@classmethod** decorator is a built-in function decorator that is an expression thaThe result of that evaluation shadows your function definition. A class method receives the class as an implicit first argument, just like an instance method receives the instance  \n",
    "  \n",
    "A **@staticmethod** does not receive an implicit first argument. A static method is also a method that is bound to the class and not the object of the class. This method can’t access or modify the class state. It is present in a class because it makes sense for the method to be present in class."
   ]
  },
  {
   "cell_type": "code",
   "execution_count": 21,
   "id": "d474e088-df10-4327-9512-7e6dd053d1f4",
   "metadata": {},
   "outputs": [
    {
     "data": {
      "text/plain": [
       "(repr) Pizza radius: 10"
      ]
     },
     "execution_count": 21,
     "metadata": {},
     "output_type": "execute_result"
    }
   ],
   "source": [
    "class Pizza():\n",
    "    radius = 10\n",
    "    \n",
    "    @classmethod\n",
    "    def get_radius(cls):\n",
    "        return f\"(get_rad) Pizza radius: {cls.radius}\"\n",
    "    \n",
    "    def __repr__(self):\n",
    "        return f\"(repr) Pizza radius: {self.radius}\"\n",
    "    \n",
    "    @staticmethod\n",
    "    def init_pizza():\n",
    "        return Pizza()\n",
    "\n",
    "pizza_1 = Pizza()\n",
    "pizza_1"
   ]
  },
  {
   "cell_type": "code",
   "execution_count": 22,
   "id": "78d737dd-5a5b-4392-a95a-5dbd73216ece",
   "metadata": {},
   "outputs": [
    {
     "data": {
      "text/plain": [
       "(repr) Pizza radius: 10"
      ]
     },
     "execution_count": 22,
     "metadata": {},
     "output_type": "execute_result"
    }
   ],
   "source": [
    "pizza_2 = Pizza.init_pizza()\n",
    "pizza_2\n",
    "# Pizza().get_radius()"
   ]
  },
  {
   "cell_type": "markdown",
   "id": "82dad8f8",
   "metadata": {},
   "source": [
    "### -> Multiple inheritance and super() keyword (see also -> The Diamond Problem)"
   ]
  },
  {
   "cell_type": "code",
   "execution_count": 28,
   "id": "92485d50",
   "metadata": {},
   "outputs": [
    {
     "name": "stdout",
     "output_type": "stream",
     "text": [
      "I am a cat.\n",
      "Cat can not swim.\n",
      "Cat can not fly.\n",
      "Cat is a mammal.\n",
      "Cat is an animal.\n"
     ]
    }
   ],
   "source": [
    "class Animal:\n",
    "    def __init__(self, animal_name):\n",
    "        print(animal_name, 'is an animal.');\n",
    "\n",
    "# Mammal inherits from Animal\n",
    "class Mammal(Animal):\n",
    "    def __init__(self, mammal_name):\n",
    "        print(mammal_name, 'is a mammal.')\n",
    "        super().__init__(mammal_name)\n",
    "    \n",
    "# CannotFly inherits from Mammal\n",
    "class CannotFly(Mammal):\n",
    "    def __init__(self, mammal_cannot_fly):\n",
    "        print(mammal_cannot_fly, \"can not fly.\")\n",
    "        super().__init__(mammal_cannot_fly)\n",
    "\n",
    "# CannotSwim inherits from Mammal\n",
    "class CannotSwim(Mammal):\n",
    "    def __init__(self, mammal_cannot_swim):\n",
    "        print(mammal_cannot_swim, \"can not swim.\")\n",
    "        super().__init__(mammal_cannot_swim)\n",
    "\n",
    "# Cat inherits from CannotSwim and CannotFly\n",
    "class Cat(CannotSwim, CannotFly):\n",
    "    def __init__(self):\n",
    "        print('I am a cat.');\n",
    "        super().__init__('Cat')\n",
    "        \n",
    "cat = Cat()"
   ]
  },
  {
   "cell_type": "markdown",
   "id": "50614387",
   "metadata": {},
   "source": [
    "- The Method Resolution Order (MRO) determines where Python looks for a method first, when there is a hierarchy of classes\n",
    "\n",
    "- super() actually returns a proxy object that understands the MRO of the object and will call the next function in the hierarchy"
   ]
  },
  {
   "cell_type": "markdown",
   "id": "fe09e197",
   "metadata": {},
   "source": [
    "##  -> The Diamond Problem\n",
    "\n",
    "The diamond problem occurs when two classes have a common parent class (as B and C), and another class (D) has both those classes as base classes.\n"
   ]
  },
  {
   "cell_type": "code",
   "execution_count": 2,
   "id": "63ca94ee",
   "metadata": {},
   "outputs": [
    {
     "name": "stdout",
     "output_type": "stream",
     "text": [
      "D initialized\n",
      "C initialized\n",
      "B initialized\n",
      "A initialized\n"
     ]
    }
   ],
   "source": [
    "class A():\n",
    "    def __init__(self):\n",
    "        print(\"A initialized\")\n",
    "\n",
    "class B(A):\n",
    "    def __init__(self):\n",
    "        print(\"B initialized\")\n",
    "        super().__init__()\n",
    "        \n",
    "class C(A):\n",
    "    def __init__(self):\n",
    "        print(\"C initialized\")\n",
    "        super().__init__()\n",
    "        \n",
    "class D(C, B):\n",
    "    def __init__(self):\n",
    "        print(\"D initialized\")\n",
    "        super().__init__()\n",
    "        \n",
    "d = D()"
   ]
  },
  {
   "cell_type": "markdown",
   "id": "c8381ba6-c739-4c2c-b2b0-b118896da2f2",
   "metadata": {},
   "source": [
    "## -> ... interesting example of the Abstract Factory Design Pattern from the internet:\n",
    "https://python-3-patterns-idioms-test.readthedocs.io/en/latest/Factory.html"
   ]
  },
  {
   "cell_type": "code",
   "execution_count": 8,
   "id": "f3386c5b-c25e-44e0-83a4-c72bd98fb5cd",
   "metadata": {},
   "outputs": [
    {
     "name": "stdout",
     "output_type": "stream",
     "text": [
      "<module '__main__'>\n",
      "<module '__main__'>\n",
      "Square.draw\n",
      "Square.erase\n",
      "Circle.draw\n",
      "Circle.erase\n",
      "Square.draw\n",
      "Square.erase\n",
      "Circle.draw\n",
      "Circle.erase\n",
      "Circle.draw\n",
      "Circle.erase\n",
      "Square.draw\n",
      "Square.erase\n",
      "Circle.draw\n",
      "Circle.erase\n"
     ]
    }
   ],
   "source": [
    "import random\n",
    "import sys\n",
    "\n",
    "class ShapeFactory:\n",
    "    factories = {}\n",
    "    \n",
    "    @staticmethod\n",
    "    def addFactory(id, shapeFactory):\n",
    "        ShapeFactory.factories.put[id] = shapeFactory\n",
    "    \n",
    "    # A Template Method:\n",
    "    @staticmethod\n",
    "    def createShape(id):\n",
    "        if not id in ShapeFactory.factories:\n",
    "            print(sys.modules[__name__])\n",
    "            temp = getattr(sys.modules[__name__], id)\n",
    "            ShapeFactory.factories[id] = temp.Factory()\n",
    "              #eval(id + '.Factory()')\n",
    "        return ShapeFactory.factories[id].create()\n",
    "\n",
    "class Shape(object): pass\n",
    "\n",
    "class Circle(Shape):\n",
    "    def draw(self): \n",
    "        print(\"Circle.draw\")\n",
    "    def erase(self): \n",
    "        print(\"Circle.erase\")\n",
    "    class Factory:\n",
    "        def create(self): return Circle()\n",
    "\n",
    "class Square(Shape):\n",
    "    def draw(self):\n",
    "        print(\"Square.draw\")\n",
    "    def erase(self):\n",
    "        print(\"Square.erase\")\n",
    "    class Factory:\n",
    "        def create(self): return Square()\n",
    "\n",
    "def shapeNameGen(n):\n",
    "    types = Shape.__subclasses__()\n",
    "    for i in range(n):\n",
    "        yield random.choice(types).__name__\n",
    "\n",
    "shapes = [ShapeFactory.createShape(i) for i in shapeNameGen(7)]\n",
    "\n",
    "for shape in shapes:\n",
    "    shape.draw()\n",
    "    shape.erase()"
   ]
  },
  {
   "cell_type": "code",
   "execution_count": 34,
   "id": "a35dfb6b-e4aa-487c-b8ae-b913b2fa84fa",
   "metadata": {},
   "outputs": [
    {
     "data": {
      "text/plain": [
       "<module '__main__'>"
      ]
     },
     "execution_count": 34,
     "metadata": {},
     "output_type": "execute_result"
    }
   ],
   "source": [
    "sys.modules[__name__]"
   ]
  },
  {
   "cell_type": "code",
   "execution_count": null,
   "id": "e2993ff2-8cd0-4e21-a27c-29b01f5b8658",
   "metadata": {},
   "outputs": [],
   "source": []
  }
 ],
 "metadata": {
  "kernelspec": {
   "display_name": "Python 3 (ipykernel)",
   "language": "python",
   "name": "python3"
  },
  "language_info": {
   "codemirror_mode": {
    "name": "ipython",
    "version": 3
   },
   "file_extension": ".py",
   "mimetype": "text/x-python",
   "name": "python",
   "nbconvert_exporter": "python",
   "pygments_lexer": "ipython3",
   "version": "3.9.12"
  }
 },
 "nbformat": 4,
 "nbformat_minor": 5
}
