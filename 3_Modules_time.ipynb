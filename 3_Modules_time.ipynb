{
 "cells": [
  {
   "cell_type": "code",
   "execution_count": 1,
   "id": "712f8c2e-6620-4ad0-81b7-3b79d9c42b3e",
   "metadata": {},
   "outputs": [
    {
     "data": {
      "text/plain": [
       "(120, 120, 0.00039670800000379813, 8.062500000249884e-05)"
      ]
     },
     "execution_count": 1,
     "metadata": {},
     "output_type": "execute_result"
    }
   ],
   "source": [
    "import time\n",
    "data = [1, 2, 3, 4, 5]\n",
    "res = 1\n",
    "res2 = 1\n",
    "tic = time.perf_counter()\n",
    "result = [res := res*x for i,x in enumerate(data)][-1]\n",
    "tac = time.perf_counter()\n",
    "for p in data:\n",
    "    res2 *= p\n",
    "toc = time.perf_counter()\n",
    "result, res2, tac - tic, toc - tac"
   ]
  },
  {
   "cell_type": "code",
   "execution_count": null,
   "id": "9f69e0ba-6ac5-40fc-83a2-a54f55b03e4d",
   "metadata": {},
   "outputs": [],
   "source": []
  }
 ],
 "metadata": {
  "kernelspec": {
   "display_name": "Python 3 (ipykernel)",
   "language": "python",
   "name": "python3"
  },
  "language_info": {
   "codemirror_mode": {
    "name": "ipython",
    "version": 3
   },
   "file_extension": ".py",
   "mimetype": "text/x-python",
   "name": "python",
   "nbconvert_exporter": "python",
   "pygments_lexer": "ipython3",
   "version": "3.9.12"
  }
 },
 "nbformat": 4,
 "nbformat_minor": 5
}
