{
 "cells": [
  {
   "cell_type": "code",
   "execution_count": 17,
   "id": "d474e088-df10-4327-9512-7e6dd053d1f4",
   "metadata": {},
   "outputs": [
    {
     "data": {
      "text/plain": [
       "(repr) Pizza radius: 0"
      ]
     },
     "execution_count": 17,
     "metadata": {},
     "output_type": "execute_result"
    }
   ],
   "source": [
    "class Pizza():\n",
    "    radius = 0\n",
    "    \n",
    "    @classmethod\n",
    "    def get_radius(cls):\n",
    "        return f\"(get_rad) Pizza radius: {cls.radius}\"\n",
    "    \n",
    "    def __repr__(self):\n",
    "        return f\"(repr) Pizza radius: {self.radius}\"\n",
    "    \n",
    "    @staticmethod\n",
    "    def init_pizza():\n",
    "        return Pizza()\n",
    "\n",
    "pizza_1 = Pizza()\n",
    "pizza_1"
   ]
  },
  {
   "cell_type": "code",
   "execution_count": 18,
   "id": "78d737dd-5a5b-4392-a95a-5dbd73216ece",
   "metadata": {},
   "outputs": [
    {
     "data": {
      "text/plain": [
       "'(get_rad) Pizza radius: 0'"
      ]
     },
     "execution_count": 18,
     "metadata": {},
     "output_type": "execute_result"
    }
   ],
   "source": [
    "pizza_2 = Pizza.init_pizza()\n",
    "pizza_2\n",
    "# Pizza().get_radius()"
   ]
  },
  {
   "cell_type": "code",
   "execution_count": 37,
   "id": "f3386c5b-c25e-44e0-83a4-c72bd98fb5cd",
   "metadata": {},
   "outputs": [
    {
     "name": "stdout",
     "output_type": "stream",
     "text": [
      "<module '__main__'>\n",
      "<module '__main__'>\n",
      "Circle.draw\n",
      "Circle.erase\n",
      "Square.draw\n",
      "Square.erase\n",
      "Circle.draw\n",
      "Circle.erase\n",
      "Circle.draw\n",
      "Circle.erase\n",
      "Square.draw\n",
      "Square.erase\n",
      "Square.draw\n",
      "Square.erase\n",
      "Circle.draw\n",
      "Circle.erase\n"
     ]
    }
   ],
   "source": [
    "from __future__ import generators\n",
    "import random\n",
    "import sys\n",
    "\n",
    "class ShapeFactory:\n",
    "    factories = {}\n",
    "    def addFactory(id, shapeFactory):\n",
    "        ShapeFactory.factories.put[id] = shapeFactory\n",
    "    addFactory = staticmethod(addFactory)\n",
    "    # A Template Method:\n",
    "    def createShape(id):\n",
    "        if not id in ShapeFactory.factories:\n",
    "            print(sys.modules[__name__])\n",
    "            temp = getattr(sys.modules[__name__], id)\n",
    "            ShapeFactory.factories[id] = temp.Factory()\n",
    "              #eval(id + '.Factory()')\n",
    "        return ShapeFactory.factories[id].create()\n",
    "    createShape = staticmethod(createShape)\n",
    "\n",
    "class Shape(object): pass\n",
    "\n",
    "class Circle(Shape):\n",
    "    def draw(self): print(\"Circle.draw\")\n",
    "    def erase(self): print(\"Circle.erase\")\n",
    "    class Factory:\n",
    "        def create(self): return Circle()\n",
    "\n",
    "class Square(Shape):\n",
    "    def draw(self):\n",
    "        print(\"Square.draw\")\n",
    "    def erase(self):\n",
    "        print(\"Square.erase\")\n",
    "    class Factory:\n",
    "        def create(self): return Square()\n",
    "\n",
    "def shapeNameGen(n):\n",
    "    types = Shape.__subclasses__()\n",
    "    for i in range(n):\n",
    "        yield random.choice(types).__name__\n",
    "\n",
    "shapes = [ ShapeFactory.createShape(i)\n",
    "           for i in shapeNameGen(7)]\n",
    "\n",
    "for shape in shapes:\n",
    "    shape.draw()\n",
    "    shape.erase()"
   ]
  },
  {
   "cell_type": "code",
   "execution_count": 34,
   "id": "a35dfb6b-e4aa-487c-b8ae-b913b2fa84fa",
   "metadata": {},
   "outputs": [
    {
     "data": {
      "text/plain": [
       "<module '__main__'>"
      ]
     },
     "execution_count": 34,
     "metadata": {},
     "output_type": "execute_result"
    }
   ],
   "source": [
    "sys.modules[__name__]"
   ]
  },
  {
   "cell_type": "code",
   "execution_count": null,
   "id": "e2993ff2-8cd0-4e21-a27c-29b01f5b8658",
   "metadata": {},
   "outputs": [],
   "source": []
  }
 ],
 "metadata": {
  "kernelspec": {
   "display_name": "Python 3 (ipykernel)",
   "language": "python",
   "name": "python3"
  },
  "language_info": {
   "codemirror_mode": {
    "name": "ipython",
    "version": 3
   },
   "file_extension": ".py",
   "mimetype": "text/x-python",
   "name": "python",
   "nbconvert_exporter": "python",
   "pygments_lexer": "ipython3",
   "version": "3.9.10"
  }
 },
 "nbformat": 4,
 "nbformat_minor": 5
}
