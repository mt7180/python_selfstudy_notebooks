{
 "cells": [
  {
   "cell_type": "markdown",
   "id": "b510bea4",
   "metadata": {},
   "source": [
    "# [6] Closures/ verschachtelte Funktionen:\n",
    "\n"
   ]
  },
  {
   "cell_type": "markdown",
   "id": "ad368582-1f54-4f41-93b7-b15e1f2d191a",
   "metadata": {},
   "source": [
    "einfacher Logging Decorater "
   ]
  },
  {
   "cell_type": "code",
   "execution_count": 21,
   "id": "994ef36b-eb07-4fd1-8858-036908ca017d",
   "metadata": {},
   "outputs": [
    {
     "name": "stdout",
     "output_type": "stream",
     "text": [
      "log: function add_numbers with arguments (3, 4)\n"
     ]
    },
    {
     "data": {
      "text/plain": [
       "7"
      ]
     },
     "execution_count": 21,
     "metadata": {},
     "output_type": "execute_result"
    }
   ],
   "source": [
    "def logging(func):\n",
    "    def wrapper(*args):\n",
    "        print(f\"log: function {func.__name__} with arguments {args}\") # \n",
    "        return func(*args)\n",
    "    return wrapper\n",
    "\n",
    "@logging\n",
    "def add_numbers(a,b):\n",
    "    return a+b\n",
    "\n",
    "add_numbers(3,4)"
   ]
  },
  {
   "cell_type": "code",
   "execution_count": 28,
   "id": "13549547-77e0-43f1-8367-7229935e4609",
   "metadata": {},
   "outputs": [
    {
     "data": {
      "text/plain": [
       "'add_numbers'"
      ]
     },
     "execution_count": 28,
     "metadata": {},
     "output_type": "execute_result"
    }
   ],
   "source": [
    "add_numbers.__name__  # hat den Namen der inneren Decorator Funktion übernommen:wrapper"
   ]
  },
  {
   "cell_type": "markdown",
   "id": "71974c01-576f-4b99-9673-b4b737f057f6",
   "metadata": {},
   "source": [
    "## besser:"
   ]
  },
  {
   "cell_type": "code",
   "execution_count": 27,
   "id": "57112be9-8c47-4485-bcd8-d11961249dc2",
   "metadata": {},
   "outputs": [
    {
     "name": "stdout",
     "output_type": "stream",
     "text": [
      "log: function add_numbers with arguments (3, 4)\n"
     ]
    },
    {
     "data": {
      "text/plain": [
       "'add_numbers'"
      ]
     },
     "execution_count": 27,
     "metadata": {},
     "output_type": "execute_result"
    }
   ],
   "source": [
    "from functools import wraps\n",
    "\n",
    "def logging(func):\n",
    "    @wraps(func)\n",
    "    def wrapper(*args):\n",
    "        print(f\"log: function {func.__name__} with arguments {args}\") # \n",
    "        return func(*args)\n",
    "    return wrapper\n",
    "\n",
    "@logging\n",
    "def add_numbers(a,b):\n",
    "    return a+b\n",
    "\n",
    "add_numbers(3,4)\n",
    "add_numbers.__name__\n"
   ]
  },
  {
   "cell_type": "code",
   "execution_count": null,
   "id": "f6c2d69e-7ad3-4d15-96a4-218c736c5864",
   "metadata": {},
   "outputs": [],
   "source": []
  },
  {
   "cell_type": "code",
   "execution_count": null,
   "id": "713dd1e9-8ad0-4d23-8e0a-b6e6852b1c7d",
   "metadata": {},
   "outputs": [],
   "source": []
  },
  {
   "cell_type": "markdown",
   "id": "f1dc6530-a764-4e62-9d34-0b87b5861b26",
   "metadata": {},
   "source": [
    "kein offizielles Argument von get_speak, durch zweifaches Aufrufen bzw zuweisen des ersten Aufrufs an speak, Definition der Argumente voneinander getrennt"
   ]
  },
  {
   "cell_type": "code",
   "execution_count": 4,
   "id": "892dccf8",
   "metadata": {},
   "outputs": [
    {
     "data": {
      "text/plain": [
       "'HELLO'"
      ]
     },
     "execution_count": 4,
     "metadata": {},
     "output_type": "execute_result"
    }
   ],
   "source": [
    "def get_speak(volume):\n",
    "    def whisper(text):\n",
    "        return text.lower()\n",
    "    def yell(text):\n",
    "        return text.upper()\n",
    "    if volume > 0.5:\n",
    "        return yell\n",
    "    else:\n",
    "        return whisper\n",
    "    \n",
    "get_speak(0.6)(\"hello\")"
   ]
  },
  {
   "cell_type": "code",
   "execution_count": 5,
   "id": "9fa175f7",
   "metadata": {},
   "outputs": [
    {
     "data": {
      "text/plain": [
       "'how are you?...'"
      ]
     },
     "execution_count": 5,
     "metadata": {},
     "output_type": "execute_result"
    }
   ],
   "source": [
    "speak = get_speak(0.2)\n",
    "speak(\"How are you?...\")"
   ]
  },
  {
   "cell_type": "markdown",
   "id": "f79ee822",
   "metadata": {},
   "source": [
    "### einfache Verschachtelung:"
   ]
  },
  {
   "cell_type": "code",
   "execution_count": 6,
   "id": "20ab9e5f",
   "metadata": {},
   "outputs": [
    {
     "data": {
      "text/plain": [
       "'hallo'"
      ]
     },
     "execution_count": 6,
     "metadata": {},
     "output_type": "execute_result"
    }
   ],
   "source": [
    "def speak2(text):\n",
    "    def whisper2(t):\n",
    "        return t.lower()\n",
    "    return whisper2(text)\n",
    "\n",
    "speak2(\"HALLO\")"
   ]
  },
  {
   "cell_type": "code",
   "execution_count": 9,
   "id": "14034e58",
   "metadata": {},
   "outputs": [
    {
     "data": {
      "text/plain": [
       "'hallo welt'"
      ]
     },
     "execution_count": 9,
     "metadata": {},
     "output_type": "execute_result"
    }
   ],
   "source": [
    "def get_speak2(volume, text):\n",
    "    def whisper3(text):\n",
    "        return text.lower()\n",
    "    def yell3(text):\n",
    "        return text.upper()\n",
    "    if volume > 0.5:\n",
    "        return yell3(text)\n",
    "    else:\n",
    "        return whisper3(text)\n",
    "\n",
    "get_speak2(0.3, \"Hallo Welt\")"
   ]
  },
  {
   "cell_type": "code",
   "execution_count": 11,
   "id": "4ebcc5d9",
   "metadata": {},
   "outputs": [],
   "source": [
    "speak3 = get_speak2(0.8, \"text hier\")"
   ]
  },
  {
   "cell_type": "code",
   "execution_count": null,
   "id": "5b59721e",
   "metadata": {},
   "outputs": [],
   "source": []
  }
 ],
 "metadata": {
  "kernelspec": {
   "display_name": "Python 3 (ipykernel)",
   "language": "python",
   "name": "python3"
  },
  "language_info": {
   "codemirror_mode": {
    "name": "ipython",
    "version": 3
   },
   "file_extension": ".py",
   "mimetype": "text/x-python",
   "name": "python",
   "nbconvert_exporter": "python",
   "pygments_lexer": "ipython3",
   "version": "3.9.12"
  }
 },
 "nbformat": 4,
 "nbformat_minor": 5
}
