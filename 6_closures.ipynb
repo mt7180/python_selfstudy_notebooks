{
 "cells": [
  {
   "cell_type": "markdown",
   "id": "b510bea4",
   "metadata": {},
   "source": [
    "## verschachtelte Funktionen:\n",
    "\n",
    "### text kein offizielles Argument von get_speak, durch zweifaches Aufrufen bzw zuweisen des ersten Aufrufs an speak, definition der Argumente voneinander getrennt"
   ]
  },
  {
   "cell_type": "code",
   "execution_count": 4,
   "id": "892dccf8",
   "metadata": {},
   "outputs": [
    {
     "data": {
      "text/plain": [
       "'HELLO'"
      ]
     },
     "execution_count": 4,
     "metadata": {},
     "output_type": "execute_result"
    }
   ],
   "source": [
    "def get_speak(volume):\n",
    "    def whisper(text):\n",
    "        return text.lower()\n",
    "    def yell(text):\n",
    "        return text.upper()\n",
    "    if volume > 0.5:\n",
    "        return yell\n",
    "    else:\n",
    "        return whisper\n",
    "    \n",
    "get_speak(0.6)(\"hello\")"
   ]
  },
  {
   "cell_type": "code",
   "execution_count": 5,
   "id": "9fa175f7",
   "metadata": {},
   "outputs": [
    {
     "data": {
      "text/plain": [
       "'how are you?...'"
      ]
     },
     "execution_count": 5,
     "metadata": {},
     "output_type": "execute_result"
    }
   ],
   "source": [
    "speak = get_speak(0.2)\n",
    "speak(\"How are you?...\")"
   ]
  },
  {
   "cell_type": "markdown",
   "id": "f79ee822",
   "metadata": {},
   "source": [
    "### einfache Verschachtelung:"
   ]
  },
  {
   "cell_type": "code",
   "execution_count": 6,
   "id": "20ab9e5f",
   "metadata": {},
   "outputs": [
    {
     "data": {
      "text/plain": [
       "'hallo'"
      ]
     },
     "execution_count": 6,
     "metadata": {},
     "output_type": "execute_result"
    }
   ],
   "source": [
    "def speak2(text):\n",
    "    def whisper2(t):\n",
    "        return t.lower()\n",
    "    return whisper2(text)\n",
    "\n",
    "speak2(\"HALLO\")"
   ]
  },
  {
   "cell_type": "code",
   "execution_count": 9,
   "id": "14034e58",
   "metadata": {},
   "outputs": [
    {
     "data": {
      "text/plain": [
       "'hallo welt'"
      ]
     },
     "execution_count": 9,
     "metadata": {},
     "output_type": "execute_result"
    }
   ],
   "source": [
    "def get_speak2(volume, text):\n",
    "    def whisper3(text):\n",
    "        return text.lower()\n",
    "    def yell3(text):\n",
    "        return text.upper()\n",
    "    if volume > 0.5:\n",
    "        return yell3(text)\n",
    "    else:\n",
    "        return whisper3(text)\n",
    "\n",
    "get_speak2(0.3, \"Hallo Welt\")"
   ]
  },
  {
   "cell_type": "code",
   "execution_count": 11,
   "id": "4ebcc5d9",
   "metadata": {},
   "outputs": [],
   "source": [
    "speak3 = get_speak2(0.8, \"text hier\")"
   ]
  },
  {
   "cell_type": "code",
   "execution_count": null,
   "id": "5b59721e",
   "metadata": {},
   "outputs": [],
   "source": []
  }
 ],
 "metadata": {
  "kernelspec": {
   "display_name": "Python 3 (ipykernel)",
   "language": "python",
   "name": "python3"
  },
  "language_info": {
   "codemirror_mode": {
    "name": "ipython",
    "version": 3
   },
   "file_extension": ".py",
   "mimetype": "text/x-python",
   "name": "python",
   "nbconvert_exporter": "python",
   "pygments_lexer": "ipython3",
   "version": "3.9.12"
  }
 },
 "nbformat": 4,
 "nbformat_minor": 5
}
