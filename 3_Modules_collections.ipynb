{
 "cells": [
  {
   "cell_type": "markdown",
   "id": "539e6bff-d29e-489e-9c08-eb7e80796b55",
   "metadata": {},
   "source": [
    "# [3] Python Modules: collections"
   ]
  },
  {
   "cell_type": "markdown",
   "id": "dba8cfda-825c-4389-b46f-7b47bf8a9435",
   "metadata": {},
   "source": [
    "This module implements specialized container datatypes providing alternatives to Python’s general purpose built-in containers, dict, list, set, and tuple."
   ]
  },
  {
   "cell_type": "markdown",
   "id": "c83c2f05-31fa-4ffb-a9ff-a8c19aa8aad6",
   "metadata": {},
   "source": [
    "## collections.Counter\n",
    "- dict subclass for counting hashable objects\n",
    "- elements are stored as dictionary keys and their counts as dictionary values."
   ]
  },
  {
   "cell_type": "code",
   "execution_count": 6,
   "id": "21d5e585-0f82-46fe-b20f-d02f33e41cde",
   "metadata": {},
   "outputs": [
    {
     "name": "stdout",
     "output_type": "stream",
     "text": [
      "dict_items([('H', 1), ('i', 3), (' ', 5), ('t', 1), ('h', 1), ('e', 4), ('r', 2), (',', 1), ('m', 2), ('y', 1), ('n', 1), ('a', 2), ('s', 1), ('M', 1), ('!', 1)])\n",
      "<class 'dict_items'> <class 'dict'> <class 'dict'>\n"
     ]
    },
    {
     "data": {
      "text/plain": [
       "{'H': 1,\n",
       " 'i': 3,\n",
       " ' ': 5,\n",
       " 't': 1,\n",
       " 'h': 1,\n",
       " 'e': 4,\n",
       " 'r': 2,\n",
       " ',': 1,\n",
       " 'm': 2,\n",
       " 'y': 1,\n",
       " 'n': 1,\n",
       " 'a': 2,\n",
       " 's': 1,\n",
       " 'M': 1,\n",
       " '!': 1}"
      ]
     },
     "execution_count": 6,
     "metadata": {},
     "output_type": "execute_result"
    }
   ],
   "source": [
    "from collections import Counter\n",
    "text = \"Hi there, my name is Marie!\"\n",
    "c = Counter(text)\n",
    "print(c.items())\n",
    "d = c.items()\n",
    "print(type(d), type(dict()), type(dict(d)))\n",
    "dict(d)"
   ]
  },
  {
   "cell_type": "code",
   "execution_count": 3,
   "id": "52f169d2-062a-450f-9c13-23c5e59d558d",
   "metadata": {},
   "outputs": [
    {
     "data": {
      "text/plain": [
       "dict_items([('H', 1), ('i', 3), (' ', 5), ('t', 1), ('h', 1), ('e', 4), ('r', 2), (',', 1), ('m', 2), ('y', 1), ('n', 1), ('a', 2), ('s', 1), ('M', 1), ('!', 1)])"
      ]
     },
     "execution_count": 3,
     "metadata": {},
     "output_type": "execute_result"
    }
   ],
   "source": [
    "c.items()"
   ]
  },
  {
   "cell_type": "code",
   "execution_count": 16,
   "id": "fc0c0d94-0b4e-4c98-bd43-a68ce2501e60",
   "metadata": {},
   "outputs": [],
   "source": [
    "string_sentence = \"\"\"Lorem ipsum dolor sit amet, consetetur sadipscing elitr, sed diam nonumy eirmod tempor invidunt ut labore et dolore magna aliquyam erat, sed diam voluptua. At vero eos et accusam et justo duo dolores et ea rebum. Stet clita kasd gubergren, no sea takimata sanctus est Lorem ipsum dolor sit amet. Lorem ipsum dolor sit amet, consetetur sadipscing elitr, sed diam nonumy eirmod tempor invidunt ut labore et dolore magna aliquyam erat, sed diam voluptua. At vero eos et accusam et justo duo dolores et ea rebum. \n",
    "Stet clita kasd gubergren, no sea takimata sanctus est Lorem ipsum dolor sit amet.\"\"\"\n",
    "count = Counter(string_sentence)"
   ]
  },
  {
   "cell_type": "code",
   "execution_count": 17,
   "id": "a16f1582-0688-4964-a2dd-7f4c65823703",
   "metadata": {},
   "outputs": [
    {
     "data": {
      "text/plain": [
       "('e', 56)"
      ]
     },
     "execution_count": 17,
     "metadata": {},
     "output_type": "execute_result"
    }
   ],
   "source": [
    "most_frequent_element, n = count.most_common(2)[1]\n",
    "count.most_common(2)[1]"
   ]
  },
  {
   "cell_type": "code",
   "execution_count": 21,
   "id": "03c00085-1627-4758-b5e5-5dd4dc754431",
   "metadata": {},
   "outputs": [
    {
     "name": "stdout",
     "output_type": "stream",
     "text": [
      "[]\n"
     ]
    }
   ],
   "source": [
    "print([i for i, v in enumerate(string_sentence) \n",
    "       if Counter(string_sentence)[v] > len(string_sentence)//2])"
   ]
  },
  {
   "cell_type": "code",
   "execution_count": 19,
   "id": "01c41a62-ddd1-44e4-b00f-696b25d3463a",
   "metadata": {},
   "outputs": [
    {
     "data": {
      "text/plain": [
       "[(' ', 99), ('e', 56), ('t', 50)]"
      ]
     },
     "execution_count": 19,
     "metadata": {},
     "output_type": "execute_result"
    }
   ],
   "source": [
    "Counter(string_sentence).most_common(3)"
   ]
  },
  {
   "cell_type": "code",
   "execution_count": 20,
   "id": "7acede39-fd61-4463-937d-bb80d8e92f13",
   "metadata": {},
   "outputs": [
    {
     "data": {
      "text/plain": [
       "(' ', 99)"
      ]
     },
     "execution_count": 20,
     "metadata": {},
     "output_type": "execute_result"
    }
   ],
   "source": [
    "max(Counter(string_sentence).items(), key=lambda item:item[1])"
   ]
  },
  {
   "cell_type": "markdown",
   "id": "6292a0be-2c36-4eaf-8e41-8fb3909ffaff",
   "metadata": {},
   "source": [
    "## collections.defaultdict"
   ]
  },
  {
   "cell_type": "code",
   "execution_count": 7,
   "id": "d28fae32-4d35-405b-91eb-ee04801c0a6f",
   "metadata": {},
   "outputs": [
    {
     "data": {
      "text/plain": [
       "defaultdict(list, {'Jill': 10, 'Joe': 30, 'Jane': 50})"
      ]
     },
     "execution_count": 7,
     "metadata": {},
     "output_type": "execute_result"
    }
   ],
   "source": [
    "from collections import defaultdict\n",
    "\n",
    "initial_dict = {\n",
    "    \"Jill\": 10,\n",
    "    \"Joe\": 30,\n",
    "    \"Jane\": 50,\n",
    "}\n",
    "student_scores = defaultdict(list, initial_dict)\n",
    "student_scores"
   ]
  },
  {
   "cell_type": "code",
   "execution_count": 13,
   "id": "aa8769a7-04b7-48a6-b0d6-b014bb142f94",
   "metadata": {},
   "outputs": [
    {
     "data": {
      "text/plain": [
       "-1"
      ]
     },
     "execution_count": 13,
     "metadata": {},
     "output_type": "execute_result"
    }
   ],
   "source": [
    "student_scores.get(\"NotInHere\", -1)"
   ]
  },
  {
   "cell_type": "code",
   "execution_count": 14,
   "id": "2f9186a1-7a3e-4e33-9f12-ae9db8de2b9a",
   "metadata": {},
   "outputs": [
    {
     "data": {
      "text/plain": [
       "defaultdict(list, {'Jill': 10, 'Joe': 30, 'Jane': 50})"
      ]
     },
     "execution_count": 14,
     "metadata": {},
     "output_type": "execute_result"
    }
   ],
   "source": [
    "student_scores"
   ]
  },
  {
   "cell_type": "code",
   "execution_count": 15,
   "id": "5ce0feec-36d0-42ce-bf4f-782048fc7a4f",
   "metadata": {},
   "outputs": [
    {
     "data": {
      "text/plain": [
       "defaultdict(list, {'Jill': 10, 'Joe': 30, 'Jane': 50, 'Mario2': []})"
      ]
     },
     "execution_count": 15,
     "metadata": {},
     "output_type": "execute_result"
    }
   ],
   "source": [
    "student_scores.setdefault(\"Mario2\", list())\n",
    "student_scores"
   ]
  },
  {
   "cell_type": "code",
   "execution_count": 10,
   "id": "ee185b4e-b448-4e25-a429-bff94b3cc8a9",
   "metadata": {},
   "outputs": [
    {
     "name": "stdout",
     "output_type": "stream",
     "text": [
      "Help on method_descriptor:\n",
      "\n",
      "setdefault(self, key, default=None, /)\n",
      "    Insert key with a value of default if key is not in the dictionary.\n",
      "    \n",
      "    Return the value for key if key is in the dictionary, else default.\n",
      "\n"
     ]
    }
   ],
   "source": [
    "help(defaultdict.setdefault)"
   ]
  },
  {
   "cell_type": "markdown",
   "id": "380f28e5-60b8-4da3-8e88-0ea7870196db",
   "metadata": {},
   "source": [
    "## collections.namedtuple()"
   ]
  },
  {
   "cell_type": "markdown",
   "id": "8a116534-c45e-41f6-850e-645bd7743fe4",
   "metadata": {},
   "source": [
    "- Returns a new tuple subclass named typename. \n",
    "- The new subclass is used to create tuple-like objects that have fields accessible by attribute lookup as well as being indexable and iterable. \n",
    "- Instances of the subclass also have a helpful docstring (with typename and field_names) and a helpful __repr__() method which lists the tuple contents in a name=value format.\n",
    "- The field_names are a sequence of strings such as ['x', 'y']. Alternatively, field_names can be a single string with each fieldname separated by whitespace and/or commas, for example 'x y' or 'x, y'.\n",
    "- namedtuples are immutable!"
   ]
  },
  {
   "cell_type": "code",
   "execution_count": 1,
   "id": "28925c46-c570-4986-b42d-11ad2ad28254",
   "metadata": {},
   "outputs": [],
   "source": [
    "from collections import namedtuple"
   ]
  },
  {
   "cell_type": "code",
   "execution_count": 10,
   "id": "3f72944f-186d-40de-a3ba-1cb49cf947a6",
   "metadata": {},
   "outputs": [
    {
     "data": {
      "text/plain": [
       "Point(x=3, y=4)"
      ]
     },
     "execution_count": 10,
     "metadata": {},
     "output_type": "execute_result"
    }
   ],
   "source": [
    "Point = namedtuple(\"Point\", \"x y\")\n",
    "Point(3,4)"
   ]
  },
  {
   "cell_type": "code",
   "execution_count": 3,
   "id": "6a45fbc5-5b36-409a-93f2-00fdb221e899",
   "metadata": {},
   "outputs": [
    {
     "data": {
      "text/plain": [
       "Point2(x=3, y=4)"
      ]
     },
     "execution_count": 3,
     "metadata": {},
     "output_type": "execute_result"
    }
   ],
   "source": [
    "Point2 = namedtuple('Point2',['x','y'])\n",
    "Point2(3,4)"
   ]
  },
  {
   "cell_type": "code",
   "execution_count": 8,
   "id": "764d985c-d0fe-4f27-ab0e-ec04ad8d5970",
   "metadata": {},
   "outputs": [
    {
     "data": {
      "text/plain": [
       "Point3(x=3, y=4)"
      ]
     },
     "execution_count": 8,
     "metadata": {},
     "output_type": "execute_result"
    }
   ],
   "source": [
    "Point3 = namedtuple('Point3', (field for field in \"xy\"))\n",
    "Point3(3,4)"
   ]
  },
  {
   "cell_type": "code",
   "execution_count": 11,
   "id": "78e3e58f-8590-4308-9c5a-2d1fecf3e443",
   "metadata": {},
   "outputs": [
    {
     "data": {
      "text/plain": [
       "True"
      ]
     },
     "execution_count": 11,
     "metadata": {},
     "output_type": "execute_result"
    }
   ],
   "source": [
    "issubclass(Point, tuple)"
   ]
  },
  {
   "cell_type": "code",
   "execution_count": 12,
   "id": "4093308b-b7ae-4a17-bb10-e44e5f466279",
   "metadata": {},
   "outputs": [
    {
     "data": {
      "text/plain": [
       "3"
      ]
     },
     "execution_count": 12,
     "metadata": {},
     "output_type": "execute_result"
    }
   ],
   "source": [
    "p = Point(3,4)\n",
    "p.x"
   ]
  },
  {
   "cell_type": "code",
   "execution_count": 14,
   "id": "50334f04-befa-47fb-b38f-f1d1bbfb22cc",
   "metadata": {},
   "outputs": [
    {
     "ename": "AttributeError",
     "evalue": "can't set attribute",
     "output_type": "error",
     "traceback": [
      "\u001b[0;31m---------------------------------------------------------------------------\u001b[0m",
      "\u001b[0;31mAttributeError\u001b[0m                            Traceback (most recent call last)",
      "Input \u001b[0;32mIn [14]\u001b[0m, in \u001b[0;36m<cell line: 1>\u001b[0;34m()\u001b[0m\n\u001b[0;32m----> 1\u001b[0m p\u001b[38;5;241m.\u001b[39mx \u001b[38;5;241m=\u001b[39m \u001b[38;5;241m5\u001b[39m\n",
      "\u001b[0;31mAttributeError\u001b[0m: can't set attribute"
     ]
    }
   ],
   "source": [
    "p.x = 5 # careful, immutable!"
   ]
  },
  {
   "cell_type": "code",
   "execution_count": null,
   "id": "b0d5b83f-868b-4fd0-8751-1f0c9cc6d403",
   "metadata": {},
   "outputs": [],
   "source": []
  }
 ],
 "metadata": {
  "kernelspec": {
   "display_name": "Python 3 (ipykernel)",
   "language": "python",
   "name": "python3"
  },
  "language_info": {
   "codemirror_mode": {
    "name": "ipython",
    "version": 3
   },
   "file_extension": ".py",
   "mimetype": "text/x-python",
   "name": "python",
   "nbconvert_exporter": "python",
   "pygments_lexer": "ipython3",
   "version": "3.9.12"
  }
 },
 "nbformat": 4,
 "nbformat_minor": 5
}
