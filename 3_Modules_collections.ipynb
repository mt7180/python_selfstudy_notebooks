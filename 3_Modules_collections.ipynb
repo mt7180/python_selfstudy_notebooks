{
 "cells": [
  {
   "cell_type": "markdown",
   "id": "539e6bff-d29e-489e-9c08-eb7e80796b55",
   "metadata": {},
   "source": [
    "# [3] Python Modules: collections"
   ]
  },
  {
   "cell_type": "markdown",
   "id": "dba8cfda-825c-4389-b46f-7b47bf8a9435",
   "metadata": {},
   "source": [
    "This module implements specialized container datatypes providing alternatives to Python’s general purpose built-in containers, dict, list, set, and tuple."
   ]
  },
  {
   "cell_type": "markdown",
   "id": "c83c2f05-31fa-4ffb-a9ff-a8c19aa8aad6",
   "metadata": {},
   "source": [
    "## collections.Counter\n",
    "- dict subclass for counting hashable objects\n",
    "- elements are stored as dictionary keys and their counts as dictionary values."
   ]
  },
  {
   "cell_type": "code",
   "execution_count": 6,
   "id": "21d5e585-0f82-46fe-b20f-d02f33e41cde",
   "metadata": {},
   "outputs": [
    {
     "name": "stdout",
     "output_type": "stream",
     "text": [
      "dict_items([('H', 1), ('i', 3), (' ', 5), ('t', 1), ('h', 1), ('e', 4), ('r', 2), (',', 1), ('m', 2), ('y', 1), ('n', 1), ('a', 2), ('s', 1), ('M', 1), ('!', 1)])\n",
      "<class 'dict_items'> <class 'dict'> <class 'dict'>\n"
     ]
    },
    {
     "data": {
      "text/plain": [
       "{'H': 1,\n",
       " 'i': 3,\n",
       " ' ': 5,\n",
       " 't': 1,\n",
       " 'h': 1,\n",
       " 'e': 4,\n",
       " 'r': 2,\n",
       " ',': 1,\n",
       " 'm': 2,\n",
       " 'y': 1,\n",
       " 'n': 1,\n",
       " 'a': 2,\n",
       " 's': 1,\n",
       " 'M': 1,\n",
       " '!': 1}"
      ]
     },
     "execution_count": 6,
     "metadata": {},
     "output_type": "execute_result"
    }
   ],
   "source": [
    "from collections import Counter\n",
    "text = \"Hi there, my name is Marie!\"\n",
    "c = Counter(text)\n",
    "print(c.items())\n",
    "d = c.items()\n",
    "print(type(d), type(dict()), type(dict(d)))\n",
    "dict(d)"
   ]
  },
  {
   "cell_type": "code",
   "execution_count": 3,
   "id": "52f169d2-062a-450f-9c13-23c5e59d558d",
   "metadata": {},
   "outputs": [
    {
     "data": {
      "text/plain": [
       "dict_items([('H', 1), ('i', 3), (' ', 5), ('t', 1), ('h', 1), ('e', 4), ('r', 2), (',', 1), ('m', 2), ('y', 1), ('n', 1), ('a', 2), ('s', 1), ('M', 1), ('!', 1)])"
      ]
     },
     "execution_count": 3,
     "metadata": {},
     "output_type": "execute_result"
    }
   ],
   "source": [
    "c.items()"
   ]
  },
  {
   "cell_type": "markdown",
   "id": "6292a0be-2c36-4eaf-8e41-8fb3909ffaff",
   "metadata": {},
   "source": [
    "## collections.defaultdict"
   ]
  },
  {
   "cell_type": "code",
   "execution_count": 7,
   "id": "d28fae32-4d35-405b-91eb-ee04801c0a6f",
   "metadata": {},
   "outputs": [
    {
     "data": {
      "text/plain": [
       "defaultdict(list, {'Jill': 10, 'Joe': 30, 'Jane': 50})"
      ]
     },
     "execution_count": 7,
     "metadata": {},
     "output_type": "execute_result"
    }
   ],
   "source": [
    "from collections import defaultdict\n",
    "\n",
    "initial_dict = {\n",
    "    \"Jill\": 10,\n",
    "    \"Joe\": 30,\n",
    "    \"Jane\": 50,\n",
    "}\n",
    "student_scores = defaultdict(list, initial_dict)\n",
    "student_scores"
   ]
  },
  {
   "cell_type": "code",
   "execution_count": 13,
   "id": "aa8769a7-04b7-48a6-b0d6-b014bb142f94",
   "metadata": {},
   "outputs": [
    {
     "data": {
      "text/plain": [
       "-1"
      ]
     },
     "execution_count": 13,
     "metadata": {},
     "output_type": "execute_result"
    }
   ],
   "source": [
    "student_scores.get(\"NotInHere\", -1)"
   ]
  },
  {
   "cell_type": "code",
   "execution_count": 14,
   "id": "2f9186a1-7a3e-4e33-9f12-ae9db8de2b9a",
   "metadata": {},
   "outputs": [
    {
     "data": {
      "text/plain": [
       "defaultdict(list, {'Jill': 10, 'Joe': 30, 'Jane': 50})"
      ]
     },
     "execution_count": 14,
     "metadata": {},
     "output_type": "execute_result"
    }
   ],
   "source": [
    "student_scores"
   ]
  },
  {
   "cell_type": "code",
   "execution_count": 15,
   "id": "5ce0feec-36d0-42ce-bf4f-782048fc7a4f",
   "metadata": {},
   "outputs": [
    {
     "data": {
      "text/plain": [
       "defaultdict(list, {'Jill': 10, 'Joe': 30, 'Jane': 50, 'Mario2': []})"
      ]
     },
     "execution_count": 15,
     "metadata": {},
     "output_type": "execute_result"
    }
   ],
   "source": [
    "student_scores.setdefault(\"Mario2\", list())\n",
    "student_scores"
   ]
  },
  {
   "cell_type": "code",
   "execution_count": 10,
   "id": "ee185b4e-b448-4e25-a429-bff94b3cc8a9",
   "metadata": {},
   "outputs": [
    {
     "name": "stdout",
     "output_type": "stream",
     "text": [
      "Help on method_descriptor:\n",
      "\n",
      "setdefault(self, key, default=None, /)\n",
      "    Insert key with a value of default if key is not in the dictionary.\n",
      "    \n",
      "    Return the value for key if key is in the dictionary, else default.\n",
      "\n"
     ]
    }
   ],
   "source": [
    "help(defaultdict.setdefault)"
   ]
  },
  {
   "cell_type": "code",
   "execution_count": null,
   "id": "21673343-f184-4904-a8da-b05a16074774",
   "metadata": {},
   "outputs": [],
   "source": []
  },
  {
   "cell_type": "code",
   "execution_count": null,
   "id": "28925c46-c570-4986-b42d-11ad2ad28254",
   "metadata": {},
   "outputs": [],
   "source": []
  }
 ],
 "metadata": {
  "kernelspec": {
   "display_name": "Python 3 (ipykernel)",
   "language": "python",
   "name": "python3"
  },
  "language_info": {
   "codemirror_mode": {
    "name": "ipython",
    "version": 3
   },
   "file_extension": ".py",
   "mimetype": "text/x-python",
   "name": "python",
   "nbconvert_exporter": "python",
   "pygments_lexer": "ipython3",
   "version": "3.9.12"
  }
 },
 "nbformat": 4,
 "nbformat_minor": 5
}
