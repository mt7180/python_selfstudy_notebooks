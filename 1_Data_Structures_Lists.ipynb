{
 "cells": [
  {
   "cell_type": "markdown",
   "id": "fac2b6b0",
   "metadata": {},
   "source": [
    "# [1] Data Structures: Lists"
   ]
  },
  {
   "cell_type": "markdown",
   "id": "b2126d56",
   "metadata": {},
   "source": [
    "A list is a build-in mutable sequence, which is ordered, changeble and iterable. It allows duplicate members. Searching in lists has time complexity O(n)"
   ]
  },
  {
   "cell_type": "code",
   "execution_count": 47,
   "id": "911467fc",
   "metadata": {},
   "outputs": [],
   "source": [
    "# help(list)"
   ]
  },
  {
   "cell_type": "markdown",
   "id": "baf6891d",
   "metadata": {},
   "source": [
    "## Generating Lists"
   ]
  },
  {
   "cell_type": "code",
   "execution_count": 48,
   "id": "f5e19b84",
   "metadata": {},
   "outputs": [
    {
     "data": {
      "text/plain": [
       "['item1', 'item2', 'item3']"
      ]
     },
     "execution_count": 48,
     "metadata": {},
     "output_type": "execute_result"
    }
   ],
   "source": [
    "l = [\"item1\", \"item2\", \"item3\"]\n",
    "l"
   ]
  },
  {
   "cell_type": "markdown",
   "id": "4ae22f62",
   "metadata": {},
   "source": [
    "which is equivalent to:"
   ]
  },
  {
   "cell_type": "code",
   "execution_count": 49,
   "id": "c39f3ea4",
   "metadata": {},
   "outputs": [
    {
     "data": {
      "text/plain": [
       "['item2', 'item3', 'item4']"
      ]
     },
     "execution_count": 49,
     "metadata": {},
     "output_type": "execute_result"
    }
   ],
   "source": [
    "l = list((\"item2\", \"item3\", \"item4\"))\n",
    "l"
   ]
  },
  {
   "cell_type": "markdown",
   "id": "892fecc0",
   "metadata": {},
   "source": [
    "lists can also be generated like this:"
   ]
  },
  {
   "cell_type": "code",
   "execution_count": 50,
   "id": "7e9aaa96",
   "metadata": {},
   "outputs": [
    {
     "data": {
      "text/plain": [
       "[0, 1, 2, 3]"
      ]
     },
     "execution_count": 50,
     "metadata": {},
     "output_type": "execute_result"
    }
   ],
   "source": [
    "l = list(range(4))\n",
    "l"
   ]
  },
  {
   "cell_type": "code",
   "execution_count": 66,
   "id": "c11475bc",
   "metadata": {},
   "outputs": [
    {
     "data": {
      "text/plain": [
       "[0, 1, 2, 3]"
      ]
     },
     "execution_count": 66,
     "metadata": {},
     "output_type": "execute_result"
    }
   ],
   "source": [
    "l = [*range(4)]\n",
    "l"
   ]
  },
  {
   "cell_type": "markdown",
   "id": "fb732f08",
   "metadata": {},
   "source": [
    "a list of tuples with enumerated input like this:"
   ]
  },
  {
   "cell_type": "code",
   "execution_count": 51,
   "id": "7f4a0392",
   "metadata": {},
   "outputs": [
    {
     "data": {
      "text/plain": [
       "[(0, 'item1'), (1, 'item2'), (2, 'item3')]"
      ]
     },
     "execution_count": 51,
     "metadata": {},
     "output_type": "execute_result"
    }
   ],
   "source": [
    "input = [\"item1\", \"item2\", \"item3\"]\n",
    "output = [*enumerate(input)]\n",
    "output"
   ]
  },
  {
   "cell_type": "markdown",
   "id": "2ef3287f",
   "metadata": {},
   "source": [
    "or the other way around:"
   ]
  },
  {
   "cell_type": "code",
   "execution_count": 52,
   "id": "c85dd71e",
   "metadata": {},
   "outputs": [
    {
     "data": {
      "text/plain": [
       "[('item1', 0), ('item2', 1), ('item3', 2)]"
      ]
     },
     "execution_count": 52,
     "metadata": {},
     "output_type": "execute_result"
    }
   ],
   "source": [
    "output = [(inp, i) for i, inp in enumerate(input)]\n",
    "output"
   ]
  },
  {
   "cell_type": "markdown",
   "id": "a04591c1",
   "metadata": {},
   "source": [
    "## Sorting lists"
   ]
  },
  {
   "cell_type": "markdown",
   "id": "de9f3478",
   "metadata": {},
   "source": [
    "### list.sort()"
   ]
  },
  {
   "cell_type": "code",
   "execution_count": 53,
   "id": "1298dc3f",
   "metadata": {},
   "outputs": [
    {
     "data": {
      "text/plain": [
       "[['a', 1], ['c', 2], ['b', 5]]"
      ]
     },
     "execution_count": 53,
     "metadata": {},
     "output_type": "execute_result"
    }
   ],
   "source": [
    "lst = [[\"a\", 1], [\"b\", 5], [\"c\", 2]]\n",
    "lst.sort(key = lambda x: x[1])\n",
    "lst"
   ]
  },
  {
   "cell_type": "code",
   "execution_count": 54,
   "id": "11013cea",
   "metadata": {},
   "outputs": [
    {
     "data": {
      "text/plain": [
       "[2, 3, 4, 4, 5, 6]"
      ]
     },
     "execution_count": 54,
     "metadata": {},
     "output_type": "execute_result"
    }
   ],
   "source": [
    "kst= [2,4,3,5,4,6]\n",
    "kst.sort()\n",
    "kst"
   ]
  },
  {
   "cell_type": "markdown",
   "id": "6af96f18",
   "metadata": {},
   "source": [
    "## return value of .sort() is NONE!!!!! The list itself is rearranged."
   ]
  },
  {
   "cell_type": "code",
   "execution_count": 55,
   "id": "606e53ef",
   "metadata": {},
   "outputs": [
    {
     "name": "stdout",
     "output_type": "stream",
     "text": [
      "Help on method_descriptor:\n",
      "\n",
      "sort(self, /, *, key=None, reverse=False)\n",
      "    Sort the list in ascending order and return None.\n",
      "    \n",
      "    The sort is in-place (i.e. the list itself is modified) and stable (i.e. the\n",
      "    order of two equal elements is maintained).\n",
      "    \n",
      "    If a key function is given, apply it once to each list item and sort them,\n",
      "    ascending or descending, according to their function values.\n",
      "    \n",
      "    The reverse flag can be set to sort in descending order.\n",
      "\n"
     ]
    }
   ],
   "source": [
    "help(list.sort)"
   ]
  },
  {
   "cell_type": "markdown",
   "id": "3eb3c0f6",
   "metadata": {},
   "source": [
    "# sorted(list)\n",
    "### returns a new list"
   ]
  },
  {
   "cell_type": "code",
   "execution_count": 56,
   "id": "46ddeec0",
   "metadata": {},
   "outputs": [
    {
     "name": "stdout",
     "output_type": "stream",
     "text": [
      "Help on built-in function sorted in module builtins:\n",
      "\n",
      "sorted(iterable, /, *, key=None, reverse=False)\n",
      "    Return a new list containing all items from the iterable in ascending order.\n",
      "    \n",
      "    A custom key function can be supplied to customize the sort order, and the\n",
      "    reverse flag can be set to request the result in descending order.\n",
      "\n"
     ]
    }
   ],
   "source": [
    "help(sorted)"
   ]
  },
  {
   "cell_type": "code",
   "execution_count": 57,
   "id": "0b61e556",
   "metadata": {},
   "outputs": [],
   "source": [
    "l =  [[\"a\", 1], [\"b\", 5], [\"c\", 2]]"
   ]
  },
  {
   "cell_type": "code",
   "execution_count": 58,
   "id": "9114fc81",
   "metadata": {},
   "outputs": [
    {
     "data": {
      "text/plain": [
       "[['a', 1], ['c', 2], ['b', 5]]"
      ]
     },
     "execution_count": 58,
     "metadata": {},
     "output_type": "execute_result"
    }
   ],
   "source": [
    "sorted(l, key = lambda x: x[1])"
   ]
  },
  {
   "cell_type": "code",
   "execution_count": 59,
   "id": "bde45cf1",
   "metadata": {},
   "outputs": [
    {
     "name": "stdout",
     "output_type": "stream",
     "text": [
      "[1, 2] [2, 3] [3, 4]\n",
      "(1, 2, 3) (2, 3, 4)\n"
     ]
    }
   ],
   "source": [
    "a = [[1, 2], [2, 3], [3, 4]]\n",
    "a2 = zip(*a)\n",
    "#a2[0]\n",
    "print(*a)\n",
    "print(*a2)"
   ]
  },
  {
   "cell_type": "code",
   "execution_count": 60,
   "id": "f40f3bab",
   "metadata": {},
   "outputs": [],
   "source": [
    "# help(zip)"
   ]
  },
  {
   "cell_type": "code",
   "execution_count": 61,
   "id": "a22aec8e",
   "metadata": {},
   "outputs": [
    {
     "data": {
      "text/plain": [
       "[('a', 'c', 'b'), (1, 2, 5)]"
      ]
     },
     "execution_count": 61,
     "metadata": {},
     "output_type": "execute_result"
    }
   ],
   "source": [
    "l =  [[\"a\", 1], [\"b\", 5], [\"c\", 2]]\n",
    "list(zip(*sorted(l, key = lambda x: x[1])))"
   ]
  },
  {
   "cell_type": "code",
   "execution_count": 62,
   "id": "75b6e9ca",
   "metadata": {},
   "outputs": [
    {
     "data": {
      "text/plain": [
       "['a', 'c', 'b']"
      ]
     },
     "execution_count": 62,
     "metadata": {},
     "output_type": "execute_result"
    }
   ],
   "source": [
    "[item[0] for item in sorted(l, key = lambda x: x[1])]"
   ]
  },
  {
   "cell_type": "code",
   "execution_count": null,
   "id": "316541a0",
   "metadata": {},
   "outputs": [],
   "source": []
  },
  {
   "cell_type": "markdown",
   "id": "bb75aa22",
   "metadata": {},
   "source": [
    "## Searching in Lists"
   ]
  },
  {
   "cell_type": "code",
   "execution_count": 2,
   "id": "ed411500",
   "metadata": {},
   "outputs": [
    {
     "name": "stdout",
     "output_type": "stream",
     "text": [
      "passed\n",
      "passed\n"
     ]
    }
   ],
   "source": [
    "x, y, z = 0, 1, 0\n",
    "\n",
    "if 1 in [x, y, z]:\n",
    "    print('passed')\n",
    "\n",
    "# or if 1, which is the value for True, is the value to search for:\n",
    "\n",
    "if any([x, y, z]):\n",
    "    print('passed')"
   ]
  },
  {
   "cell_type": "code",
   "execution_count": 7,
   "id": "b12f649d",
   "metadata": {},
   "outputs": [],
   "source": [
    "x, y, z = 0, 1, 0\n",
    "if not any([x,y,z]):\n",
    "    print('not passed')"
   ]
  },
  {
   "cell_type": "code",
   "execution_count": null,
   "id": "51b0c2ca",
   "metadata": {},
   "outputs": [],
   "source": []
  }
 ],
 "metadata": {
  "kernelspec": {
   "display_name": "Python 3 (ipykernel)",
   "language": "python",
   "name": "python3"
  },
  "language_info": {
   "codemirror_mode": {
    "name": "ipython",
    "version": 3
   },
   "file_extension": ".py",
   "mimetype": "text/x-python",
   "name": "python",
   "nbconvert_exporter": "python",
   "pygments_lexer": "ipython3",
   "version": "3.9.10"
  }
 },
 "nbformat": 4,
 "nbformat_minor": 5
}
