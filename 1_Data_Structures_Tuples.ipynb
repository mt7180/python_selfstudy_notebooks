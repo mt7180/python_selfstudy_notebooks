{
 "cells": [
  {
   "cell_type": "code",
   "execution_count": null,
   "id": "0d720054",
   "metadata": {},
   "outputs": [],
   "source": []
  },
  {
   "cell_type": "code",
   "execution_count": null,
   "id": "484bd9c7",
   "metadata": {},
   "outputs": [],
   "source": []
  },
  {
   "cell_type": "code",
   "execution_count": null,
   "id": "44d589fe",
   "metadata": {},
   "outputs": [],
   "source": []
  },
  {
   "cell_type": "code",
   "execution_count": null,
   "id": "cacc6e9a",
   "metadata": {},
   "outputs": [],
   "source": []
  },
  {
   "cell_type": "markdown",
   "id": "5f788b7a",
   "metadata": {},
   "source": [
    "## namedtuple\n",
    "behaves like a class, but is faster to declare. Immutable!"
   ]
  },
  {
   "cell_type": "code",
   "execution_count": 4,
   "id": "d42aa31a",
   "metadata": {},
   "outputs": [
    {
     "data": {
      "text/plain": [
       "__main__.Car"
      ]
     },
     "execution_count": 4,
     "metadata": {},
     "output_type": "execute_result"
    }
   ],
   "source": [
    "from collections import namedtuple\n",
    "Car = namedtuple(\"Car\", \"model color milage\")  # splits 2nd string under the hood\n",
    "Car"
   ]
  },
  {
   "cell_type": "code",
   "execution_count": 6,
   "id": "cbecee4d",
   "metadata": {},
   "outputs": [],
   "source": [
    "Car = namedtuple(\"Car\", [\"model\", \"color\", \"milage\"])"
   ]
  },
  {
   "cell_type": "code",
   "execution_count": 9,
   "id": "30f48203",
   "metadata": {},
   "outputs": [
    {
     "data": {
      "text/plain": [
       "Car(model='Ford', color='silver', milage=2000)"
      ]
     },
     "execution_count": 9,
     "metadata": {},
     "output_type": "execute_result"
    }
   ],
   "source": [
    "my_car = Car(\"Ford\", \"silver\", 2000)\n",
    "my_car"
   ]
  },
  {
   "cell_type": "code",
   "execution_count": 10,
   "id": "1d12b62d",
   "metadata": {},
   "outputs": [
    {
     "data": {
      "text/plain": [
       "'Ford'"
      ]
     },
     "execution_count": 10,
     "metadata": {},
     "output_type": "execute_result"
    }
   ],
   "source": [
    "my_car.model"
   ]
  },
  {
   "cell_type": "code",
   "execution_count": 11,
   "id": "e7f085dc",
   "metadata": {},
   "outputs": [
    {
     "data": {
      "text/plain": [
       "__main__.Car"
      ]
     },
     "execution_count": 11,
     "metadata": {},
     "output_type": "execute_result"
    }
   ],
   "source": [
    "type(my_car)"
   ]
  },
  {
   "cell_type": "code",
   "execution_count": 12,
   "id": "cfc57898",
   "metadata": {},
   "outputs": [
    {
     "data": {
      "text/plain": [
       "True"
      ]
     },
     "execution_count": 12,
     "metadata": {},
     "output_type": "execute_result"
    }
   ],
   "source": [
    "isinstance(my_car, tuple)"
   ]
  },
  {
   "cell_type": "code",
   "execution_count": 13,
   "id": "20b880d9",
   "metadata": {},
   "outputs": [
    {
     "data": {
      "text/plain": [
       "'Ford'"
      ]
     },
     "execution_count": 13,
     "metadata": {},
     "output_type": "execute_result"
    }
   ],
   "source": [
    "my_car[0]"
   ]
  },
  {
   "cell_type": "markdown",
   "id": "2af62b43-99bc-446a-8cde-47f74ba50554",
   "metadata": {},
   "source": [
    "# from Fluent Python p. 5 #\n",
    "## Card-Deck ##"
   ]
  },
  {
   "cell_type": "code",
   "execution_count": 11,
   "id": "80181a3d-24c3-48e4-8129-b7ed2149b442",
   "metadata": {},
   "outputs": [
    {
     "data": {
      "text/plain": [
       "[Card(value='2', color='Kreuz'), Card(value='2', color='Pik'), Card(value='2', color='Herz'), Card(value='2', color='Karo'), Card(value='3', color='Kreuz'), Card(value='3', color='Pik'), Card(value='3', color='Herz'), Card(value='3', color='Karo'), Card(value='4', color='Kreuz'), Card(value='4', color='Pik'), Card(value='4', color='Herz'), Card(value='4', color='Karo'), Card(value='5', color='Kreuz'), Card(value='5', color='Pik'), Card(value='5', color='Herz'), Card(value='5', color='Karo'), Card(value='6', color='Kreuz'), Card(value='6', color='Pik'), Card(value='6', color='Herz'), Card(value='6', color='Karo'), Card(value='7', color='Kreuz'), Card(value='7', color='Pik'), Card(value='7', color='Herz'), Card(value='7', color='Karo'), Card(value='8', color='Kreuz'), Card(value='8', color='Pik'), Card(value='8', color='Herz'), Card(value='8', color='Karo'), Card(value='9', color='Kreuz'), Card(value='9', color='Pik'), Card(value='9', color='Herz'), Card(value='9', color='Karo'), Card(value='10', color='Kreuz'), Card(value='10', color='Pik'), Card(value='10', color='Herz'), Card(value='10', color='Karo'), Card(value='J', color='Kreuz'), Card(value='J', color='Pik'), Card(value='J', color='Herz'), Card(value='J', color='Karo'), Card(value='Q', color='Kreuz'), Card(value='Q', color='Pik'), Card(value='Q', color='Herz'), Card(value='Q', color='Karo'), Card(value='K', color='Kreuz'), Card(value='K', color='Pik'), Card(value='K', color='Herz'), Card(value='K', color='Karo'), Card(value='A', color='Kreuz'), Card(value='A', color='Pik'), Card(value='A', color='Herz'), Card(value='A', color='Karo')]"
      ]
     },
     "execution_count": 11,
     "metadata": {},
     "output_type": "execute_result"
    }
   ],
   "source": [
    "from collections import namedtuple\n",
    "\n",
    "# Class Card by namedtuple\n",
    "Card = namedtuple(\"Card\", [\"value\", \"color\"])\n",
    "\n",
    "class CardDeck:\n",
    "    values = [str(i) for i in range(2, 11)] + list(\"JQKA\")\n",
    "    colors = \"Kreuz Pik Herz Karo\".split()\n",
    "    \n",
    "    def __init__(self):\n",
    "        self._cards = [Card(value, color) for value in self.values\n",
    "                                           for color in self.colors]\n",
    "        \n",
    "    def __len__(self):\n",
    "        return len(self._cards)\n",
    "    \n",
    "    def __getitem__(self, position):\n",
    "        return self._cards[position]\n",
    "    \n",
    "    def __repr__(self):\n",
    "        return str(self._cards)\n",
    "    \n",
    "deck = CardDeck()\n",
    "deck"
   ]
  },
  {
   "cell_type": "code",
   "execution_count": null,
   "id": "f035515d-3c0e-49d5-beea-c4415895711e",
   "metadata": {},
   "outputs": [],
   "source": []
  }
 ],
 "metadata": {
  "kernelspec": {
   "display_name": "Python 3 (ipykernel)",
   "language": "python",
   "name": "python3"
  },
  "language_info": {
   "codemirror_mode": {
    "name": "ipython",
    "version": 3
   },
   "file_extension": ".py",
   "mimetype": "text/x-python",
   "name": "python",
   "nbconvert_exporter": "python",
   "pygments_lexer": "ipython3",
   "version": "3.9.10"
  }
 },
 "nbformat": 4,
 "nbformat_minor": 5
}
