{
 "cells": [
  {
   "cell_type": "markdown",
   "id": "9fd22b7c-0aac-46dc-ba88-1e9a46fca841",
   "metadata": {},
   "source": [
    "# [2] Algorithms: String Matching"
   ]
  },
  {
   "cell_type": "markdown",
   "id": "172dcb81",
   "metadata": {
    "tags": []
   },
   "source": [
    "## Brute Force String Matching"
   ]
  },
  {
   "cell_type": "code",
   "execution_count": 55,
   "id": "7bfac3e8",
   "metadata": {},
   "outputs": [
    {
     "data": {
      "text/plain": [
       "True"
      ]
     },
     "execution_count": 55,
     "metadata": {},
     "output_type": "execute_result"
    }
   ],
   "source": [
    "def string_matching(pattern, text):\n",
    "    count = 0\n",
    "    for i in range(0, len(text) - len(pattern) + 1):\n",
    "        match = 0\n",
    "        for j, p_char in enumerate(pattern):\n",
    "            count += 1\n",
    "            if text[i+match] == p_char:\n",
    "                    match += 1\n",
    "            else:\n",
    "                break\n",
    "            # print(count)\n",
    "            if len(pattern) == match:\n",
    "                return True           \n",
    "    return False\n",
    "   \n",
    "string_matching(\"mira\", \"amamiraaaaaaa\")"
   ]
  },
  {
   "cell_type": "markdown",
   "id": "321ced33",
   "metadata": {
    "tags": []
   },
   "source": [
    "## Brute Force String Matching aus dem TGI02-Skript"
   ]
  },
  {
   "cell_type": "code",
   "execution_count": 56,
   "id": "75de07f5",
   "metadata": {
    "collapsed": true,
    "jupyter": {
     "outputs_hidden": true
    },
    "tags": []
   },
   "outputs": [
    {
     "name": "stdout",
     "output_type": "stream",
     "text": [
      "\u001b[94maaaaaaamamir\u001b[0m\n",
      "\u001b[1mm\u001b[0mira________\n",
      "_\u001b[1mm\u001b[0mira_______\n",
      "__\u001b[1mm\u001b[0mira______\n",
      "___\u001b[1mm\u001b[0mira_____\n",
      "____\u001b[1mm\u001b[0mira____\n",
      "_____\u001b[1mm\u001b[0mira___\n",
      "______\u001b[1mm\u001b[0mira__\n",
      "_______\u001b[1mm\u001b[0mira_\n",
      "_______m\u001b[1mi\u001b[0mra_\n",
      "________\u001b[1mm\u001b[0mira\n",
      "_________\u001b[1mm\u001b[0mira\n",
      "_________m\u001b[1mi\u001b[0mra\n",
      "_________mi\u001b[1mr\u001b[0ma\n",
      "13\n"
     ]
    },
    {
     "data": {
      "text/plain": [
       "False"
      ]
     },
     "execution_count": 56,
     "metadata": {},
     "output_type": "execute_result"
    }
   ],
   "source": [
    "def string_matching2(p, S, print_flag = True):\n",
    "    i, j, count = 0, 0, 0\n",
    "    if print_flag: print(f\"\\033[94m{S}\\033[0m\")\n",
    "    while(i<len(S) and j<len(p)):\n",
    "        if print_flag:\n",
    "            print(f\"{(i-j)*'_'}{p[:j]}\\033[1m{p[j]}\\033[0m{p[j+1:]}{(len(S)-len(p)-(i-j))*'_'}\")\n",
    "        count += 1\n",
    "        if p[j] == S[i]:\n",
    "            j += 1\n",
    "            i += 1\n",
    "        else:\n",
    "            #if i > (len(S)-len(p)-1) and j == 0: return False\n",
    "            i = i - j + 1\n",
    "            j = 0\n",
    "            \n",
    "    if j==len(p): return True\n",
    "    if print_flag: print(count)\n",
    "    return False\n",
    "    \n",
    "string_matching2(\"mira\", \"aaaaaaamamir\")"
   ]
  },
  {
   "cell_type": "code",
   "execution_count": null,
   "id": "263820b4-6414-4d55-b2db-cb1018a2550b",
   "metadata": {},
   "outputs": [],
   "source": []
  },
  {
   "cell_type": "markdown",
   "id": "e2704b0f",
   "metadata": {},
   "source": [
    "# KMP binary Matching  Algorithm - TGI02 Script"
   ]
  },
  {
   "cell_type": "code",
   "execution_count": 6,
   "id": "42e345e4",
   "metadata": {},
   "outputs": [
    {
     "data": {
      "text/plain": [
       "[0, 1, 0, 1, 3, 0, 2, 2]"
      ]
     },
     "execution_count": 6,
     "metadata": {},
     "output_type": "execute_result"
    }
   ],
   "source": [
    "def calc_next_array(p):\n",
    "    \"\"\"calculate the shift array or lps array\"\"\"\n",
    "    n = p.bit_length()\n",
    "    next = []\n",
    "    for i in range(n):\n",
    "        next_value = 0\n",
    "        if i != 0:\n",
    "            # p auf i+1 te STelle kuerzen\n",
    "            p_short = [int(x) for x in bin(p)[2:i+1+2]]  # +1 da stop exklusive +2 wg 0b\n",
    "            # p_new = p' berechnen, das Mismatch an Stelle i erzeugt\n",
    "            p_new = p_short.copy()\n",
    "            p_new[i] ^= 1  # XOR 1 switched genau 0 und 1\n",
    "\n",
    "            m = i + 1 # Laenge des gekuerzten p bzw p'\n",
    "            for j, digit in enumerate(p_short, 1):\n",
    "                condition = all([p_short[k] == p_new[m - j +k] for k in range(0,j)])\n",
    "                next_value = next_value if not condition else j\n",
    "        next.append(next_value)\n",
    "    return next\n",
    "\n",
    "p = 0b10100111\n",
    "calc_next_array(p)"
   ]
  },
  {
   "cell_type": "code",
   "execution_count": 58,
   "id": "027c9ff9",
   "metadata": {
    "collapsed": true,
    "jupyter": {
     "outputs_hidden": true
    },
    "scrolled": true,
    "tags": []
   },
   "outputs": [
    {
     "name": "stdout",
     "output_type": "stream",
     "text": [
      "next_array:  [0, 1, 0, 1, 3, 0]\n",
      "10101010010\n",
      "\u001b[1m1\u001b[0m01001_____\n",
      "1\u001b[1m0\u001b[0m1001_____\n",
      "10\u001b[1m1\u001b[0m001_____\n",
      "101\u001b[1m0\u001b[0m01_____\n",
      "1010\u001b[1m0\u001b[0m1_____\n",
      "__101\u001b[1m0\u001b[0m01___\n",
      "__1010\u001b[1m0\u001b[0m1___\n",
      "____101\u001b[1m0\u001b[0m01_\n",
      "____1010\u001b[1m0\u001b[0m1_\n",
      "____10100\u001b[1m1\u001b[0m_\n"
     ]
    },
    {
     "data": {
      "text/plain": [
       "True"
      ]
     },
     "execution_count": 58,
     "metadata": {},
     "output_type": "execute_result"
    }
   ],
   "source": [
    "def matching_KMP2(pattern, scantext):\n",
    "    i, j = 0, 0\n",
    "    next = calc_next_array(pattern)\n",
    "    print(\"next_array: \", next)\n",
    "    scan_string = str(bin(scantext))[2:]\n",
    "    p = str(bin(pattern))[2:]\n",
    "    print(scan_string)\n",
    "    while i < len(scan_string) and j < len(p):\n",
    "        print(f\"{(i-j)*'_'}{p[:j]}\\033[1m{p[j]}\\033[0m{p[j+1:]}{(len(scan_string)-len(p)-(i-j))*'_'}\")\n",
    "        if p[j] == scan_string[i]:\n",
    "            if j == len(p)-1: return True\n",
    "            j += 1\n",
    "        else:\n",
    "            j = next[j]\n",
    "        i += 1\n",
    "    return False\n",
    "\n",
    "p = 0b101001\n",
    "\n",
    "matching_KMP2(p, 0b10101010010)"
   ]
  },
  {
   "cell_type": "code",
   "execution_count": 67,
   "id": "a94acf6c",
   "metadata": {
    "tags": []
   },
   "outputs": [
    {
     "name": "stdout",
     "output_type": "stream",
     "text": [
      "[0, 1, 0, 1, 3, 0]\n",
      "10101010010\n",
      "\u001b[1m1\u001b[0m01001_____\n",
      "1\u001b[1m0\u001b[0m1001_____\n",
      "10\u001b[1m1\u001b[0m001_____\n",
      "101\u001b[1m0\u001b[0m01_____\n",
      "1010\u001b[1m0\u001b[0m1_____\n",
      "__101\u001b[1m0\u001b[0m01___\n",
      "__1010\u001b[1m0\u001b[0m1___\n",
      "____101\u001b[1m0\u001b[0m01_\n",
      "____1010\u001b[1m0\u001b[0m1_\n",
      "____10100\u001b[1m1\u001b[0m_\n"
     ]
    },
    {
     "data": {
      "text/plain": [
       "'vorhanden'"
      ]
     },
     "execution_count": 67,
     "metadata": {},
     "output_type": "execute_result"
    }
   ],
   "source": [
    "def matchingKMP(p, S):\n",
    "    \"\"\" TGI02\"\"\"\n",
    "    i, j = 0, 0\n",
    "    next_array = calc_next_array(int(p,2))\n",
    "    print(next_array)\n",
    "    print(S)\n",
    "    while (i < len(S) and j < len(p)):\n",
    "        print(f\"{(i-j)*'_'}{p[:j]}\\033[1m{p[j]}\\033[0m{p[j+1:]}{(len(S)-len(p)-(i-j))*'_'}\")\n",
    "        # println \"i:\" + i + \" j:\" + j\n",
    "        if (p[j] == S[i]):\n",
    "            i+=1\n",
    "            j+=1\n",
    "        \n",
    "        else:\n",
    "            j = next_array[j]\n",
    "            i+=1\n",
    "    \n",
    "    if j == len(p): return \"vorhanden\"  \n",
    "    return \"nicht vorhanden\"\n",
    "\n",
    "p = \"101001\"\n",
    "matchingKMP(p, \"10101010010\")"
   ]
  },
  {
   "cell_type": "code",
   "execution_count": 60,
   "id": "29f8ede1",
   "metadata": {
    "jupyter": {
     "source_hidden": true
    },
    "tags": []
   },
   "outputs": [
    {
     "data": {
      "text/plain": [
       "'0b11'"
      ]
     },
     "execution_count": 60,
     "metadata": {},
     "output_type": "execute_result"
    }
   ],
   "source": [
    "p = \"011\"\n",
    "bin(int(p,2))"
   ]
  },
  {
   "cell_type": "markdown",
   "id": "75c0497f",
   "metadata": {
    "tags": []
   },
   "source": [
    "## KMP String Matching Algorithm - not binary!"
   ]
  },
  {
   "cell_type": "code",
   "execution_count": 7,
   "id": "4e9f70d7",
   "metadata": {},
   "outputs": [
    {
     "data": {
      "text/plain": [
       "[0, 0, 0, 1, 2, 0]"
      ]
     },
     "execution_count": 7,
     "metadata": {},
     "output_type": "execute_result"
    }
   ],
   "source": [
    "def compute_next_array(pattern):\n",
    "    n = len(pattern)\n",
    "    pointer = 0\n",
    "    i = 1\n",
    "    next_array = [0]*len(pattern)\n",
    "    while i < n:\n",
    "        if pattern[i] == pattern[pointer]:\n",
    "            pointer += 1\n",
    "            next_array[i] = pointer\n",
    "            i += 1\n",
    "        else:\n",
    "            if pointer != 0:\n",
    "                pointer = next_array[pointer-1]\n",
    "            else:\n",
    "                next_array[i] = 0\n",
    "                i += 1    \n",
    "    return next_array\n",
    "\n",
    "def string_matching_kmp(pattern, text):\n",
    "    next_array = compute_next_array(pattern)\n",
    "    count = 0\n",
    "    i = 0\n",
    "    while i < len(text) - len(pattern) + 1:\n",
    "        match = 0\n",
    "        for j, p_char in enumerate(pattern):\n",
    "            count += 1\n",
    "            if text[i+match] == p_char:\n",
    "                match += 1   \n",
    "            else:\n",
    "                print(match, next_array[match])\n",
    "                i += 1 # (next_array[match])\n",
    "                break\n",
    "           \n",
    "        print(count)        \n",
    "        if len(pattern) == match:\n",
    "            return True\n",
    "         \n",
    "    return False\n",
    "compute_next_array(\"onions\")\n",
    "# string_matching_kmp(\"mira\", \"amamiraaaaaaa\")"
   ]
  },
  {
   "cell_type": "code",
   "execution_count": 3,
   "id": "5d6b1cd6",
   "metadata": {},
   "outputs": [
    {
     "data": {
      "text/plain": [
       "[0, 0, 0, 1, 2, 0]"
      ]
     },
     "execution_count": 3,
     "metadata": {},
     "output_type": "execute_result"
    }
   ],
   "source": [
    "def compute_lps(pattern: str) -> list[int]:\n",
    "    # Longest Proper Prefix that is suffix array\n",
    "    lps = [0] * len(pattern)\n",
    "\n",
    "    prefi = 0\n",
    "    for i in range(1, len(pattern)):\n",
    "        \n",
    "        # Phase 3: roll the prefix pointer back until match or \n",
    "        # beginning of pattern is reached\n",
    "        while prefi and pattern[i] != pattern[prefi]:\n",
    "            prefi = lps[prefi - 1]\n",
    "\n",
    "        # Phase 2: if match, record the LSP for the current `i`\n",
    "        # and move prefix pointer\n",
    "        if pattern[prefi] == pattern[i]:\n",
    "            prefi += 1\n",
    "            lps[i] = prefi\n",
    "\n",
    "        # Phase 1: is implicit here because of the for loop and \n",
    "        # conditions considered above\n",
    "\n",
    "    return lps\n",
    "\n",
    "\n",
    "compute_lps(\"onions\")"
   ]
  },
  {
   "cell_type": "markdown",
   "id": "81a62a8b",
   "metadata": {},
   "source": [
    "# Boyer-Moore String Matching\n",
    "pattern wird immer von hinten angefangen zu überprüfen, bei mismatch gemaess shift table von links nach rechts geshifted"
   ]
  },
  {
   "cell_type": "code",
   "execution_count": null,
   "id": "1ec6d755",
   "metadata": {},
   "outputs": [
    {
     "data": {
      "text/plain": [
       "{'o': 0, 'l': 2, 'g': 1}"
      ]
     },
     "execution_count": 1,
     "metadata": {},
     "output_type": "execute_result"
    }
   ],
   "source": [
    "def generate_shift_table(pattern):\n",
    "    n = len(pattern)\n",
    "    skip_list = {} # creating a dictionary\n",
    "    for i, letter in enumerate(pattern) :\n",
    "        skip_list[letter] = n-i-1 #max(1, n - i - 1)\n",
    "        # key will be the character, value will be the number of shifts\n",
    "    return skip_list\n",
    "\n",
    "generate_shift_table(\"olgo\")"
   ]
  },
  {
   "cell_type": "code",
   "execution_count": 4,
   "id": "4e06f1f1",
   "metadata": {},
   "outputs": [
    {
     "name": "stdout",
     "output_type": "stream",
     "text": [
      "6 21\n",
      "shift array:  {'a': 5, 'b': 4, 'c': 3, 'd': 2, 'e': 1, 'f': 0}\n",
      "aababcabcdabcdeabcdef\n",
      "abcde\u001b[1mf\u001b[0m_______________\n",
      "3\n",
      "___abcde\u001b[1mf\u001b[0m____________\n",
      "3\n",
      "______abcde\u001b[1mf\u001b[0m_________\n",
      "4\n",
      "__________abcde\u001b[1mf\u001b[0m_____\n",
      "5\n",
      "_______________abcde\u001b[1mf\u001b[0m\n",
      "_______________abcd\u001b[1me\u001b[0mf\n",
      "_______________abc\u001b[1md\u001b[0mef\n",
      "_______________ab\u001b[1mc\u001b[0mdef\n",
      "_______________a\u001b[1mb\u001b[0mcdef\n",
      "_______________\u001b[1ma\u001b[0mbcdef\n"
     ]
    },
    {
     "data": {
      "text/plain": [
       "True"
      ]
     },
     "execution_count": 4,
     "metadata": {},
     "output_type": "execute_result"
    }
   ],
   "source": [
    "def boyer_moore_matching(pattern, scantext, print_flag = True):\n",
    "    n = len(pattern)\n",
    "    i = n-1\n",
    "    j = i\n",
    "    match = 0\n",
    "    nextT = generate_shift_table(pattern)\n",
    "    if print_flag: \n",
    "        print(\"shift array: \", nextT)\n",
    "        print(scantext)\n",
    "    \n",
    "    while i < len(scantext) and j >= 0:\n",
    "        # print(i, j)\n",
    "        if print_flag: \n",
    "            print_string = f\"{(i-j)*'_'}{pattern[:j]}\"\\\n",
    "                f\"\\033[1m{pattern[j]}\\033[0m\"\\\n",
    "                f\"{pattern[j+1:]}\"\\\n",
    "                f\"{(len(scantext)-len(pattern)-(i-j))*'_'}\"\n",
    "            print(print_string)\n",
    "        if pattern[j] == scantext[i]:\n",
    "            if j == 0: return True\n",
    "            j -= 1\n",
    "            i -= 1\n",
    "            match += 1\n",
    "        else: \n",
    "            print(nextT.get(scantext[i], n))\n",
    "            i +=  nextT.get(scantext[i], n) # pattern[j]\n",
    "            j = n-1\n",
    "            match = 0\n",
    "    return False\n",
    "\n",
    "p = \"abcdef\"\n",
    "s = \"aababcabcdabcdeabcdef\"\n",
    "print(len(p), len(s))\n",
    "boyer_moore_matching(p, s)"
   ]
  },
  {
   "cell_type": "markdown",
   "id": "3eddd426",
   "metadata": {},
   "source": [
    "https://cmps-people.ok.ubc.ca/ylucet/DS/BoyerMoore.html"
   ]
  },
  {
   "cell_type": "code",
   "execution_count": 16,
   "id": "6b637b36",
   "metadata": {},
   "outputs": [
    {
     "name": "stdout",
     "output_type": "stream",
     "text": [
      "shift array:  {'h': 3, 'i': 2, 'n': 1, 'g': 0}\n",
      "This is a searching example\n",
      "hin\u001b[1mg\u001b[0m_______________________\n",
      "____hin\u001b[1mg\u001b[0m___________________\n",
      "________hin\u001b[1mg\u001b[0m_______________\n",
      "____________hin\u001b[1mg\u001b[0m___________\n",
      "_______________hin\u001b[1mg\u001b[0m________\n",
      "_______________hi\u001b[1mn\u001b[0mg________\n",
      "_______________h\u001b[1mi\u001b[0mng________\n",
      "_______________\u001b[1mh\u001b[0ming________\n"
     ]
    },
    {
     "data": {
      "text/plain": [
       "True"
      ]
     },
     "execution_count": 16,
     "metadata": {},
     "output_type": "execute_result"
    }
   ],
   "source": [
    "boyer_moore_matching(\"hing\", \"This is a searching example\")"
   ]
  },
  {
   "cell_type": "markdown",
   "id": "56096061",
   "metadata": {},
   "source": [
    "# Rabin-Karp-Matching"
   ]
  },
  {
   "cell_type": "code",
   "execution_count": 63,
   "id": "5e24cdaa",
   "metadata": {},
   "outputs": [
    {
     "name": "stdout",
     "output_type": "stream",
     "text": [
      "\u001b[94m852\u001b[0m\n",
      "\u001b[1m8\u001b[0m41\n",
      "8\u001b[1m4\u001b[0m1\n",
      "_\u001b[1m8\u001b[0m41\n",
      "__\u001b[1m8\u001b[0m41\n",
      "4\n",
      "\u001b[94m467\u001b[0m\n",
      "\u001b[1m8\u001b[0m41\n",
      "_\u001b[1m8\u001b[0m41\n",
      "__\u001b[1m8\u001b[0m41\n",
      "3\n",
      "\u001b[94m841\u001b[0m\n",
      "\u001b[1m8\u001b[0m41\n",
      "8\u001b[1m4\u001b[0m1\n",
      "84\u001b[1m1\u001b[0m\n"
     ]
    },
    {
     "data": {
      "text/plain": [
       "True"
      ]
     },
     "execution_count": 63,
     "metadata": {},
     "output_type": "execute_result"
    }
   ],
   "source": [
    "def calc_hash(x):\n",
    "    return int(x) % 11\n",
    "\n",
    "\n",
    "def matching_Rabin_Karp(p, S):\n",
    "    pattern_hash = calc_hash(p)\n",
    "    \n",
    "    for si in range(len(S) -len(p)):\n",
    "        tmp = S[si:si + len(p)]\n",
    "        \n",
    "        scan_hash = calc_hash(tmp)\n",
    "        if pattern_hash == scan_hash:\n",
    "            if string_matching2(p, tmp, print_flag = True): return True\n",
    "    return False\n",
    "\n",
    "pattern = \"841\"\n",
    "scantext = \"852467384194\"\n",
    "matching_Rabin_Karp(pattern, scantext)\n"
   ]
  },
  {
   "cell_type": "code",
   "execution_count": 28,
   "id": "eac87fb8",
   "metadata": {},
   "outputs": [
    {
     "data": {
      "text/plain": [
       "1.0"
      ]
     },
     "execution_count": 28,
     "metadata": {},
     "output_type": "execute_result"
    }
   ],
   "source": [
    "import math\n",
    "math.log(2,2)"
   ]
  },
  {
   "cell_type": "code",
   "execution_count": 19,
   "id": "440874cf-c9f8-4aa9-bed8-0a4ba062f923",
   "metadata": {},
   "outputs": [
    {
     "name": "stdout",
     "output_type": "stream",
     "text": [
      "glgoA\n",
      "3 3\n",
      "glgoA\n",
      "Alg\u001b[1mo\u001b[0m_\n",
      "2 2\n",
      "glgoA\n",
      "Al\u001b[1mg\u001b[0mo_\n",
      "1 1\n",
      "glgoA\n",
      "A\u001b[1ml\u001b[0mgo_\n",
      "0 0\n",
      "glgoA\n",
      "\u001b[1mA\u001b[0mlgo_\n",
      "1\n"
     ]
    },
    {
     "data": {
      "text/plain": [
       "False"
      ]
     },
     "execution_count": 19,
     "metadata": {},
     "output_type": "execute_result"
    }
   ],
   "source": [
    "def nextT(j):\n",
    "    if (j == \"A\"): return 3\n",
    "    if (j == \"l\"): return 2\n",
    "    if (j == \"g\"): return 1        \n",
    "    return 4\n",
    "\n",
    "def matchingBoyerMoore(p, S):\n",
    "    si = len(p)-1 # .Size()\n",
    "    pi = si\n",
    "    print(S)\n",
    "    stop=0\n",
    "    while (si < len(S)):\n",
    "        print(pi, si)\n",
    "        print_string = f\"{(si-pi)*'_'}{p[:pi]}\"\\\n",
    "            f\"\\033[1m{p[pi]}\\033[0m\"\\\n",
    "            f\"{p[pi+1:]}\"\\\n",
    "            f\"{(len(S)-len(p)-(si-pi))*'_'}\"\n",
    "        print(S)\n",
    "        print(print_string)\n",
    "        if (p[pi] == S[si]):\n",
    "            if (pi == 0): \n",
    "                print(stop)\n",
    "                return True\n",
    "            pi = pi - 1\n",
    "            si = si - 1\n",
    "        else:\n",
    "            print(nextT(S[si]))\n",
    "            #si = si + nextT(S[si])\n",
    "            si = si + (len(p) -pi -1)+nextT(S[si+len(p)-1-pi])\n",
    "            pi = len(p)-1\n",
    "        stop += 1\n",
    "        if stop > 30: return False\n",
    "    return False\n",
    "matchingBoyerMoore(\"Algo\", \"glgoA\")\n",
    "#matchingBoyerMoore(\"Algo\", \"gfglzugkgooehjsehbAlgkpodfdovAlgoooo\")\n",
    "#matchingBoyerMoore(\"Algo\", \"coArgoAlgo\")"
   ]
  },
  {
   "cell_type": "code",
   "execution_count": 3,
   "id": "9f6b9d19-f47b-4a7b-82f4-309cd57e5f97",
   "metadata": {},
   "outputs": [
    {
     "name": "stdout",
     "output_type": "stream",
     "text": [
      "gfglzugkgooehjsehbAlgkpodfdovAlgoooo\n",
      "3 3\n",
      "gfglzugkgooehjsehbAlgkpodfdovAlgoooo\n",
      "Alg\u001b[1mo\u001b[0m________________________________\n",
      "3 3\n",
      "3 6\n",
      "gfglzugkgooehjsehbAlgkpodfdovAlgoooo\n",
      "___Alg\u001b[1mo\u001b[0m_____________________________\n",
      "3 2\n",
      "3 8\n",
      "gfglzugkgooehjsehbAlgkpodfdovAlgoooo\n",
      "_____Alg\u001b[1mo\u001b[0m___________________________\n",
      "3 2\n",
      "3 10\n",
      "gfglzugkgooehjsehbAlgkpodfdovAlgoooo\n",
      "_______Alg\u001b[1mo\u001b[0m_________________________\n",
      "2 9\n",
      "gfglzugkgooehjsehbAlgkpodfdovAlgoooo\n",
      "_______Al\u001b[1mg\u001b[0mo_________________________\n",
      "2 1\n",
      "3 11\n",
      "gfglzugkgooehjsehbAlgkpodfdovAlgoooo\n",
      "________Alg\u001b[1mo\u001b[0m________________________\n",
      "3 1\n",
      "3 12\n",
      "gfglzugkgooehjsehbAlgkpodfdovAlgoooo\n",
      "_________Alg\u001b[1mo\u001b[0m_______________________\n",
      "3 1\n",
      "3 13\n",
      "gfglzugkgooehjsehbAlgkpodfdovAlgoooo\n",
      "__________Alg\u001b[1mo\u001b[0m______________________\n",
      "3 1\n",
      "3 14\n",
      "gfglzugkgooehjsehbAlgkpodfdovAlgoooo\n",
      "___________Alg\u001b[1mo\u001b[0m_____________________\n",
      "3 1\n",
      "3 15\n",
      "gfglzugkgooehjsehbAlgkpodfdovAlgoooo\n",
      "____________Alg\u001b[1mo\u001b[0m____________________\n",
      "3 1\n",
      "3 16\n",
      "gfglzugkgooehjsehbAlgkpodfdovAlgoooo\n",
      "_____________Alg\u001b[1mo\u001b[0m___________________\n",
      "3 1\n",
      "3 17\n",
      "gfglzugkgooehjsehbAlgkpodfdovAlgoooo\n",
      "______________Alg\u001b[1mo\u001b[0m__________________\n",
      "3 1\n",
      "3 18\n",
      "gfglzugkgooehjsehbAlgkpodfdovAlgoooo\n",
      "_______________Alg\u001b[1mo\u001b[0m_________________\n",
      "3 4\n",
      "3 22\n",
      "gfglzugkgooehjsehbAlgkpodfdovAlgoooo\n",
      "___________________Alg\u001b[1mo\u001b[0m_____________\n",
      "3 1\n",
      "3 23\n",
      "gfglzugkgooehjsehbAlgkpodfdovAlgoooo\n",
      "____________________Alg\u001b[1mo\u001b[0m____________\n",
      "2 22\n",
      "gfglzugkgooehjsehbAlgkpodfdovAlgoooo\n",
      "____________________Al\u001b[1mg\u001b[0mo____________\n",
      "2 1\n",
      "3 24\n",
      "gfglzugkgooehjsehbAlgkpodfdovAlgoooo\n",
      "_____________________Alg\u001b[1mo\u001b[0m___________\n",
      "3 1\n",
      "3 25\n",
      "gfglzugkgooehjsehbAlgkpodfdovAlgoooo\n",
      "______________________Alg\u001b[1mo\u001b[0m__________\n",
      "3 1\n",
      "3 26\n",
      "gfglzugkgooehjsehbAlgkpodfdovAlgoooo\n",
      "_______________________Alg\u001b[1mo\u001b[0m_________\n",
      "3 1\n",
      "3 27\n",
      "gfglzugkgooehjsehbAlgkpodfdovAlgoooo\n",
      "________________________Alg\u001b[1mo\u001b[0m________\n",
      "2 26\n",
      "gfglzugkgooehjsehbAlgkpodfdovAlgoooo\n",
      "________________________Al\u001b[1mg\u001b[0mo________\n",
      "2 1\n",
      "3 28\n",
      "gfglzugkgooehjsehbAlgkpodfdovAlgoooo\n",
      "_________________________Alg\u001b[1mo\u001b[0m_______\n",
      "3 1\n",
      "3 29\n",
      "gfglzugkgooehjsehbAlgkpodfdovAlgoooo\n",
      "__________________________Alg\u001b[1mo\u001b[0m______\n",
      "3 4\n",
      "3 33\n",
      "gfglzugkgooehjsehbAlgkpodfdovAlgoooo\n",
      "______________________________Alg\u001b[1mo\u001b[0m__\n",
      "2 32\n",
      "gfglzugkgooehjsehbAlgkpodfdovAlgoooo\n",
      "______________________________Al\u001b[1mg\u001b[0mo__\n",
      "2 1\n",
      "3 34\n",
      "gfglzugkgooehjsehbAlgkpodfdovAlgoooo\n",
      "_______________________________Alg\u001b[1mo\u001b[0m_\n",
      "2 33\n",
      "gfglzugkgooehjsehbAlgkpodfdovAlgoooo\n",
      "_______________________________Al\u001b[1mg\u001b[0mo_\n",
      "2 1\n",
      "3 35\n",
      "gfglzugkgooehjsehbAlgkpodfdovAlgoooo\n",
      "________________________________Alg\u001b[1mo\u001b[0m\n",
      "2 34\n",
      "gfglzugkgooehjsehbAlgkpodfdovAlgoooo\n",
      "________________________________Al\u001b[1mg\u001b[0mo\n",
      "2 1\n"
     ]
    },
    {
     "data": {
      "text/plain": [
       "False"
      ]
     },
     "execution_count": 3,
     "metadata": {},
     "output_type": "execute_result"
    }
   ],
   "source": [
    "def back(j):\n",
    "    if (j == \"A\"): return 4\n",
    "    if (j == \"l\"): return 3\n",
    "    if (j == \"g\"): return 2\n",
    "    return 1\n",
    "\n",
    "\n",
    "def matchingBoyerMoore(p, S):\n",
    "    si = len(p)-1 # .Size()\n",
    "    pi = si\n",
    "    print(S)\n",
    "    stop=0\n",
    "    while (si < len(S)):\n",
    "        print(pi, si)\n",
    "        print_string = f\"{(si-pi)*'_'}{p[:pi]}\"\\\n",
    "            f\"\\033[1m{p[pi]}\\033[0m\"\\\n",
    "            f\"{p[pi+1:]}\"\\\n",
    "            f\"{(len(S)-len(p)-(si-pi))*'_'}\"\n",
    "        print(S)\n",
    "        print(print_string)\n",
    "        if (p[pi] == S[si]):\n",
    "            if (pi == 0): \n",
    "                print(stop)\n",
    "                return True\n",
    "            pi = pi - 1\n",
    "            si = si - 1\n",
    "\n",
    "        else:\n",
    "            print(pi, back(S[si]))\n",
    "            #si = si + (len(p) -pi -1)+back(S[si+1])\n",
    "            si = si + (len(p) -pi -1)+back(S[si+len(p)-1-pi])\n",
    "            #si = si  + back(S[si])\n",
    "            pi = len(p)-1\n",
    "            \n",
    "            #if pi <0: \n",
    "            #    pi = len(p)-1\n",
    "            #    si += len(\n",
    "            #si += len(p)\n",
    "            #si = si - back(S[si])\n",
    "        stop += 1\n",
    "        if stop >30: return False\n",
    "    return False\n",
    "#matchingBoyerMoore(\"Algo\", \"coArgoAlgo\")\n",
    "matchingBoyerMoore(\"Algo\", \"gfglzugkgooehjsehbAlgkpodfdovAlgoooo\")"
   ]
  },
  {
   "cell_type": "code",
   "execution_count": 13,
   "id": "902029ec-5bd8-44a9-8a72-accfce15b011",
   "metadata": {},
   "outputs": [
    {
     "name": "stdout",
     "output_type": "stream",
     "text": [
      "{'A': 4, 'l': 3, 'g': 2}\n"
     ]
    }
   ],
   "source": [
    "def define_back(w):\n",
    "    D = {}\n",
    "    for i in range(0, len(w)-1):\n",
    "        D[w[i]]= len(w) - i\n",
    "    \n",
    "    return D\n",
    "\n",
    "print(define_back(\"Algo\"))"
   ]
  },
  {
   "cell_type": "code",
   "execution_count": null,
   "id": "7cc4a6d2-329d-420d-87a7-17618d23502f",
   "metadata": {},
   "outputs": [],
   "source": []
  }
 ],
 "metadata": {
  "kernelspec": {
   "display_name": "Python 3 (ipykernel)",
   "language": "python",
   "name": "python3"
  },
  "language_info": {
   "codemirror_mode": {
    "name": "ipython",
    "version": 3
   },
   "file_extension": ".py",
   "mimetype": "text/x-python",
   "name": "python",
   "nbconvert_exporter": "python",
   "pygments_lexer": "ipython3",
   "version": "3.9.12"
  }
 },
 "nbformat": 4,
 "nbformat_minor": 5
}
