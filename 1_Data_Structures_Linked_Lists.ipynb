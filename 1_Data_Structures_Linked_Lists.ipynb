{
 "cells": [
  {
   "cell_type": "markdown",
   "id": "74326a04",
   "metadata": {},
   "source": [
    "# Self-made Linked List"
   ]
  },
  {
   "cell_type": "code",
   "execution_count": 3,
   "id": "87c3be7a",
   "metadata": {},
   "outputs": [
    {
     "name": "stdout",
     "output_type": "stream",
     "text": [
      "a -> b -> c -> None\n"
     ]
    }
   ],
   "source": [
    "class Node:\n",
    "    def __init__(self, data):\n",
    "        self.data = data\n",
    "        self.next = None\n",
    "        \n",
    "    def __repr__(self):\n",
    "        return self.data\n",
    "\n",
    "class Linked_List:\n",
    "    def __init__(self):\n",
    "        self.head = None\n",
    "        \n",
    "    def __iter__(self):\n",
    "        \"\"\"making the nodes in Linked_List iterable\"\"\"\n",
    "        node = self.head\n",
    "        while node is not None:\n",
    "            yield node\n",
    "            node = node.next\n",
    "    \n",
    "    def __repr__(self):\n",
    "        node = self.head\n",
    "        nodes = []\n",
    "        while node is not None:\n",
    "            nodes.append(node.data)\n",
    "            node = node.next\n",
    "        nodes.append(\"None\")\n",
    "        return \" -> \".join(nodes)\n",
    "\n",
    "node1 = Node(\"a\")\n",
    "node2 = Node(\"b\")\n",
    "node3 = Node(\"c\")\n",
    "\n",
    "llist = Linked_List()\n",
    "llist.head = node1\n",
    "node1.next = node2\n",
    "node2.next = node3\n",
    "\n",
    "print(llist)"
   ]
  },
  {
   "cell_type": "code",
   "execution_count": 4,
   "id": "56a3ae27",
   "metadata": {},
   "outputs": [
    {
     "name": "stdout",
     "output_type": "stream",
     "text": [
      "a\n",
      "b\n",
      "c\n"
     ]
    }
   ],
   "source": [
    "for node in llist:\n",
    "    print(node)"
   ]
  },
  {
   "cell_type": "markdown",
   "id": "e18ea865",
   "metadata": {},
   "source": [
    "## Improvement: Nodes are automatically chained"
   ]
  },
  {
   "cell_type": "code",
   "execution_count": 15,
   "id": "4019b2a9",
   "metadata": {},
   "outputs": [
    {
     "data": {
      "text/plain": [
       "first -> second -> third -> None"
      ]
     },
     "execution_count": 15,
     "metadata": {},
     "output_type": "execute_result"
    }
   ],
   "source": [
    "class Node:\n",
    "    def __init__(self, data):\n",
    "        self.data = data\n",
    "        self.next = None\n",
    "        \n",
    "    def __repr__(self):\n",
    "        return self.data\n",
    "\n",
    "class Linked_List:\n",
    "    def __init__(self, nodes= None):\n",
    "        self.head = None\n",
    "        if nodes is not None:\n",
    "            node = Node(nodes.pop(0))\n",
    "            self.head = node\n",
    "            for item in nodes:\n",
    "                node.next = Node(item)\n",
    "                node = node.next\n",
    "                \n",
    "    def __iter__(self):\n",
    "        \"\"\"making the nodes in Linked_List iterable\"\"\"\n",
    "        node = self.head\n",
    "        while node is not None:\n",
    "            yield node\n",
    "            node = node.next\n",
    "    \n",
    "    def __repr__(self):\n",
    "        node = self.head\n",
    "        nodes = []\n",
    "        while node is not None:\n",
    "            nodes.append(node.data)\n",
    "            node = node.next\n",
    "        nodes.append(\"None\")\n",
    "        return \" -> \".join(nodes)\n",
    "    \n",
    "    def add_first(self, node):\n",
    "        node.next = self.head\n",
    "        self.head = node\n",
    "    \n",
    "    def add_last(self, node):\n",
    "        if not self.head:\n",
    "            self.head = node\n",
    "            return\n",
    "        # go to end of the list\n",
    "        for current_node in self:  # __iter__ necessary\n",
    "            pass\n",
    "        current_node.next = node\n",
    "    \n",
    "    def add_after(self, target_node_data, new_node):\n",
    "        if not self.head:\n",
    "            raise Exception(\"List is empty\")\n",
    "            \n",
    "        for node in self:\n",
    "            if node.data == target_node_data:\n",
    "                new_node.next = node.next\n",
    "                node.next = new_node\n",
    "                return\n",
    "        \n",
    "        raise Exception(\"No node with that data was found in list!\")\n",
    "    \n",
    "    def add_before(self, target_node_data, new_node):\n",
    "        if not self.head:\n",
    "            raise Exception(\"List is empty\")\n",
    "            \n",
    "        prev_node = self.head\n",
    "        for node in self:\n",
    "            if node.data == target_node_data:\n",
    "                new_node.next = node\n",
    "                prev_node.next = new_node\n",
    "                return\n",
    "            prev_node = node\n",
    "        \n",
    "        raise Exception(\"No node with that data was found in list!\")\n",
    "            \n",
    "nodes = [\"first\", \"second\", \"third\"]\n",
    "llist2 = Linked_List(nodes)\n",
    "llist2"
   ]
  },
  {
   "cell_type": "code",
   "execution_count": 16,
   "id": "0046e61e",
   "metadata": {},
   "outputs": [
    {
     "data": {
      "text/plain": [
       "x -> first -> second -> third -> None"
      ]
     },
     "execution_count": 16,
     "metadata": {},
     "output_type": "execute_result"
    }
   ],
   "source": [
    "llist2.add_first(Node(\"x\"))\n",
    "llist2"
   ]
  },
  {
   "cell_type": "code",
   "execution_count": 17,
   "id": "e331bba2",
   "metadata": {},
   "outputs": [
    {
     "data": {
      "text/plain": [
       "x -> first -> second -> third -> z -> None"
      ]
     },
     "execution_count": 17,
     "metadata": {},
     "output_type": "execute_result"
    }
   ],
   "source": [
    "llist2.add_last(Node(\"z\"))\n",
    "llist2"
   ]
  },
  {
   "cell_type": "code",
   "execution_count": 18,
   "id": "b9826f6e",
   "metadata": {},
   "outputs": [
    {
     "data": {
      "text/plain": [
       "x -> first -> y -> second -> third -> z -> None"
      ]
     },
     "execution_count": 18,
     "metadata": {},
     "output_type": "execute_result"
    }
   ],
   "source": [
    "llist2.add_before(\"second\", Node(\"y\"))\n",
    "llist2"
   ]
  },
  {
   "cell_type": "code",
   "execution_count": 19,
   "id": "6fa2f0cf",
   "metadata": {},
   "outputs": [
    {
     "data": {
      "text/plain": [
       "x -> first -> y -> second -> a -> third -> z -> None"
      ]
     },
     "execution_count": 19,
     "metadata": {},
     "output_type": "execute_result"
    }
   ],
   "source": [
    "llist2.add_after(\"second\", Node(\"a\"))\n",
    "llist2"
   ]
  },
  {
   "cell_type": "code",
   "execution_count": 21,
   "id": "6a40fe8c",
   "metadata": {},
   "outputs": [
    {
     "ename": "Exception",
     "evalue": "List is empty",
     "output_type": "error",
     "traceback": [
      "\u001b[0;31m---------------------------------------------------------------------------\u001b[0m",
      "\u001b[0;31mException\u001b[0m                                 Traceback (most recent call last)",
      "\u001b[0;32m/var/folders/m5/570n50js4fb24y9ht7nd_pm00000gn/T/ipykernel_1095/1589689160.py\u001b[0m in \u001b[0;36m<module>\u001b[0;34m\u001b[0m\n\u001b[1;32m      1\u001b[0m \u001b[0mllist3\u001b[0m \u001b[0;34m=\u001b[0m \u001b[0mLinked_List\u001b[0m\u001b[0;34m(\u001b[0m\u001b[0;34m)\u001b[0m\u001b[0;34m\u001b[0m\u001b[0;34m\u001b[0m\u001b[0m\n\u001b[0;32m----> 2\u001b[0;31m \u001b[0mllist3\u001b[0m\u001b[0;34m.\u001b[0m\u001b[0madd_after\u001b[0m\u001b[0;34m(\u001b[0m\u001b[0;34m\"a\"\u001b[0m\u001b[0;34m,\u001b[0m \u001b[0mNode\u001b[0m\u001b[0;34m(\u001b[0m\u001b[0;34m\"x\"\u001b[0m\u001b[0;34m)\u001b[0m\u001b[0;34m)\u001b[0m\u001b[0;34m\u001b[0m\u001b[0;34m\u001b[0m\u001b[0m\n\u001b[0m",
      "\u001b[0;32m/var/folders/m5/570n50js4fb24y9ht7nd_pm00000gn/T/ipykernel_1095/1445695121.py\u001b[0m in \u001b[0;36madd_after\u001b[0;34m(self, target_node_data, new_node)\u001b[0m\n\u001b[1;32m     48\u001b[0m     \u001b[0;32mdef\u001b[0m \u001b[0madd_after\u001b[0m\u001b[0;34m(\u001b[0m\u001b[0mself\u001b[0m\u001b[0;34m,\u001b[0m \u001b[0mtarget_node_data\u001b[0m\u001b[0;34m,\u001b[0m \u001b[0mnew_node\u001b[0m\u001b[0;34m)\u001b[0m\u001b[0;34m:\u001b[0m\u001b[0;34m\u001b[0m\u001b[0;34m\u001b[0m\u001b[0m\n\u001b[1;32m     49\u001b[0m         \u001b[0;32mif\u001b[0m \u001b[0;32mnot\u001b[0m \u001b[0mself\u001b[0m\u001b[0;34m.\u001b[0m\u001b[0mhead\u001b[0m\u001b[0;34m:\u001b[0m\u001b[0;34m\u001b[0m\u001b[0;34m\u001b[0m\u001b[0m\n\u001b[0;32m---> 50\u001b[0;31m             \u001b[0;32mraise\u001b[0m \u001b[0mException\u001b[0m\u001b[0;34m(\u001b[0m\u001b[0;34m\"List is empty\"\u001b[0m\u001b[0;34m)\u001b[0m\u001b[0;34m\u001b[0m\u001b[0;34m\u001b[0m\u001b[0m\n\u001b[0m\u001b[1;32m     51\u001b[0m \u001b[0;34m\u001b[0m\u001b[0m\n\u001b[1;32m     52\u001b[0m         \u001b[0;32mfor\u001b[0m \u001b[0mnode\u001b[0m \u001b[0;32min\u001b[0m \u001b[0mself\u001b[0m\u001b[0;34m:\u001b[0m\u001b[0;34m\u001b[0m\u001b[0;34m\u001b[0m\u001b[0m\n",
      "\u001b[0;31mException\u001b[0m: List is empty"
     ]
    }
   ],
   "source": [
    "llist3 = Linked_List()\n",
    "llist3.add_after(\"a\", Node(\"x\"))"
   ]
  },
  {
   "cell_type": "markdown",
   "id": "9a0d801e",
   "metadata": {},
   "source": [
    "# Implemented Linked List/ Queue via collections"
   ]
  },
  {
   "cell_type": "code",
   "execution_count": 9,
   "id": "23abd245",
   "metadata": {},
   "outputs": [
    {
     "data": {
      "text/plain": [
       "deque([])"
      ]
     },
     "execution_count": 9,
     "metadata": {},
     "output_type": "execute_result"
    }
   ],
   "source": [
    "from collections import deque\n",
    "\n",
    "queue = deque()\n",
    "queue"
   ]
  },
  {
   "cell_type": "code",
   "execution_count": 10,
   "id": "06f6c65e",
   "metadata": {},
   "outputs": [
    {
     "data": {
      "text/plain": [
       "deque(['Michael', 'John', 'Mary'])"
      ]
     },
     "execution_count": 10,
     "metadata": {},
     "output_type": "execute_result"
    }
   ],
   "source": [
    "queue.append(\"Mary\")\n",
    "queue.appendleft(\"John\")\n",
    "queue.appendleft(\"Michael\")\n",
    "queue"
   ]
  },
  {
   "cell_type": "code",
   "execution_count": 11,
   "id": "01e97c0a",
   "metadata": {},
   "outputs": [
    {
     "data": {
      "text/plain": [
       "'Michael'"
      ]
     },
     "execution_count": 11,
     "metadata": {},
     "output_type": "execute_result"
    }
   ],
   "source": [
    "queue.popleft()"
   ]
  },
  {
   "cell_type": "code",
   "execution_count": 12,
   "id": "9f9ea457",
   "metadata": {},
   "outputs": [
    {
     "data": {
      "text/plain": [
       "deque(['John', 'Mary'])"
      ]
     },
     "execution_count": 12,
     "metadata": {},
     "output_type": "execute_result"
    }
   ],
   "source": [
    "queue"
   ]
  },
  {
   "cell_type": "code",
   "execution_count": null,
   "id": "8e974dbc",
   "metadata": {},
   "outputs": [],
   "source": []
  }
 ],
 "metadata": {
  "kernelspec": {
   "display_name": "Python 3 (ipykernel)",
   "language": "python",
   "name": "python3"
  },
  "language_info": {
   "codemirror_mode": {
    "name": "ipython",
    "version": 3
   },
   "file_extension": ".py",
   "mimetype": "text/x-python",
   "name": "python",
   "nbconvert_exporter": "python",
   "pygments_lexer": "ipython3",
   "version": "3.9.7"
  }
 },
 "nbformat": 4,
 "nbformat_minor": 5
}
