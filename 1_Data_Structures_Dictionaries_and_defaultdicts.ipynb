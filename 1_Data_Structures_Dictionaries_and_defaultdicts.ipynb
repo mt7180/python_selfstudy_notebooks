{
 "cells": [
  {
   "cell_type": "markdown",
   "id": "818ede8a",
   "metadata": {},
   "source": [
    "# [1] Data Structures: Dictionaries in Python"
   ]
  },
  {
   "cell_type": "markdown",
   "id": "414d44f1",
   "metadata": {},
   "source": [
    "Dictionaries are Python’s implementation of a data structure that is more generally known as an associative array. A dictionary consists of a collection of key-value pairs. Each key-value pair maps the key to its associated value."
   ]
  },
  {
   "cell_type": "markdown",
   "id": "98ee86d4-9017-4170-a280-ad62802bab0c",
   "metadata": {},
   "source": [
    "- Dictionaries are mutable.\n",
    "- Dictionaries are dynamic. They can grow and shrink as needed.\n",
    "- Dictionaries can be nested. They can contain another dictionary and/ or a list\n",
    "- Dictionary elements are accessed via keys (any immutable type: string, numbers...)  \n",
    "if a tuple contains any mutable object either directly or indirectly, it cannot be used as a key. You can’t use lists as keys.."
   ]
  },
  {
   "cell_type": "code",
   "execution_count": 19,
   "id": "39c9717f",
   "metadata": {},
   "outputs": [
    {
     "name": "stdout",
     "output_type": "stream",
     "text": [
      "{'a': [1, 2],\n",
      " 'b': [2, 3],\n",
      " 'c': [2, 3, 4, 5, 6, 7],\n",
      " 'e': [6],\n",
      " 'f': [1]}\n"
     ]
    }
   ],
   "source": [
    "from pprint import pprint\n",
    "d = {\n",
    "    \"a\":[1,2],\n",
    "    \"b\":[2,3], \n",
    "    \"c\":[2,3,4,5,6,7], \n",
    "    \"e\":[6], \n",
    "    \"f\":[1]\n",
    "}\n",
    "pprint(d, width =30)"
   ]
  },
  {
   "cell_type": "code",
   "execution_count": 20,
   "id": "a45bbf65",
   "metadata": {},
   "outputs": [
    {
     "data": {
      "text/plain": [
       "[[6], [1], [1, 2], [2, 3], [2, 3, 4, 5, 6, 7]]"
      ]
     },
     "execution_count": 20,
     "metadata": {},
     "output_type": "execute_result"
    }
   ],
   "source": [
    "sorted(d.values(), key=len)"
   ]
  },
  {
   "cell_type": "code",
   "execution_count": 21,
   "id": "1db2f882",
   "metadata": {},
   "outputs": [
    {
     "data": {
      "text/plain": [
       "dict_values([[1, 2], [2, 3], [2, 3, 4, 5, 6, 7], [6], [1]])"
      ]
     },
     "execution_count": 21,
     "metadata": {},
     "output_type": "execute_result"
    }
   ],
   "source": [
    "d.values()"
   ]
  },
  {
   "cell_type": "code",
   "execution_count": 22,
   "id": "adef71fc",
   "metadata": {},
   "outputs": [
    {
     "data": {
      "text/plain": [
       "[('e', [6]),\n",
       " ('f', [1]),\n",
       " ('a', [1, 2]),\n",
       " ('b', [2, 3]),\n",
       " ('c', [2, 3, 4, 5, 6, 7])]"
      ]
     },
     "execution_count": 22,
     "metadata": {},
     "output_type": "execute_result"
    }
   ],
   "source": [
    "sorted(d.items(), key = lambda item: len(item[1]))"
   ]
  },
  {
   "cell_type": "markdown",
   "id": "aa9dc5a1",
   "metadata": {},
   "source": [
    "#### join two dicts:"
   ]
  },
  {
   "cell_type": "code",
   "execution_count": 23,
   "id": "c7712070",
   "metadata": {},
   "outputs": [
    {
     "data": {
      "text/plain": [
       "{'a': [3], 'b': [2, 3], 'c': [2, 3, 4, 5, 6, 7], 'e': [6], 'f': [1], 'd': [6]}"
      ]
     },
     "execution_count": 23,
     "metadata": {},
     "output_type": "execute_result"
    }
   ],
   "source": [
    "d1 = {'a': [3], 'd': [6]}\n",
    "d2 = {**d, **d1}\n",
    "d2"
   ]
  },
  {
   "cell_type": "code",
   "execution_count": 24,
   "id": "9440eecb",
   "metadata": {},
   "outputs": [
    {
     "data": {
      "text/plain": [
       "3"
      ]
     },
     "execution_count": 24,
     "metadata": {},
     "output_type": "execute_result"
    }
   ],
   "source": [
    "test_d={2:0.4, 3:0.9, 1: 0.1, 4:0.2}\n",
    "# test_d={}\n",
    "max(test_d, key=test_d.get)"
   ]
  },
  {
   "cell_type": "code",
   "execution_count": 25,
   "id": "ef84e010",
   "metadata": {},
   "outputs": [
    {
     "data": {
      "text/plain": [
       "4"
      ]
     },
     "execution_count": 25,
     "metadata": {},
     "output_type": "execute_result"
    }
   ],
   "source": [
    "max(test_d)"
   ]
  },
  {
   "cell_type": "code",
   "execution_count": 26,
   "id": "5148ec89",
   "metadata": {},
   "outputs": [
    {
     "data": {
      "text/plain": [
       "0.9"
      ]
     },
     "execution_count": 26,
     "metadata": {},
     "output_type": "execute_result"
    }
   ],
   "source": [
    "max(test_d.values())"
   ]
  },
  {
   "cell_type": "markdown",
   "id": "22b4050a",
   "metadata": {},
   "source": [
    "### Example with setdefault and defaultdict"
   ]
  },
  {
   "cell_type": "code",
   "execution_count": 27,
   "id": "150588cd",
   "metadata": {},
   "outputs": [
    {
     "data": {
      "text/plain": [
       "[80, 75]"
      ]
     },
     "execution_count": 27,
     "metadata": {},
     "output_type": "execute_result"
    }
   ],
   "source": [
    "student_grades = {\n",
    "    \"Bob\": [80, 75],\n",
    "    \"Dan\": [90, 95],\n",
    "}\n",
    "\n",
    "def get_grades_naive(name):\n",
    "    if name in student_grades:\n",
    "        return student_grades[name]\n",
    "    return []\n",
    "\n",
    "get_grades_naive(\"Bob\")"
   ]
  },
  {
   "cell_type": "code",
   "execution_count": 28,
   "id": "ebcb1d71",
   "metadata": {},
   "outputs": [
    {
     "data": {
      "text/plain": [
       "{'Bob': [80, 75], 'Dan': [90, 95]}"
      ]
     },
     "execution_count": 28,
     "metadata": {},
     "output_type": "execute_result"
    }
   ],
   "source": [
    "def get_grades_better(name):\n",
    "    return student_grades.get(name, [])   # calling get method\n",
    "\n",
    "get_grades_better(\"Maja\")\n",
    "student_grades"
   ]
  },
  {
   "cell_type": "code",
   "execution_count": 29,
   "id": "c141cfac",
   "metadata": {},
   "outputs": [
    {
     "data": {
      "text/plain": [
       "{'Bob': [80, 75], 'Dan': [90, 95], 'Maja': []}"
      ]
     },
     "execution_count": 29,
     "metadata": {},
     "output_type": "execute_result"
    }
   ],
   "source": [
    "def get_grades_with_assignments(name):\n",
    "    return student_grades.setdefault(name, [])  # setdefault\n",
    "\n",
    "get_grades_with_assignments(\"Maja\")\n",
    "student_grades"
   ]
  },
  {
   "cell_type": "code",
   "execution_count": 30,
   "id": "2bed4a3b-3cbd-4cee-a7fe-1792fc7de982",
   "metadata": {},
   "outputs": [
    {
     "name": "stdout",
     "output_type": "stream",
     "text": [
      "{'S': 1, 'e': 5, 'd': 2, ' ': 8, 'u': 3, 't': 5, 'p': 2, 'r': 4, 's': 6, 'i': 6, 'c': 1, 'a': 2, 'n': 3, 'o': 2, 'm': 1}\n"
     ]
    }
   ],
   "source": [
    "text = \"Sed ut perspiciatis unde omnis iste natus error sit\"\n",
    "\n",
    "letter_dict = {}\n",
    "\n",
    "for letter in text:\n",
    "    letter_dict.setdefault(letter, 0)\n",
    "    letter_dict[letter] += 1\n",
    "print(letter_dict)\n",
    "    "
   ]
  },
  {
   "cell_type": "code",
   "execution_count": 31,
   "id": "1219005e",
   "metadata": {
    "scrolled": true
   },
   "outputs": [
    {
     "data": {
      "text/plain": [
       "defaultdict(list,\n",
       "            {'Bob': [80, 75], 'Dan': [90, 95], 'Maja': [], 'Michel': [100]})"
      ]
     },
     "execution_count": 31,
     "metadata": {},
     "output_type": "execute_result"
    }
   ],
   "source": [
    "from collections import defaultdict\n",
    "\n",
    "student_grades = defaultdict(list, student_grades)  # defaultdictb\n",
    "\n",
    "def set_grade_best(name, score):\n",
    "    student_grades[name].append(score)\n",
    "\n",
    "# student_grades\n",
    "set_grade_best(\"Michel\", 100)\n",
    "student_grades"
   ]
  },
  {
   "cell_type": "code",
   "execution_count": 32,
   "id": "4e7282cc",
   "metadata": {},
   "outputs": [
    {
     "data": {
      "text/plain": [
       "defaultdict(<function __main__.<lambda>()>, {'Emil': 70})"
      ]
     },
     "execution_count": 32,
     "metadata": {},
     "output_type": "execute_result"
    }
   ],
   "source": [
    "student_score = defaultdict(lambda: 70)\n",
    "student_score[\"Emil\"]\n",
    "student_score"
   ]
  },
  {
   "cell_type": "markdown",
   "id": "f851d95f",
   "metadata": {},
   "source": [
    "## sort dictionary with 2 sorting keys, the latter reverse by \"-\""
   ]
  },
  {
   "cell_type": "code",
   "execution_count": 45,
   "id": "03917f0f",
   "metadata": {},
   "outputs": [
    {
     "data": {
      "text/plain": [
       "{'a': 8, 'b': 4, 'c': 6, 'e': 1, 'f': 3}"
      ]
     },
     "execution_count": 45,
     "metadata": {},
     "output_type": "execute_result"
    }
   ],
   "source": [
    "b = {\"a\":8, \"b\":4, \"c\": 6, \"e\": 1, \"f\": 3}\n",
    "#b.pop(\"e\")\n",
    "b\n"
   ]
  },
  {
   "cell_type": "code",
   "execution_count": 46,
   "id": "4239169c",
   "metadata": {},
   "outputs": [
    {
     "data": {
      "text/plain": [
       "[('f', [1]),\n",
       " ('e', [6]),\n",
       " ('a', [1, 2]),\n",
       " ('b', [2, 3]),\n",
       " ('c', [2, 3, 4, 5, 6, 7])]"
      ]
     },
     "execution_count": 46,
     "metadata": {},
     "output_type": "execute_result"
    }
   ],
   "source": [
    "sorted(d.items(), key = lambda item: (len(item[1]), -b[item[0]]))  # \"-\" for reverse sorting"
   ]
  },
  {
   "cell_type": "code",
   "execution_count": null,
   "id": "7d7b84d9",
   "metadata": {},
   "outputs": [],
   "source": [
    "val = \"Mirabelle\"\n",
    "val[2]"
   ]
  },
  {
   "cell_type": "code",
   "execution_count": null,
   "id": "b84aac15",
   "metadata": {},
   "outputs": [],
   "source": [
    "val2 = \"Glas\"\n",
    "intersection = set(val).intersection(val2)\n",
    "intersection"
   ]
  },
  {
   "cell_type": "code",
   "execution_count": null,
   "id": "884aa01b",
   "metadata": {},
   "outputs": [],
   "source": [
    "intersection = intersection.pop()\n",
    "intersection"
   ]
  },
  {
   "cell_type": "code",
   "execution_count": 35,
   "id": "47805a0f",
   "metadata": {},
   "outputs": [
    {
     "data": {
      "text/plain": [
       "3"
      ]
     },
     "execution_count": 35,
     "metadata": {},
     "output_type": "execute_result"
    }
   ],
   "source": [
    "val.index(intersection)"
   ]
  },
  {
   "cell_type": "code",
   "execution_count": 36,
   "id": "152202b1",
   "metadata": {},
   "outputs": [
    {
     "data": {
      "text/plain": [
       "2"
      ]
     },
     "execution_count": 36,
     "metadata": {},
     "output_type": "execute_result"
    }
   ],
   "source": [
    "val2.index(intersection)"
   ]
  },
  {
   "cell_type": "code",
   "execution_count": 37,
   "id": "4811b6b1",
   "metadata": {},
   "outputs": [
    {
     "data": {
      "text/plain": [
       "4"
      ]
     },
     "execution_count": 37,
     "metadata": {},
     "output_type": "execute_result"
    }
   ],
   "source": [
    "len(val)"
   ]
  },
  {
   "cell_type": "code",
   "execution_count": 38,
   "id": "81c2a362",
   "metadata": {},
   "outputs": [
    {
     "data": {
      "text/plain": [
       "NoneType"
      ]
     },
     "execution_count": 38,
     "metadata": {},
     "output_type": "execute_result"
    }
   ],
   "source": [
    "list = None\n",
    "x, y = list if list is not None else (None, None)\n",
    "type(x)"
   ]
  },
  {
   "cell_type": "code",
   "execution_count": 39,
   "id": "843f5286",
   "metadata": {},
   "outputs": [
    {
     "ename": "AssertionError",
     "evalue": "Fehler",
     "output_type": "error",
     "traceback": [
      "\u001b[0;31m---------------------------------------------------------------------------\u001b[0m",
      "\u001b[0;31mAssertionError\u001b[0m                            Traceback (most recent call last)",
      "Input \u001b[0;32mIn [39]\u001b[0m, in \u001b[0;36m<cell line: 3>\u001b[0;34m()\u001b[0m\n\u001b[1;32m      1\u001b[0m assignment \u001b[38;5;241m=\u001b[39m {\u001b[38;5;124m\"\u001b[39m\u001b[38;5;124ma\u001b[39m\u001b[38;5;124m\"\u001b[39m: [\u001b[38;5;241m1\u001b[39m,\u001b[38;5;241m2\u001b[39m,\u001b[38;5;241m3\u001b[39m], \u001b[38;5;124m\"\u001b[39m\u001b[38;5;124mb\u001b[39m\u001b[38;5;124m\"\u001b[39m: \u001b[38;5;28;01mNone\u001b[39;00m}\n\u001b[1;32m      2\u001b[0m c \u001b[38;5;241m=\u001b[39m \u001b[38;5;28;01mNone\u001b[39;00m\n\u001b[0;32m----> 3\u001b[0m \u001b[38;5;28;01massert\u001b[39;00m c \u001b[38;5;129;01mnot\u001b[39;00m \u001b[38;5;129;01min\u001b[39;00m assignment\u001b[38;5;241m.\u001b[39mvalues(), \u001b[38;5;124m\"\u001b[39m\u001b[38;5;124mFehler\u001b[39m\u001b[38;5;124m\"\u001b[39m\n",
      "\u001b[0;31mAssertionError\u001b[0m: Fehler"
     ]
    }
   ],
   "source": [
    "assignment = {\"a\": [1,2,3], \"b\": None}\n",
    "c = None\n",
    "assert c not in assignment.values(), \"Fehler\"  # when true nothing happens"
   ]
  },
  {
   "cell_type": "code",
   "execution_count": null,
   "id": "b191e3cd",
   "metadata": {},
   "outputs": [],
   "source": [
    "assignment = {(\"a\", \"b\"): [1,2,3], (\"b\", \"c\"): None}\n",
    "list = [item for item in assignment.items() if \"c\" in item[0]]\n",
    "list"
   ]
  },
  {
   "cell_type": "code",
   "execution_count": null,
   "id": "3d4d7786",
   "metadata": {},
   "outputs": [],
   "source": [
    "d = {\"a\":[1,2], \"b\":[2,3], \"c\": [2,3,4,5,6,7], \"e\": [6], \"f\": [1]}\n",
    "d_neu = d.copy()\n",
    "d_neu"
   ]
  },
  {
   "cell_type": "code",
   "execution_count": null,
   "id": "1c301965",
   "metadata": {},
   "outputs": [],
   "source": [
    "d_neu[\"a\"] += [3]\n",
    "d_neu"
   ]
  },
  {
   "cell_type": "code",
   "execution_count": null,
   "id": "46311b36",
   "metadata": {},
   "outputs": [],
   "source": [
    "d"
   ]
  },
  {
   "cell_type": "code",
   "execution_count": null,
   "id": "4ec9b082",
   "metadata": {},
   "outputs": [],
   "source": [
    "old_assignments = {item[0]: item[1] for item in d.items()}\n",
    "old_assignments"
   ]
  },
  {
   "cell_type": "code",
   "execution_count": null,
   "id": "e69dc4bb",
   "metadata": {},
   "outputs": [],
   "source": [
    "old_assignments[\"b\"] += [1]\n",
    "old_assignments"
   ]
  },
  {
   "cell_type": "code",
   "execution_count": null,
   "id": "0b99fad0",
   "metadata": {},
   "outputs": [],
   "source": [
    "d"
   ]
  },
  {
   "cell_type": "code",
   "execution_count": null,
   "id": "372d98a0",
   "metadata": {},
   "outputs": [],
   "source": [
    "d_neu = {item: d[item] for item in d}\n",
    "d_neu[\"c\"] +=[8]\n",
    "d_neu"
   ]
  },
  {
   "cell_type": "code",
   "execution_count": null,
   "id": "d33a8c11",
   "metadata": {},
   "outputs": [],
   "source": [
    "d"
   ]
  },
  {
   "cell_type": "code",
   "execution_count": null,
   "id": "e802dff8",
   "metadata": {},
   "outputs": [],
   "source": [
    "d_neu = {k: v.copy() for k, v in d.items()}\n",
    "d_neu[\"c\"] +=[8]\n",
    "d_neu"
   ]
  },
  {
   "cell_type": "code",
   "execution_count": null,
   "id": "ef1f93c6",
   "metadata": {},
   "outputs": [],
   "source": [
    "d"
   ]
  },
  {
   "cell_type": "code",
   "execution_count": null,
   "id": "69ad6dc0",
   "metadata": {},
   "outputs": [],
   "source": [
    "new_ass = {k: v[0] for k, v in d.items() if len(v) == 1} # .copy() necessary ?!\n",
    "new_ass"
   ]
  },
  {
   "cell_type": "code",
   "execution_count": null,
   "id": "ec4dcc3b",
   "metadata": {},
   "outputs": [],
   "source": [
    "dictionary = {\"a\": \"maja\", \"b\": \"michel\", \"c\": \"kate\"}\n",
    "dictionary"
   ]
  },
  {
   "cell_type": "code",
   "execution_count": null,
   "id": "a4657659",
   "metadata": {},
   "outputs": [],
   "source": [
    "di = {k: v for k, v in dictionary.items()}\n",
    "di[\"b\"] = \"Joni\"\n",
    "dictionary"
   ]
  },
  {
   "cell_type": "code",
   "execution_count": null,
   "id": "c2981d46",
   "metadata": {},
   "outputs": [],
   "source": [
    "di"
   ]
  },
  {
   "cell_type": "code",
   "execution_count": null,
   "id": "7b7b23bb",
   "metadata": {},
   "outputs": [],
   "source": [
    "dd = {\"a\":{1,2}, \"b\":{2,3}, \"c\": {2,3,4,5,6,7}, \"e\": {6}, \"f\": {1}}"
   ]
  },
  {
   "cell_type": "code",
   "execution_count": null,
   "id": "dc7c0499",
   "metadata": {},
   "outputs": [],
   "source": [
    "new = {k: v[0] for k, v in d.items() if len(v) == 1}\n",
    "new"
   ]
  },
  {
   "cell_type": "code",
   "execution_count": null,
   "id": "594da1b2",
   "metadata": {},
   "outputs": [],
   "source": [
    "a=2\n",
    "dd[\"b\"].remove(2)\n",
    "dd\n"
   ]
  },
  {
   "cell_type": "code",
   "execution_count": null,
   "id": "550c6f4c",
   "metadata": {},
   "outputs": [],
   "source": [
    "bb={\"a\": {\"m\", \"n\", \"a\"}, \"b\": {\"m\", \"n\"}}\n",
    "bb[\"b\"].remove(\"m\")\n",
    "bb"
   ]
  }
 ],
 "metadata": {
  "kernelspec": {
   "display_name": "Python 3 (ipykernel)",
   "language": "python",
   "name": "python3"
  },
  "language_info": {
   "codemirror_mode": {
    "name": "ipython",
    "version": 3
   },
   "file_extension": ".py",
   "mimetype": "text/x-python",
   "name": "python",
   "nbconvert_exporter": "python",
   "pygments_lexer": "ipython3",
   "version": "3.9.12"
  }
 },
 "nbformat": 4,
 "nbformat_minor": 5
}
