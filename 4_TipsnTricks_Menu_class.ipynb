{
 "cells": [
  {
   "cell_type": "markdown",
   "id": "8b34f185-cf92-4f37-a3c8-08d991dc30bf",
   "metadata": {},
   "source": [
    "# Functions are first Class Objects in Python\n",
    "In Python, functions behave like any other object, such as an int or a list. That means that you can use functions as arguments to other functions, store functions as dictionary values, or return a function from another function. This leads to many powerful ways to use functions."
   ]
  },
  {
   "cell_type": "markdown",
   "id": "c2cd631f-5d1b-465d-8f6a-e2671e117d90",
   "metadata": {},
   "source": [
    "- Functions for menu choices are stored in a dictionary\n",
    "- after user made a choice, the function is handed over to action and not executed before action is called with ()"
   ]
  },
  {
   "cell_type": "code",
   "execution_count": 3,
   "id": "9eec3c87",
   "metadata": {},
   "outputs": [
    {
     "name": "stdout",
     "output_type": "stream",
     "text": [
      "\n",
      "        Please make your choice:\n",
      "        (0) exit program\n",
      "        (1) function 1\n",
      "        (2) function 2\n",
      "        \n",
      "Choice: 1\n",
      "This is function one\n",
      "\n",
      "        Please make your choice:\n",
      "        (0) exit program\n",
      "        (1) function 1\n",
      "        (2) function 2\n",
      "        \n",
      "Choice: 2\n",
      "This is function two\n",
      "\n",
      "        Please make your choice:\n",
      "        (0) exit program\n",
      "        (1) function 1\n",
      "        (2) function 2\n",
      "        \n",
      "Choice: 0\n",
      "program is going to be terminated ...\n"
     ]
    }
   ],
   "source": [
    "class Menu():\n",
    "    def __init__(self):\n",
    "        self.choices = {\"0\": self.exit_prog, \"1\": self.func_one, \"2\": self.func_two}\n",
    "        \n",
    "        \n",
    "    def menu_anzeigen(self):\n",
    "        print(\n",
    "        \"\"\"\n",
    "        Please make your choice:\n",
    "        (0) exit program\n",
    "        (1) function 1\n",
    "        (2) function 2\n",
    "        \"\"\")\n",
    "        \n",
    "    def run(self):\n",
    "        \n",
    "        while True:\n",
    "            self.menu_anzeigen()\n",
    "            choice = input(\"Choice: \")\n",
    "            action = self.choices.get(choice)\n",
    "            if action:\n",
    "                status = action()\n",
    "            else:\n",
    "                print(\"Error, option not available!\")\n",
    "                status = True\n",
    "            if not status:\n",
    "                break\n",
    "    \n",
    "    def func_one(self):\n",
    "        print(\"This is function one\")\n",
    "        return True\n",
    "    \n",
    "    def func_two(self):\n",
    "        print(\"This is function two\")\n",
    "        return True\n",
    "    \n",
    "    def exit_prog(self):\n",
    "        print(\"Program is going to be terminated ...\")\n",
    "        return False\n",
    "            \n",
    "\n",
    "Menu().run()"
   ]
  },
  {
   "cell_type": "code",
   "execution_count": null,
   "id": "5bf14d7f",
   "metadata": {},
   "outputs": [],
   "source": []
  }
 ],
 "metadata": {
  "kernelspec": {
   "display_name": "Python 3 (ipykernel)",
   "language": "python",
   "name": "python3"
  },
  "language_info": {
   "codemirror_mode": {
    "name": "ipython",
    "version": 3
   },
   "file_extension": ".py",
   "mimetype": "text/x-python",
   "name": "python",
   "nbconvert_exporter": "python",
   "pygments_lexer": "ipython3",
   "version": "3.9.12"
  }
 },
 "nbformat": 4,
 "nbformat_minor": 5
}
