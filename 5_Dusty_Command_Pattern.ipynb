{
 "cells": [
  {
   "cell_type": "markdown",
   "id": "2f1523e7-25c3-49c8-af52-54cbd64bcdd9",
   "metadata": {},
   "source": [
    "# [5] Dusty: Command Pattern\n",
    "### from *Python 3 Object Oriented Programming* p. 356\n",
    "adds a level of abstraction between actions that must be done and the object that invokes those actions. In the command pattern, client code creates a Command object, that can be executed at a later date"
   ]
  },
  {
   "cell_type": "code",
   "execution_count": 1,
   "id": "726c9fa1-0aa5-4661-b68f-63443ce68fab",
   "metadata": {},
   "outputs": [],
   "source": [
    "class Document:\n",
    "    def __init__(self, filename):\n",
    "        self.filename = filename\n",
    "        self.contents = \"This file can not be modified\"\n",
    "        \n",
    "    def save(self):\n",
    "        with open (self.filename, \"w\") as file:\n",
    "            file.write(self.contents)\n",
    "            \n",
    "class KeyboardShortcut:\n",
    "    def keypress(self):\n",
    "        self.command()\n",
    "        \n",
    "class SaveCommand:\n",
    "    def __init__(self, document):\n",
    "        self.document = document\n",
    "        \n",
    "    def __call__(self):\n",
    "        self.document.save()\n",
    "        \n",
    "document = Document(\"test_file.txt\")\n",
    "shortcut = KeyboardShortcut()\n",
    "# save_command = SaveCommand(document)\n",
    "shortcut.command = SaveCommand(document)"
   ]
  },
  {
   "cell_type": "code",
   "execution_count": 2,
   "id": "2e928201-9462-4a12-95e3-76ddf473ff41",
   "metadata": {},
   "outputs": [],
   "source": [
    "# creates file test_file.txt with saved content\n",
    "shortcut.keypress()"
   ]
  },
  {
   "cell_type": "code",
   "execution_count": null,
   "id": "f06d3386-be42-4d06-8e04-fe00836e279e",
   "metadata": {},
   "outputs": [],
   "source": []
  }
 ],
 "metadata": {
  "kernelspec": {
   "display_name": "Python 3 (ipykernel)",
   "language": "python",
   "name": "python3"
  },
  "language_info": {
   "codemirror_mode": {
    "name": "ipython",
    "version": 3
   },
   "file_extension": ".py",
   "mimetype": "text/x-python",
   "name": "python",
   "nbconvert_exporter": "python",
   "pygments_lexer": "ipython3",
   "version": "3.9.12"
  }
 },
 "nbformat": 4,
 "nbformat_minor": 5
}
