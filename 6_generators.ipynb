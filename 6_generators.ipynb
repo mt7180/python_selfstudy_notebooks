{
 "cells": [
  {
   "cell_type": "markdown",
   "id": "34be9577",
   "metadata": {},
   "source": [
    "# Generators, yield, coroutines\n",
    "generators save memory, because data is processed one by one, this is useful if a lot of data is to be processed, maybe more than the computer has, or data is not needed all at the same time"
   ]
  },
  {
   "cell_type": "markdown",
   "id": "6fda4012",
   "metadata": {},
   "source": [
    "## Simple Generator Examples"
   ]
  },
  {
   "cell_type": "code",
   "execution_count": 18,
   "id": "f45cb610",
   "metadata": {},
   "outputs": [
    {
     "name": "stdout",
     "output_type": "stream",
     "text": [
      "0 1 2 3 4\n"
     ]
    }
   ],
   "source": [
    "g = (i for i in range(5))  # looks like tuple comprehension\n",
    "\n",
    "# but this would be ((i for i in range(5))) \n",
    "# or *(i for i in range(5)),\n",
    "# next(g)\n",
    "\n",
    "# for i in g: print(i)  # or:\n",
    "print(next(g), next(g), next(g), next(g), next(g))"
   ]
  },
  {
   "cell_type": "code",
   "execution_count": 8,
   "id": "be2fa3ba",
   "metadata": {},
   "outputs": [
    {
     "name": "stdout",
     "output_type": "stream",
     "text": [
      "\n",
      "    size of list: 8856, \n",
      "    size of generator: 112\n"
     ]
    }
   ],
   "source": [
    "import sys\n",
    "lst = [i for i in range(1001)]\n",
    "g = (i for i in range(1001))\n",
    "print(f'''\n",
    "    size of list: {sys.getsizeof(lst)}, \n",
    "    size of generator: {sys.getsizeof(g)}\n",
    "    ''')\n"
   ]
  },
  {
   "cell_type": "code",
   "execution_count": 12,
   "id": "cd0018ff",
   "metadata": {},
   "outputs": [
    {
     "data": {
      "text/plain": [
       "(500500, 500500)"
      ]
     },
     "execution_count": 12,
     "metadata": {},
     "output_type": "execute_result"
    }
   ],
   "source": [
    "s1 = sum([i for i in range(1001)])\n",
    "s2 = sum((i for i in range(1001)))  # summe mit generator gebildet\n",
    "s1, s2"
   ]
  },
  {
   "cell_type": "code",
   "execution_count": 4,
   "id": "fab66862",
   "metadata": {},
   "outputs": [
    {
     "name": "stdout",
     "output_type": "stream",
     "text": [
      "1\n",
      "27\n",
      "125\n",
      "343\n",
      "729\n"
     ]
    }
   ],
   "source": [
    "def mygenerator(n):\n",
    "   for i in range(1, n, 2):\n",
    "      yield i**3\n",
    "        \n",
    "for i in mygenerator(10):\n",
    "   print(i)"
   ]
  },
  {
   "cell_type": "code",
   "execution_count": 8,
   "id": "90dc34e9",
   "metadata": {},
   "outputs": [
    {
     "name": "stdout",
     "output_type": "stream",
     "text": [
      "1\n",
      "27\n",
      "125\n",
      "343\n",
      "729\n"
     ]
    }
   ],
   "source": [
    "mygen2 = (i**3 for i in range(1,10,2))\n",
    "for i in mygen2:\n",
    "   print(i)"
   ]
  },
  {
   "cell_type": "code",
   "execution_count": 29,
   "id": "22254b6b",
   "metadata": {},
   "outputs": [
    {
     "name": "stdout",
     "output_type": "stream",
     "text": [
      "2\n",
      "12\n",
      "30\n"
     ]
    }
   ],
   "source": [
    "def mygenerator(n):\n",
    "   for i in range(1, n, 2):\n",
    "      yield i * (i + 1)\n",
    "my_gen = mygenerator(6)\n",
    "while my_gen:\n",
    "    try:\n",
    "        print(next(my_gen))\n",
    "    except:\n",
    "        break"
   ]
  },
  {
   "cell_type": "code",
   "execution_count": null,
   "id": "235f248a",
   "metadata": {},
   "outputs": [],
   "source": [
    "type(my_gen)\n",
    "my_gen.close()"
   ]
  },
  {
   "cell_type": "code",
   "execution_count": 24,
   "id": "933bf594",
   "metadata": {},
   "outputs": [
    {
     "ename": "StopIteration",
     "evalue": "",
     "output_type": "error",
     "traceback": [
      "\u001b[0;31m---------------------------------------------------------------------------\u001b[0m",
      "\u001b[0;31mStopIteration\u001b[0m                             Traceback (most recent call last)",
      "\u001b[0;32m/var/folders/m5/570n50js4fb24y9ht7nd_pm00000gn/T/ipykernel_2130/710336695.py\u001b[0m in \u001b[0;36m<module>\u001b[0;34m\u001b[0m\n\u001b[0;32m----> 1\u001b[0;31m \u001b[0mnext\u001b[0m\u001b[0;34m(\u001b[0m\u001b[0mmy_gen\u001b[0m\u001b[0;34m)\u001b[0m\u001b[0;34m\u001b[0m\u001b[0;34m\u001b[0m\u001b[0m\n\u001b[0m",
      "\u001b[0;31mStopIteration\u001b[0m: "
     ]
    }
   ],
   "source": [
    "next(my_gen)"
   ]
  },
  {
   "cell_type": "code",
   "execution_count": 27,
   "id": "896e30e7",
   "metadata": {},
   "outputs": [
    {
     "name": "stdout",
     "output_type": "stream",
     "text": [
      "P\n",
      "y\n",
      "t\n",
      "h\n",
      "o\n",
      "n\n"
     ]
    }
   ],
   "source": [
    "myString = iter(\"Python\")\n",
    "while myString:\n",
    "    try:\n",
    "        print(next(myString))\n",
    "    except StopIteration:\n",
    "        break"
   ]
  },
  {
   "cell_type": "code",
   "execution_count": 25,
   "id": "6f535bbd",
   "metadata": {},
   "outputs": [
    {
     "name": "stdout",
     "output_type": "stream",
     "text": [
      "Strasbourg\n",
      "Freiburg\n",
      "Stuttgart\n",
      "Vienna / Wien\n",
      "Hannover\n",
      "Berlin\n",
      "Zurich\n"
     ]
    }
   ],
   "source": [
    "other_cities = [\"Strasbourg\", \"Freiburg\", \"Stuttgart\", \n",
    "                \"Vienna / Wien\", \"Hannover\", \"Berlin\", \n",
    "                \"Zurich\"]\n",
    "city_iterator = iter(other_cities)\n",
    "while city_iterator:\n",
    "    try:\n",
    "        city = next(city_iterator)\n",
    "        print(city)\n",
    "    except StopIteration:\n",
    "        break\n"
   ]
  },
  {
   "cell_type": "code",
   "execution_count": 32,
   "id": "256f11b2",
   "metadata": {},
   "outputs": [
    {
     "name": "stdout",
     "output_type": "stream",
     "text": [
      "0  1  1  2  3  5  8  13  21  34  55  \n"
     ]
    }
   ],
   "source": [
    "def fibonacci():\n",
    "    \"\"\"Generates an infinite sequence of Fibonacci numbers on demand\"\"\"\n",
    "    a, b = 0, 1\n",
    "    while True:\n",
    "        yield a\n",
    "        a, b = b, a + b\n",
    "f = fibonacci()\n",
    "counter = 0\n",
    "for x in f:\n",
    "    print(x, \" \", end=\"\")\n",
    "    counter += 1\n",
    "    if (counter > 10): \n",
    "        break \n",
    "print()"
   ]
  },
  {
   "cell_type": "markdown",
   "id": "0366d6cf",
   "metadata": {},
   "source": [
    "## yield with throw and send"
   ]
  },
  {
   "cell_type": "code",
   "execution_count": 31,
   "id": "11b41bea",
   "metadata": {},
   "outputs": [
    {
     "name": "stdout",
     "output_type": "stream",
     "text": [
      "11\n",
      "111\n",
      "1111\n",
      "10101\n"
     ]
    },
    {
     "ename": "ValueError",
     "evalue": "We don't like large palindromes",
     "output_type": "error",
     "traceback": [
      "\u001b[0;31m---------------------------------------------------------------------------\u001b[0m",
      "\u001b[0;31mValueError\u001b[0m                                Traceback (most recent call last)",
      "\u001b[0;32m/var/folders/m5/570n50js4fb24y9ht7nd_pm00000gn/T/ipykernel_2130/2650987874.py\u001b[0m in \u001b[0;36m<module>\u001b[0;34m\u001b[0m\n\u001b[1;32m     29\u001b[0m     \u001b[0mdigits\u001b[0m \u001b[0;34m=\u001b[0m \u001b[0mlen\u001b[0m\u001b[0;34m(\u001b[0m\u001b[0mstr\u001b[0m\u001b[0;34m(\u001b[0m\u001b[0mi\u001b[0m\u001b[0;34m)\u001b[0m\u001b[0;34m)\u001b[0m\u001b[0;34m\u001b[0m\u001b[0;34m\u001b[0m\u001b[0m\n\u001b[1;32m     30\u001b[0m     \u001b[0;32mif\u001b[0m \u001b[0mdigits\u001b[0m \u001b[0;34m==\u001b[0m \u001b[0;36m5\u001b[0m\u001b[0;34m:\u001b[0m\u001b[0;34m\u001b[0m\u001b[0;34m\u001b[0m\u001b[0m\n\u001b[0;32m---> 31\u001b[0;31m         \u001b[0mpal_gen\u001b[0m\u001b[0;34m.\u001b[0m\u001b[0mthrow\u001b[0m\u001b[0;34m(\u001b[0m\u001b[0mValueError\u001b[0m\u001b[0;34m(\u001b[0m\u001b[0;34m\"We don't like large palindromes\"\u001b[0m\u001b[0;34m)\u001b[0m\u001b[0;34m)\u001b[0m\u001b[0;34m\u001b[0m\u001b[0;34m\u001b[0m\u001b[0m\n\u001b[0m\u001b[1;32m     32\u001b[0m     \u001b[0mpal_gen\u001b[0m\u001b[0;34m.\u001b[0m\u001b[0msend\u001b[0m\u001b[0;34m(\u001b[0m\u001b[0;36m10\u001b[0m \u001b[0;34m**\u001b[0m \u001b[0;34m(\u001b[0m\u001b[0mdigits\u001b[0m\u001b[0;34m)\u001b[0m\u001b[0;34m)\u001b[0m\u001b[0;34m\u001b[0m\u001b[0;34m\u001b[0m\u001b[0m\n",
      "\u001b[0;32m/var/folders/m5/570n50js4fb24y9ht7nd_pm00000gn/T/ipykernel_2130/2650987874.py\u001b[0m in \u001b[0;36minfinite_palindromes\u001b[0;34m()\u001b[0m\n\u001b[1;32m     19\u001b[0m     \u001b[0;32mwhile\u001b[0m \u001b[0;32mTrue\u001b[0m\u001b[0;34m:\u001b[0m\u001b[0;34m\u001b[0m\u001b[0;34m\u001b[0m\u001b[0m\n\u001b[1;32m     20\u001b[0m         \u001b[0;32mif\u001b[0m \u001b[0mis_palindrome\u001b[0m\u001b[0;34m(\u001b[0m\u001b[0mnum\u001b[0m\u001b[0;34m)\u001b[0m\u001b[0;34m:\u001b[0m\u001b[0;34m\u001b[0m\u001b[0;34m\u001b[0m\u001b[0m\n\u001b[0;32m---> 21\u001b[0;31m             \u001b[0mi\u001b[0m \u001b[0;34m=\u001b[0m \u001b[0;34m(\u001b[0m\u001b[0;32myield\u001b[0m \u001b[0mnum\u001b[0m\u001b[0;34m)\u001b[0m\u001b[0;34m\u001b[0m\u001b[0;34m\u001b[0m\u001b[0m\n\u001b[0m\u001b[1;32m     22\u001b[0m             \u001b[0;32mif\u001b[0m \u001b[0mi\u001b[0m \u001b[0;32mis\u001b[0m \u001b[0;32mnot\u001b[0m \u001b[0;32mNone\u001b[0m\u001b[0;34m:\u001b[0m\u001b[0;34m\u001b[0m\u001b[0;34m\u001b[0m\u001b[0m\n\u001b[1;32m     23\u001b[0m                 \u001b[0mnum\u001b[0m \u001b[0;34m=\u001b[0m \u001b[0mi\u001b[0m\u001b[0;34m\u001b[0m\u001b[0;34m\u001b[0m\u001b[0m\n",
      "\u001b[0;31mValueError\u001b[0m: We don't like large palindromes"
     ]
    }
   ],
   "source": [
    "def is_palindrome(num):\n",
    "    # Skip single-digit inputs\n",
    "    if num // 10 == 0:\n",
    "        return False\n",
    "    temp = num\n",
    "    reversed_num = 0\n",
    "\n",
    "    while temp != 0:\n",
    "        reversed_num = (reversed_num * 10) + (temp % 10)\n",
    "        temp = temp // 10\n",
    "\n",
    "    if num == reversed_num:\n",
    "        return True\n",
    "    else:\n",
    "        return False\n",
    "\n",
    "def infinite_palindromes():\n",
    "    num = 0\n",
    "    while True:\n",
    "        if is_palindrome(num):\n",
    "            i = (yield num)\n",
    "            if i is not None:\n",
    "                num = i\n",
    "        num += 1\n",
    "    \n",
    "pal_gen = infinite_palindromes()\n",
    "for i in pal_gen:\n",
    "    print(i)\n",
    "    digits = len(str(i))\n",
    "    if digits == 5:\n",
    "        pal_gen.throw(ValueError(\"We don't like large palindromes\"))\n",
    "    pal_gen.send(10 ** (digits))"
   ]
  },
  {
   "cell_type": "code",
   "execution_count": null,
   "id": "5fab63a6",
   "metadata": {},
   "outputs": [],
   "source": []
  },
  {
   "cell_type": "markdown",
   "id": "205c48d6",
   "metadata": {},
   "source": [
    "## tricky example with yield from"
   ]
  },
  {
   "cell_type": "code",
   "execution_count": 1,
   "id": "51fb13f2",
   "metadata": {},
   "outputs": [
    {
     "data": {
      "text/plain": [
       "'/'"
      ]
     },
     "execution_count": 1,
     "metadata": {},
     "output_type": "execute_result"
    }
   ],
   "source": [
    "class File:\n",
    "    def __init__(self, name):\n",
    "        self.name = name\n",
    "\n",
    "class Folder(File):\n",
    "    def __init__(self, name):\n",
    "        super().__init__(name)\n",
    "        self.children = []\n",
    "        \n",
    "root = Folder(\"\")\n",
    "etc = Folder(\"etc\")\n",
    "root.children.append(etc)\n",
    "etc.children.append(File(\"passwd\"))\n",
    "etc.children.append(File(\"groups\"))\n",
    "\n",
    "def walk(file):\n",
    "    # if type of file is Folder, es werden Folder und files durchlaufen!\n",
    "    if isinstance(file, Folder):\n",
    "        yield file.name + \"/\"\n",
    "        for f in file.children:\n",
    "            yield from walk(f)\n",
    "    else:\n",
    "        yield file.name\n",
    "\n",
    "w = walk(root)\n",
    "next(w)"
   ]
  },
  {
   "cell_type": "code",
   "execution_count": 2,
   "id": "24b57448",
   "metadata": {},
   "outputs": [
    {
     "data": {
      "text/plain": [
       "'etc/'"
      ]
     },
     "execution_count": 2,
     "metadata": {},
     "output_type": "execute_result"
    }
   ],
   "source": [
    "next(w)"
   ]
  },
  {
   "cell_type": "code",
   "execution_count": 3,
   "id": "b8cf1820",
   "metadata": {},
   "outputs": [
    {
     "data": {
      "text/plain": [
       "'passwd'"
      ]
     },
     "execution_count": 3,
     "metadata": {},
     "output_type": "execute_result"
    }
   ],
   "source": [
    "next(w)"
   ]
  },
  {
   "cell_type": "code",
   "execution_count": null,
   "id": "8d02a2de",
   "metadata": {},
   "outputs": [],
   "source": []
  }
 ],
 "metadata": {
  "kernelspec": {
   "display_name": "Python 3 (ipykernel)",
   "language": "python",
   "name": "python3"
  },
  "language_info": {
   "codemirror_mode": {
    "name": "ipython",
    "version": 3
   },
   "file_extension": ".py",
   "mimetype": "text/x-python",
   "name": "python",
   "nbconvert_exporter": "python",
   "pygments_lexer": "ipython3",
   "version": "3.9.12"
  }
 },
 "nbformat": 4,
 "nbformat_minor": 5
}
