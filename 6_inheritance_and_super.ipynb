{
 "cells": [
  {
   "cell_type": "markdown",
   "id": "6e629577-ad15-43e2-a024-d7f4c6ae5556",
   "metadata": {},
   "source": [
    "# [6] Inheritance and super()"
   ]
  },
  {
   "cell_type": "markdown",
   "id": "01f82483-5769-430d-9762-3dd3b6e40cba",
   "metadata": {},
   "source": [
    "The super() function is used to give access to methods and properties of the class inherited from"
   ]
  },
  {
   "cell_type": "code",
   "execution_count": 82,
   "id": "b138f73a",
   "metadata": {},
   "outputs": [],
   "source": [
    "class Rectangle:\n",
    "    \n",
    "    def __init__(self, length, width):\n",
    "        print(f\"Rectangle is initiated with {length}cm length and {width}cm width\")\n",
    "        self.length = length\n",
    "        self.width = width\n",
    "        \n",
    "    def __repr__(self):\n",
    "        return f\"{self.__class__.__name__} with {self.length}cm and {self.width}cm long edges\"\n",
    "        \n",
    "    def area(self):\n",
    "        # print(f\"{self.__class__.__name__} area calculation\")\n",
    "        return self.length * self.width\n",
    "    "
   ]
  },
  {
   "cell_type": "code",
   "execution_count": 83,
   "id": "48931088",
   "metadata": {},
   "outputs": [
    {
     "name": "stdout",
     "output_type": "stream",
     "text": [
      "Rectangle is initiated with 3cm length and 4cm width\n"
     ]
    },
    {
     "data": {
      "text/plain": [
       "Rectangle with 3cm and 4cm long edges"
      ]
     },
     "execution_count": 83,
     "metadata": {},
     "output_type": "execute_result"
    }
   ],
   "source": [
    "rect = Rectangle(3, 4)\n",
    "rect"
   ]
  },
  {
   "cell_type": "code",
   "execution_count": 84,
   "id": "a3f8b5ee",
   "metadata": {},
   "outputs": [
    {
     "name": "stdout",
     "output_type": "stream",
     "text": [
      "Square is initiated with 4cm length\n",
      "Rectangle is initiated with 4cm length and 4cm width\n"
     ]
    },
    {
     "data": {
      "text/plain": [
       "Square with 4cm and 4cm long edges"
      ]
     },
     "execution_count": 84,
     "metadata": {},
     "output_type": "execute_result"
    }
   ],
   "source": [
    "class Square(Rectangle):\n",
    "    \n",
    "    def __init__(self, length):\n",
    "        print(f\"Square is initiated with {length}cm length\")\n",
    "        super().__init__(length, length)\n",
    "\n",
    "squ = Square(4)\n",
    "squ"
   ]
  },
  {
   "cell_type": "code",
   "execution_count": 85,
   "id": "f0858f3e",
   "metadata": {},
   "outputs": [
    {
     "data": {
      "text/plain": [
       "16"
      ]
     },
     "execution_count": 85,
     "metadata": {},
     "output_type": "execute_result"
    }
   ],
   "source": [
    "squ.area()"
   ]
  },
  {
   "cell_type": "code",
   "execution_count": 88,
   "id": "554ff573",
   "metadata": {},
   "outputs": [],
   "source": [
    "class SurfaceArea_Mixin:\n",
    "    def surface_area(self):\n",
    "        surface = 0\n",
    "        for shape in self.consists_of:\n",
    "            print(f\"name: {shape.__name__} A: {(area:= shape.area(self))}\")\n",
    "            surface += area\n",
    "        return surface\n",
    "    \n",
    "class Quader(Square, Rectangle, SurfaceArea_Mixin):\n",
    "    \n",
    "    def __init__(self, length, width):\n",
    "        self.width = width\n",
    "        self.length = length\n",
    "        self.consists_of = [Rectangle, Rectangle, Rectangle, Rectangle, Square, Square]\n",
    "    \n",
    "    \n",
    "    "
   ]
  },
  {
   "cell_type": "code",
   "execution_count": 89,
   "id": "5b6eb2dc",
   "metadata": {},
   "outputs": [
    {
     "name": "stdout",
     "output_type": "stream",
     "text": [
      "name: Rectangle A: 30\n",
      "name: Rectangle A: 30\n",
      "name: Rectangle A: 30\n",
      "name: Rectangle A: 30\n",
      "name: Square A: 30\n",
      "name: Square A: 30\n"
     ]
    },
    {
     "data": {
      "text/plain": [
       "180"
      ]
     },
     "execution_count": 89,
     "metadata": {},
     "output_type": "execute_result"
    }
   ],
   "source": [
    "quad = Quader(5, 6)\n",
    "quad.surface_area()"
   ]
  },
  {
   "cell_type": "code",
   "execution_count": null,
   "id": "5da969b2",
   "metadata": {},
   "outputs": [],
   "source": []
  }
 ],
 "metadata": {
  "kernelspec": {
   "display_name": "Python 3 (ipykernel)",
   "language": "python",
   "name": "python3"
  },
  "language_info": {
   "codemirror_mode": {
    "name": "ipython",
    "version": 3
   },
   "file_extension": ".py",
   "mimetype": "text/x-python",
   "name": "python",
   "nbconvert_exporter": "python",
   "pygments_lexer": "ipython3",
   "version": "3.9.12"
  }
 },
 "nbformat": 4,
 "nbformat_minor": 5
}
