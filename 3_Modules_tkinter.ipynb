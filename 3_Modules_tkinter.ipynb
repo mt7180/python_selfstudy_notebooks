{
 "cells": [
  {
   "cell_type": "code",
   "execution_count": 1,
   "id": "28a2bf00",
   "metadata": {},
   "outputs": [],
   "source": [
    "from tkinter import *\n",
    "fields = 'Last Name', 'First Name', 'Job', 'Country'\n",
    "\n",
    "def fetch(entries):\n",
    "   for entry in entries:\n",
    "      field = entry[0]\n",
    "      text  = entry[1].get()\n",
    "      print('%s: \"%s\"' % (field, text)) \n",
    "\n",
    "def makeform(root, fields):\n",
    "   entries = []\n",
    "   for field in fields:\n",
    "      row = Frame(root)\n",
    "      lab = Label(row, width=15, text=field, anchor='w')\n",
    "      ent = Entry(row)\n",
    "      row.pack(side=TOP, fill=X, padx=5, pady=5)\n",
    "      lab.pack(side=LEFT)\n",
    "      ent.pack(side=RIGHT, expand=YES, fill=X)\n",
    "      entries.append((field, ent))\n",
    "   return entries\n",
    "\n",
    "if __name__ == '__main__':\n",
    "   root = Tk()\n",
    "   ents = makeform(root, fields)\n",
    "   root.bind('<Return>', (lambda event, e=ents: fetch(e)))   \n",
    "   b1 = Button(root, text='Show',\n",
    "          command=(lambda e=ents: fetch(e)))\n",
    "   b1.pack(side=LEFT, padx=5, pady=5)\n",
    "   b2 = Button(root, text='Quit', command=root.quit)\n",
    "   b2.pack(side=LEFT, padx=5, pady=5)\n",
    "   root.mainloop()"
   ]
  },
  {
   "cell_type": "code",
   "execution_count": null,
   "id": "6466e671",
   "metadata": {},
   "outputs": [],
   "source": []
  }
 ],
 "metadata": {
  "kernelspec": {
   "display_name": "Python 3 (ipykernel)",
   "language": "python",
   "name": "python3"
  },
  "language_info": {
   "codemirror_mode": {
    "name": "ipython",
    "version": 3
   },
   "file_extension": ".py",
   "mimetype": "text/x-python",
   "name": "python",
   "nbconvert_exporter": "python",
   "pygments_lexer": "ipython3",
   "version": "3.9.12"
  }
 },
 "nbformat": 4,
 "nbformat_minor": 5
}
